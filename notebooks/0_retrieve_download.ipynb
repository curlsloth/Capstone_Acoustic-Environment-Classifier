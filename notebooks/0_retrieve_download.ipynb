{
 "cells": [
  {
   "cell_type": "code",
   "execution_count": 34,
   "id": "704caba3",
   "metadata": {},
   "outputs": [
    {
     "data": {
      "text/plain": [
       "'https://www.youtube.com/watch?v=Sz_ZbpBvJ8A'"
      ]
     },
     "execution_count": 34,
     "metadata": {},
     "output_type": "execute_result"
    }
   ],
   "source": [
    "# https://github.com/alexmercerind/youtube-search-python\n",
    "from youtubesearchpython import *\n",
    "\n",
    "customSearch = CustomSearch('city+soundscape', VideoSortOrder.relevance, limit = 10)\n",
    "\n",
    "customSearch.result()['result'][1]['link']"
   ]
  },
  {
   "cell_type": "code",
   "execution_count": 33,
   "id": "1d73308e",
   "metadata": {},
   "outputs": [
    {
     "data": {
      "text/plain": [
       "'https://www.youtube.com/watch?v=qRTVg8HHzUo'"
      ]
     },
     "execution_count": 33,
     "metadata": {},
     "output_type": "execute_result"
    }
   ],
   "source": [
    "customSearch.result()['result'][1]['link']"
   ]
  },
  {
   "cell_type": "code",
   "execution_count": 13,
   "id": "bbd5f2d2",
   "metadata": {},
   "outputs": [
    {
     "data": {
      "text/plain": [
       "youtubesearchpython.search.CustomSearch"
      ]
     },
     "execution_count": 13,
     "metadata": {},
     "output_type": "execute_result"
    }
   ],
   "source": [
    "CustomSearch(VideoSortOrder.relevance)"
   ]
  },
  {
   "cell_type": "code",
   "execution_count": null,
   "id": "d90fcbdb",
   "metadata": {},
   "outputs": [],
   "source": []
  }
 ],
 "metadata": {
  "kernelspec": {
   "display_name": "Python 3 (ipykernel)",
   "language": "python",
   "name": "python3"
  },
  "language_info": {
   "codemirror_mode": {
    "name": "ipython",
    "version": 3
   },
   "file_extension": ".py",
   "mimetype": "text/x-python",
   "name": "python",
   "nbconvert_exporter": "python",
   "pygments_lexer": "ipython3",
   "version": "3.8.13"
  }
 },
 "nbformat": 4,
 "nbformat_minor": 5
}
