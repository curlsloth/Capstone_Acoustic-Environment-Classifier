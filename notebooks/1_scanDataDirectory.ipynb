{
 "cells": [
  {
   "cell_type": "code",
   "execution_count": 81,
   "id": "473666ec",
   "metadata": {},
   "outputs": [],
   "source": [
    "import glob\n",
    "\n",
    "nature_file_list = []\n",
    "nature_file_list += glob.glob('../data/raw/AmbisonicSoundLibrary/nature/*')\n",
    "nature_file_list += glob.glob('../data/raw/GoogleAudioSet/Outside, rural or natural/*')\n",
    "nature_file_list += glob.glob('../data/raw/youtube/NatureSoundscapes/*')\n",
    "nature_file_list += glob.glob('../data/raw/youtube/NomadicAmbience_nature/*')\n",
    "\n",
    "city_file_list = []\n",
    "city_file_list += glob.glob('../data/raw/GoogleAudioSet/Outside, urban or manmade/*')\n",
    "city_file_list += glob.glob('../data/raw/youtube/NomadicAmbience_city/*')\n",
    "\n",
    "# as there are too many files in SONYC, so only a few are sampled\n",
    "from random import seed, sample\n",
    "seed(23)\n",
    "SONYC_file_list = sample(glob.glob('../data/raw/SONYC/**/*.*', recursive=True),600)\n",
    "city_file_list += SONYC_file_list\n"
   ]
  },
  {
   "cell_type": "code",
   "execution_count": 82,
   "id": "97d2bec3",
   "metadata": {},
   "outputs": [
    {
     "data": {
      "text/plain": [
       "996"
      ]
     },
     "execution_count": 82,
     "metadata": {},
     "output_type": "execute_result"
    }
   ],
   "source": [
    "len(nature_file_list)"
   ]
  },
  {
   "cell_type": "code",
   "execution_count": 83,
   "id": "23d17d4c",
   "metadata": {},
   "outputs": [
    {
     "data": {
      "text/plain": [
       "988"
      ]
     },
     "execution_count": 83,
     "metadata": {},
     "output_type": "execute_result"
    }
   ],
   "source": [
    "len(city_file_list)"
   ]
  },
  {
   "cell_type": "code",
   "execution_count": null,
   "id": "6bd6c3fa",
   "metadata": {},
   "outputs": [],
   "source": []
  }
 ],
 "metadata": {
  "kernelspec": {
   "display_name": "Python 3 (ipykernel)",
   "language": "python",
   "name": "python3"
  },
  "language_info": {
   "codemirror_mode": {
    "name": "ipython",
    "version": 3
   },
   "file_extension": ".py",
   "mimetype": "text/x-python",
   "name": "python",
   "nbconvert_exporter": "python",
   "pygments_lexer": "ipython3",
   "version": "3.8.13"
  }
 },
 "nbformat": 4,
 "nbformat_minor": 5
}
