{
 "cells": [
  {
   "cell_type": "code",
   "execution_count": 1,
   "id": "6e748249",
   "metadata": {},
   "outputs": [
    {
     "name": "stderr",
     "output_type": "stream",
     "text": [
      "2023-02-24 10:20:31.687731: I tensorflow/core/platform/cpu_feature_guard.cc:193] This TensorFlow binary is optimized with oneAPI Deep Neural Network Library (oneDNN) to use the following CPU instructions in performance-critical operations:  SSE4.1 SSE4.2 AVX AVX2 AVX512F AVX512_VNNI FMA\n",
      "To enable them in other operations, rebuild TensorFlow with the appropriate compiler flags.\n",
      "2023-02-24 10:20:35.764980: I tensorflow/core/platform/cpu_feature_guard.cc:193] This TensorFlow binary is optimized with oneAPI Deep Neural Network Library (oneDNN) to use the following CPU instructions in performance-critical operations:  SSE4.1 SSE4.2 AVX AVX2 AVX512F AVX512_VNNI FMA\n",
      "To enable them in other operations, rebuild TensorFlow with the appropriate compiler flags.\n"
     ]
    }
   ],
   "source": [
    "import os\n",
    "\n",
    "from IPython import display\n",
    "import matplotlib.pyplot as plt\n",
    "import numpy as np\n",
    "import pandas as pd\n",
    "import random as python_random\n",
    "\n",
    "import tensorflow as tf\n",
    "import tensorflow_hub as hub\n",
    "\n",
    "yamnet_model_handle = 'https://tfhub.dev/google/yamnet/1'\n",
    "yamnet_model = hub.load(yamnet_model_handle) # if there's an \"SavedModel file does not exist at:\", delete that folder and rerun it"
   ]
  },
  {
   "cell_type": "code",
   "execution_count": 24,
   "id": "71d579e8",
   "metadata": {},
   "outputs": [],
   "source": [
    "df_all = pd.read_csv('../train_val_test_sgkf_Feb24.csv', index_col=0)\n",
    "df_all"
   ]
  },
  {
   "cell_type": "markdown",
   "id": "9dfc4905",
   "metadata": {},
   "source": [
    "# Convert data into TF format"
   ]
  },
  {
   "cell_type": "code",
   "execution_count": 25,
   "id": "341a8a27",
   "metadata": {},
   "outputs": [
    {
     "data": {
      "text/plain": [
       "(TensorSpec(shape=(), dtype=tf.string, name=None),\n",
       " TensorSpec(shape=(), dtype=tf.int64, name=None),\n",
       " TensorSpec(shape=(), dtype=tf.int64, name=None))"
      ]
     },
     "execution_count": 25,
     "metadata": {},
     "output_type": "execute_result"
    }
   ],
   "source": [
    "filenames = df_all['file']\n",
    "targets = df_all['category']\n",
    "folds = df_all['fold']\n",
    "\n",
    "main_ds = tf.data.Dataset.from_tensor_slices((filenames, targets, folds))\n",
    "main_ds.element_spec"
   ]
  },
  {
   "cell_type": "code",
   "execution_count": 26,
   "id": "a936059a",
   "metadata": {
    "scrolled": true
   },
   "outputs": [
    {
     "name": "stdout",
     "output_type": "stream",
     "text": [
      "short length: 151461\n",
      "short length: 148006\n",
      "short length: 159999\n",
      "short length: 153242\n",
      "short length: 159880\n",
      "short length: 151683\n",
      "short length: 159880\n",
      "short length: 159997\n",
      "short length: 146099\n",
      "short length: 159880\n",
      "short length: 157848\n",
      "short length: 159993\n",
      "short length: 156480\n",
      "short length: 159880\n",
      "short length: 159992\n",
      "short length: 153357\n",
      "short length: 67456\n"
     ]
    }
   ],
   "source": [
    "def load_wav_pkl(filename, wav_label='y'):\n",
    "    import pickle\n",
    "    # open a file, where you stored the pickled data\n",
    "    file = open(filename, 'rb')\n",
    "\n",
    "    # dump information to that file\n",
    "    output = pickle.load(file)\n",
    "    wav = output[wav_label]\n",
    "\n",
    "    # close the file\n",
    "    file.close()\n",
    "    return wav\n",
    "\n",
    "wav_list = []\n",
    "for index, row in df_all.iterrows():\n",
    "    if len(load_wav_pkl(row['file'])) == 160000:\n",
    "        wav_list.append(load_wav_pkl(row['file']))\n",
    "    else: # if the waveform is shorter (for unknown reason)\n",
    "        temp_wav = load_wav_pkl(row['file'])\n",
    "        print('short length: '+str(len(temp_wav)))\n",
    "        wav_list.append(np.pad(temp_wav, (0,160000-len(temp_wav)),'mean')) # zero-padding at the end to 160000\n",
    "\n",
    "wav_bg_list = []\n",
    "for index, row in df_all.iterrows():\n",
    "    if len(load_wav_pkl(row['file'], 'bg_y')) == 160000:\n",
    "        wav_bg_list.append(load_wav_pkl(row['file'], 'bg_y'))\n",
    "    else: # if the waveform is shorter (for unknown reason)\n",
    "        temp_wav = load_wav_pkl(row['file'], 'bg_y')\n",
    "#         print('short length: '+str(len(temp_wav)))\n",
    "        wav_bg_list.append(np.pad(temp_wav, (0,160000-len(temp_wav)),'mean')) # zero-padding at the end to 160000\n",
    "\n",
    "wav_fg_list = []\n",
    "for index, row in df_all.iterrows():\n",
    "    if len(load_wav_pkl(row['file'], 'fg_y')) == 160000:\n",
    "        wav_fg_list.append(load_wav_pkl(row['file'], 'fg_y'))\n",
    "    else: # if the waveform is shorter (for unknown reason)\n",
    "        temp_wav = load_wav_pkl(row['file'], 'fg_y')\n",
    "#         print('short length: '+str(len(temp_wav)))\n",
    "        wav_fg_list.append(np.pad(temp_wav, (0,160000-len(temp_wav)),'mean')) # zero-padding at the end to 160000"
   ]
  },
  {
   "cell_type": "code",
   "execution_count": 27,
   "id": "084adfac",
   "metadata": {},
   "outputs": [],
   "source": [
    "main_ds = tf.data.Dataset.from_tensor_slices((np.stack(wav_list, axis = 0), df_all['category'], df_all['fold'], df_all['weight']))\n",
    "main_ds_fg = tf.data.Dataset.from_tensor_slices((np.stack(wav_fg_list, axis = 0), df_all['category'], df_all['fold'], df_all['weight']))\n",
    "main_ds_bg = tf.data.Dataset.from_tensor_slices((np.stack(wav_bg_list, axis = 0), df_all['category'], df_all['fold'], df_all['weight']))\n",
    "\n",
    "\n",
    "# applies the embedding extraction model to a wav data\n",
    "def extract_embedding_weight(wav_data, label, fold, weight):\n",
    "    # run YAMNet to extract embedding from the wav data\n",
    "    scores, embeddings, spectrogram = yamnet_model(wav_data)\n",
    "    num_embeddings = tf.shape(embeddings)[0]\n",
    "    return (embeddings,\n",
    "            tf.repeat(label, num_embeddings),\n",
    "            tf.repeat(fold, num_embeddings),\n",
    "            tf.repeat(weight, num_embeddings))\n",
    "\n",
    "# extract embedding\n",
    "main_ds = main_ds.map(extract_embedding_weight).unbatch()\n",
    "main_ds_fg = main_ds_fg.map(extract_embedding_weight).unbatch()\n",
    "main_ds_bg = main_ds_bg.map(extract_embedding_weight).unbatch()"
   ]
  },
  {
   "cell_type": "code",
   "execution_count": 28,
   "id": "74a0f925",
   "metadata": {},
   "outputs": [],
   "source": [
    "def split_ds(main_ds):\n",
    "    cached_ds = main_ds.cache()\n",
    "    train_ds = cached_ds.filter(lambda embedding, label, fold, weight: fold < 8)\n",
    "    val_ds = cached_ds.filter(lambda embedding, label, fold, weight: fold == 8)\n",
    "    test_ds = cached_ds.filter(lambda embedding, label, fold, weight: fold == 9)\n",
    "\n",
    "    # remove the folds column now that it's not needed anymore\n",
    "    remove_fold_column = lambda embedding, label, fold, weight: (embedding, label, weight)\n",
    "\n",
    "    train_ds = train_ds.map(remove_fold_column)\n",
    "    val_ds = val_ds.map(remove_fold_column)\n",
    "    test_ds = test_ds.map(remove_fold_column)\n",
    "\n",
    "    train_ds = train_ds.cache().shuffle(1000).batch(32).prefetch(tf.data.AUTOTUNE)\n",
    "    val_ds = val_ds.cache().batch(32).prefetch(tf.data.AUTOTUNE)\n",
    "    test_ds = test_ds.cache().batch(32).prefetch(tf.data.AUTOTUNE)\n",
    "    \n",
    "    return train_ds, val_ds, test_ds"
   ]
  },
  {
   "cell_type": "code",
   "execution_count": 29,
   "id": "a9fe9487",
   "metadata": {},
   "outputs": [],
   "source": [
    "train_ds, val_ds, test_ds = split_ds(main_ds)\n",
    "train_ds_bg, val_ds_bg, test_ds_bg = split_ds(main_ds_bg)\n",
    "train_ds_fg, val_ds_fg, test_ds_fg = split_ds(main_ds_fg)"
   ]
  },
  {
   "cell_type": "markdown",
   "id": "afe243be",
   "metadata": {},
   "source": [
    "# Model of raw signal"
   ]
  },
  {
   "cell_type": "code",
   "execution_count": 30,
   "id": "efd43949",
   "metadata": {},
   "outputs": [
    {
     "name": "stdout",
     "output_type": "stream",
     "text": [
      "Model: \"raw_model\"\n",
      "_________________________________________________________________\n",
      " Layer (type)                Output Shape              Param #   \n",
      "=================================================================\n",
      " dropout (Dropout)           (None, 1024)              0         \n",
      "                                                                 \n",
      " dense (Dense)               (None, 512)               524800    \n",
      "                                                                 \n",
      " dense_1 (Dense)             (None, 2)                 1026      \n",
      "                                                                 \n",
      "=================================================================\n",
      "Total params: 525,826\n",
      "Trainable params: 525,826\n",
      "Non-trainable params: 0\n",
      "_________________________________________________________________\n"
     ]
    }
   ],
   "source": [
    "my_classes = ['city', 'nature']\n",
    "tf.keras.backend.clear_session()\n",
    "tf.random.set_seed(23)\n",
    "np.random.seed(23)\n",
    "python_random.seed(23)\n",
    "\n",
    "\n",
    "raw_model = tf.keras.Sequential([\n",
    "#     tf.keras.layers.Dropout(.5, input_shape=(1024,), name='input_embedding'),\n",
    "    tf.keras.layers.Input(shape=(1024), dtype=tf.float32,\n",
    "                          name='input_embedding'),\n",
    "    tf.keras.layers.Dropout(.5),\n",
    "    tf.keras.layers.Dense(512, activation='relu'),\n",
    "#     tf.keras.layers.Dense(32, activation='relu'),\n",
    "    tf.keras.layers.Dense(len(my_classes))\n",
    "], name='raw_model')\n",
    "\n",
    "raw_model.summary()"
   ]
  },
  {
   "cell_type": "code",
   "execution_count": 31,
   "id": "9f392d4b",
   "metadata": {},
   "outputs": [],
   "source": [
    "adam = tf.keras.optimizers.Adam(learning_rate=0.001)\n",
    "\n",
    "raw_model.compile(loss=tf.keras.losses.SparseCategoricalCrossentropy(from_logits=True),\n",
    "                  optimizer=adam,\n",
    "#                     optimizer=\"adam\",\n",
    "                  weighted_metrics=[],\n",
    "                    metrics=['accuracy'])\n",
    "\n",
    "# callback will be used in the other models below too\n",
    "callback = tf.keras.callbacks.EarlyStopping(monitor='loss',\n",
    "                                            patience=3,\n",
    "                                            restore_best_weights=True)"
   ]
  },
  {
   "cell_type": "code",
   "execution_count": 32,
   "id": "c0259ebe",
   "metadata": {},
   "outputs": [
    {
     "name": "stdout",
     "output_type": "stream",
     "text": [
      "Epoch 1/20\n",
      "2848/2848 [==============================] - 402s 139ms/step - loss: 0.0010 - accuracy: 0.8265 - val_loss: 0.0013 - val_accuracy: 0.8256\n",
      "Epoch 2/20\n",
      "2848/2848 [==============================] - 13s 5ms/step - loss: 9.5162e-04 - accuracy: 0.8424 - val_loss: 0.0013 - val_accuracy: 0.8190\n",
      "Epoch 3/20\n",
      "2848/2848 [==============================] - 13s 5ms/step - loss: 9.3826e-04 - accuracy: 0.8437 - val_loss: 0.0013 - val_accuracy: 0.8305\n",
      "Epoch 4/20\n",
      "2848/2848 [==============================] - 13s 4ms/step - loss: 8.8401e-04 - accuracy: 0.8523 - val_loss: 0.0014 - val_accuracy: 0.8495\n",
      "Epoch 5/20\n",
      "2848/2848 [==============================] - 13s 5ms/step - loss: 8.4513e-04 - accuracy: 0.8553 - val_loss: 0.0014 - val_accuracy: 0.8381\n",
      "Epoch 6/20\n",
      "2848/2848 [==============================] - 14s 5ms/step - loss: 8.2753e-04 - accuracy: 0.8579 - val_loss: 0.0015 - val_accuracy: 0.8451\n",
      "Epoch 7/20\n",
      "2848/2848 [==============================] - 14s 5ms/step - loss: 8.0480e-04 - accuracy: 0.8611 - val_loss: 0.0015 - val_accuracy: 0.8566\n",
      "Epoch 8/20\n",
      "2848/2848 [==============================] - 13s 5ms/step - loss: 8.1599e-04 - accuracy: 0.8607 - val_loss: 0.0015 - val_accuracy: 0.8408\n",
      "Epoch 9/20\n",
      "2848/2848 [==============================] - 14s 5ms/step - loss: 7.9019e-04 - accuracy: 0.8623 - val_loss: 0.0015 - val_accuracy: 0.8526\n",
      "Epoch 10/20\n",
      "2848/2848 [==============================] - 14s 5ms/step - loss: 7.8234e-04 - accuracy: 0.8630 - val_loss: 0.0015 - val_accuracy: 0.8420\n",
      "Epoch 11/20\n",
      "2848/2848 [==============================] - 16s 5ms/step - loss: 7.8076e-04 - accuracy: 0.8650 - val_loss: 0.0014 - val_accuracy: 0.8277\n",
      "Epoch 12/20\n",
      "2848/2848 [==============================] - 13s 5ms/step - loss: 7.6475e-04 - accuracy: 0.8689 - val_loss: 0.0015 - val_accuracy: 0.8454\n",
      "Epoch 13/20\n",
      "2848/2848 [==============================] - 14s 5ms/step - loss: 7.5917e-04 - accuracy: 0.8682 - val_loss: 0.0015 - val_accuracy: 0.8471\n",
      "Epoch 14/20\n",
      "2848/2848 [==============================] - 15s 5ms/step - loss: 7.5786e-04 - accuracy: 0.8705 - val_loss: 0.0015 - val_accuracy: 0.8425\n",
      "Epoch 15/20\n",
      "2848/2848 [==============================] - 15s 5ms/step - loss: 7.4867e-04 - accuracy: 0.8704 - val_loss: 0.0014 - val_accuracy: 0.8594\n",
      "Epoch 16/20\n",
      "2848/2848 [==============================] - 15s 5ms/step - loss: 7.4750e-04 - accuracy: 0.8711 - val_loss: 0.0015 - val_accuracy: 0.8645\n",
      "Epoch 17/20\n",
      "2848/2848 [==============================] - 14s 5ms/step - loss: 7.2486e-04 - accuracy: 0.8714 - val_loss: 0.0015 - val_accuracy: 0.8556\n",
      "Epoch 18/20\n",
      "2848/2848 [==============================] - 13s 5ms/step - loss: 7.3366e-04 - accuracy: 0.8737 - val_loss: 0.0014 - val_accuracy: 0.8429\n",
      "Epoch 19/20\n",
      "2848/2848 [==============================] - 13s 5ms/step - loss: 7.2360e-04 - accuracy: 0.8738 - val_loss: 0.0015 - val_accuracy: 0.8407\n",
      "Epoch 20/20\n",
      "2848/2848 [==============================] - 15s 5ms/step - loss: 7.2937e-04 - accuracy: 0.8737 - val_loss: 0.0015 - val_accuracy: 0.8407\n"
     ]
    }
   ],
   "source": [
    "history = raw_model.fit(train_ds,\n",
    "                       epochs=20,\n",
    "                       validation_data=val_ds,\n",
    "                       callbacks=callback)"
   ]
  },
  {
   "cell_type": "code",
   "execution_count": 33,
   "id": "d05995ef",
   "metadata": {},
   "outputs": [
    {
     "name": "stdout",
     "output_type": "stream",
     "text": [
      "353/353 [==============================] - 7s 9ms/step - loss: 0.0013 - accuracy: 0.8501\n",
      "Loss:  0.001266126288101077\n",
      "Accuracy:  0.8500886559486389\n"
     ]
    }
   ],
   "source": [
    "# this is the accuracy per YAMNet sample, not the accuracy per audio file\n",
    "loss, accuracy = raw_model.evaluate(test_ds)\n",
    "\n",
    "print(\"Loss: \", loss)\n",
    "print(\"Accuracy: \", accuracy)"
   ]
  },
  {
   "cell_type": "code",
   "execution_count": 34,
   "id": "3ec330d6",
   "metadata": {},
   "outputs": [],
   "source": [
    "def acc_by_audio(model, test_ds, y_true):\n",
    "    n_sample_per_audio = 20\n",
    "    y_pred = model.predict(test_ds)\n",
    "    y_reshaped = y_pred.reshape(-1, n_sample_per_audio, 2) # reshape to audio*sample*binary_prediction\n",
    "    y_pred_by_row = y_reshaped.mean(axis=1).argmax(axis=1)\n",
    "    from sklearn.metrics import accuracy_score\n",
    "    return accuracy_score(y_true, y_pred_by_row), y_pred_by_row\n"
   ]
  },
  {
   "cell_type": "code",
   "execution_count": 35,
   "id": "db50fa9e",
   "metadata": {},
   "outputs": [
    {
     "name": "stdout",
     "output_type": "stream",
     "text": [
      "353/353 [==============================] - 1s 2ms/step\n",
      "0.898936170212766\n"
     ]
    }
   ],
   "source": [
    "test_df = df_all[df_all['fold']==9]\n",
    "acc, y_pred = acc_by_audio(raw_model, test_ds, y_true = test_df['category'])\n",
    "print(acc)"
   ]
  },
  {
   "cell_type": "code",
   "execution_count": 36,
   "id": "279458f0",
   "metadata": {},
   "outputs": [
    {
     "name": "stderr",
     "output_type": "stream",
     "text": [
      "/var/folders/fw/slnm06yn15lgwlcg_7jpt3t00000gn/T/ipykernel_28291/2037315006.py:2: SettingWithCopyWarning: \n",
      "A value is trying to be set on a copy of a slice from a DataFrame.\n",
      "Try using .loc[row_indexer,col_indexer] = value instead\n",
      "\n",
      "See the caveats in the documentation: https://pandas.pydata.org/pandas-docs/stable/user_guide/indexing.html#returning-a-view-versus-a-copy\n",
      "  test_df['pred'] = y_pred\n"
     ]
    }
   ],
   "source": [
    "from sklearn.metrics import accuracy_score\n",
    "test_df['pred'] = y_pred\n",
    "acc_source = test_df.groupby(['source']).apply(lambda x: accuracy_score(x['category'], x['pred']))"
   ]
  },
  {
   "cell_type": "code",
   "execution_count": 37,
   "id": "5ce453d0",
   "metadata": {},
   "outputs": [
    {
     "data": {
      "image/png": "[encoded data removed]",
      "text/plain": [
       "<Figure size 640x480 with 1 Axes>"
      ]
     },
     "metadata": {},
     "output_type": "display_data"
    }
   ],
   "source": [
    "ax = acc_source.plot.barh()\n",
    "ax.axvline(x=0.5, color='k', linestyle='--')\n",
    "ax.set_xlim(0,1)\n",
    "plt.show()"
   ]
  },
  {
   "cell_type": "markdown",
   "id": "64a22631",
   "metadata": {},
   "source": [
    "********* below has not been revised (Feb 24)"
   ]
  },
  {
   "cell_type": "markdown",
   "id": "7240d839",
   "metadata": {},
   "source": [
    "# Model of background signal"
   ]
  },
  {
   "cell_type": "code",
   "execution_count": 25,
   "id": "40f53bd0",
   "metadata": {},
   "outputs": [
    {
     "name": "stdout",
     "output_type": "stream",
     "text": [
      "Model: \"bg_model\"\n",
      "_________________________________________________________________\n",
      " Layer (type)                Output Shape              Param #   \n",
      "=================================================================\n",
      " dense (Dense)               (None, 128)               131200    \n",
      "                                                                 \n",
      " dense_1 (Dense)             (None, 2)                 258       \n",
      "                                                                 \n",
      "=================================================================\n",
      "Total params: 131,458\n",
      "Trainable params: 131,458\n",
      "Non-trainable params: 0\n",
      "_________________________________________________________________\n"
     ]
    }
   ],
   "source": [
    "my_classes = ['city', 'nature']\n",
    "tf.keras.backend.clear_session()\n",
    "tf.random.set_seed(23)\n",
    "np.random.seed(23)\n",
    "python_random.seed(23)\n",
    "\n",
    "\n",
    "bg_model = tf.keras.Sequential([\n",
    "    tf.keras.layers.Input(shape=(1024), dtype=tf.float32,\n",
    "                          name='input_embedding'),\n",
    "    tf.keras.layers.Dense(128, activation='relu'),\n",
    "    tf.keras.layers.Dense(len(my_classes))\n",
    "], name='bg_model')\n",
    "\n",
    "bg_model.summary()"
   ]
  },
  {
   "cell_type": "code",
   "execution_count": 26,
   "id": "acc05654",
   "metadata": {},
   "outputs": [
    {
     "name": "stdout",
     "output_type": "stream",
     "text": [
      "Epoch 1/20\n",
      "1247/1247 [==============================] - 172s 134ms/step - loss: 0.2736 - accuracy: 0.8884 - val_loss: 0.2740 - val_accuracy: 0.8830\n",
      "Epoch 2/20\n",
      "1247/1247 [==============================] - 2s 2ms/step - loss: 0.2296 - accuracy: 0.9057 - val_loss: 0.2999 - val_accuracy: 0.8719\n",
      "Epoch 3/20\n",
      "1247/1247 [==============================] - 2s 2ms/step - loss: 0.2091 - accuracy: 0.9152 - val_loss: 0.3025 - val_accuracy: 0.8772\n",
      "Epoch 4/20\n",
      "1247/1247 [==============================] - 2s 2ms/step - loss: 0.1887 - accuracy: 0.9234 - val_loss: 0.3167 - val_accuracy: 0.8791\n",
      "Epoch 5/20\n",
      "1247/1247 [==============================] - 2s 2ms/step - loss: 0.1739 - accuracy: 0.9311 - val_loss: 0.3085 - val_accuracy: 0.8906\n",
      "Epoch 6/20\n",
      "1247/1247 [==============================] - 2s 2ms/step - loss: 0.1577 - accuracy: 0.9373 - val_loss: 0.3286 - val_accuracy: 0.8800\n",
      "Epoch 7/20\n",
      "1247/1247 [==============================] - 4s 3ms/step - loss: 0.1488 - accuracy: 0.9421 - val_loss: 0.3638 - val_accuracy: 0.8774\n",
      "Epoch 8/20\n",
      "1247/1247 [==============================] - 3s 2ms/step - loss: 0.1377 - accuracy: 0.9478 - val_loss: 0.3629 - val_accuracy: 0.8838\n",
      "Epoch 9/20\n",
      "1247/1247 [==============================] - 4s 3ms/step - loss: 0.1242 - accuracy: 0.9526 - val_loss: 0.3684 - val_accuracy: 0.8813\n",
      "Epoch 10/20\n",
      "1247/1247 [==============================] - 3s 3ms/step - loss: 0.1171 - accuracy: 0.9561 - val_loss: 0.3559 - val_accuracy: 0.8951\n",
      "Epoch 11/20\n",
      "1247/1247 [==============================] - 3s 2ms/step - loss: 0.1086 - accuracy: 0.9596 - val_loss: 0.3735 - val_accuracy: 0.8885\n",
      "Epoch 12/20\n",
      "1247/1247 [==============================] - 3s 2ms/step - loss: 0.1041 - accuracy: 0.9623 - val_loss: 0.3839 - val_accuracy: 0.8932\n",
      "Epoch 13/20\n",
      "1247/1247 [==============================] - 3s 2ms/step - loss: 0.0987 - accuracy: 0.9641 - val_loss: 0.3936 - val_accuracy: 0.8960\n",
      "Epoch 14/20\n",
      "1247/1247 [==============================] - 3s 2ms/step - loss: 0.0867 - accuracy: 0.9681 - val_loss: 0.4013 - val_accuracy: 0.8917\n",
      "Epoch 15/20\n",
      "1247/1247 [==============================] - 3s 2ms/step - loss: 0.0857 - accuracy: 0.9706 - val_loss: 0.4166 - val_accuracy: 0.8898\n",
      "Epoch 16/20\n",
      "1247/1247 [==============================] - 3s 2ms/step - loss: 0.0793 - accuracy: 0.9717 - val_loss: 0.4302 - val_accuracy: 0.8947\n",
      "Epoch 17/20\n",
      "1247/1247 [==============================] - 3s 2ms/step - loss: 0.0779 - accuracy: 0.9748 - val_loss: 0.4530 - val_accuracy: 0.8945\n",
      "Epoch 18/20\n",
      "1247/1247 [==============================] - 2s 2ms/step - loss: 0.0729 - accuracy: 0.9746 - val_loss: 0.8458 - val_accuracy: 0.8762\n",
      "Epoch 19/20\n",
      "1247/1247 [==============================] - 2s 2ms/step - loss: 0.0701 - accuracy: 0.9785 - val_loss: 0.4737 - val_accuracy: 0.8934\n",
      "Epoch 20/20\n",
      "1247/1247 [==============================] - 2s 2ms/step - loss: 0.0644 - accuracy: 0.9798 - val_loss: 0.5120 - val_accuracy: 0.8855\n"
     ]
    }
   ],
   "source": [
    "bg_model.compile(loss=tf.keras.losses.SparseCategoricalCrossentropy(from_logits=True),\n",
    "                    optimizer=\"adam\",\n",
    "                    metrics=['accuracy'])\n",
    "\n",
    "history = bg_model.fit(train_ds_bg,\n",
    "                       epochs=20,\n",
    "                       validation_data=val_ds_bg,\n",
    "                       callbacks=callback)"
   ]
  },
  {
   "cell_type": "code",
   "execution_count": 27,
   "id": "298a1656",
   "metadata": {},
   "outputs": [
    {
     "name": "stdout",
     "output_type": "stream",
     "text": [
      "159/159 [==============================] - 2s 6ms/step - loss: 0.8430 - accuracy: 0.8387\n",
      "Loss:  0.8430272340774536\n",
      "Accuracy:  0.8387351632118225\n"
     ]
    }
   ],
   "source": [
    "loss, accuracy = bg_model.evaluate(test_ds_bg)\n",
    "\n",
    "print(\"Loss: \", loss)\n",
    "print(\"Accuracy: \", accuracy)"
   ]
  },
  {
   "cell_type": "code",
   "execution_count": 28,
   "id": "065702ba",
   "metadata": {},
   "outputs": [
    {
     "name": "stdout",
     "output_type": "stream",
     "text": [
      "159/159 [==============================] - 0s 973us/step\n",
      "0.8656126482213439\n"
     ]
    }
   ],
   "source": [
    "test_df = df_all[df_all['fold']==9]\n",
    "acc, y_pred = acc_by_audio(bg_model, test_ds_bg, y_true = test_df['category'])\n",
    "print(acc)"
   ]
  },
  {
   "cell_type": "code",
   "execution_count": 29,
   "id": "9afdab3e",
   "metadata": {},
   "outputs": [
    {
     "name": "stderr",
     "output_type": "stream",
     "text": [
      "/var/folders/fw/slnm06yn15lgwlcg_7jpt3t00000gn/T/ipykernel_88584/2037315006.py:2: SettingWithCopyWarning: \n",
      "A value is trying to be set on a copy of a slice from a DataFrame.\n",
      "Try using .loc[row_indexer,col_indexer] = value instead\n",
      "\n",
      "See the caveats in the documentation: https://pandas.pydata.org/pandas-docs/stable/user_guide/indexing.html#returning-a-view-versus-a-copy\n",
      "  test_df['pred'] = y_pred\n"
     ]
    }
   ],
   "source": [
    "from sklearn.metrics import accuracy_score\n",
    "test_df['pred'] = y_pred\n",
    "acc_source = test_df.groupby(['source']).apply(lambda x: accuracy_score(x['category'], x['pred']))"
   ]
  },
  {
   "cell_type": "code",
   "execution_count": 30,
   "id": "e03a7554",
   "metadata": {},
   "outputs": [
    {
     "data": {
      "image/png": "[encoded data removed]",
      "text/plain": [
       "<Figure size 640x480 with 1 Axes>"
      ]
     },
     "metadata": {},
     "output_type": "display_data"
    }
   ],
   "source": [
    "ax = acc_source.plot.barh()\n",
    "ax.axvline(x=0.5, color='k', linestyle='--')\n",
    "ax.set_xlim(0,1)\n",
    "plt.show()"
   ]
  },
  {
   "cell_type": "markdown",
   "id": "7cb5dd27",
   "metadata": {},
   "source": [
    "# Model of foreground signal"
   ]
  },
  {
   "cell_type": "code",
   "execution_count": 31,
   "id": "9c377256",
   "metadata": {},
   "outputs": [
    {
     "name": "stdout",
     "output_type": "stream",
     "text": [
      "Model: \"fg_model\"\n",
      "_________________________________________________________________\n",
      " Layer (type)                Output Shape              Param #   \n",
      "=================================================================\n",
      " dense (Dense)               (None, 128)               131200    \n",
      "                                                                 \n",
      " dense_1 (Dense)             (None, 2)                 258       \n",
      "                                                                 \n",
      "=================================================================\n",
      "Total params: 131,458\n",
      "Trainable params: 131,458\n",
      "Non-trainable params: 0\n",
      "_________________________________________________________________\n"
     ]
    }
   ],
   "source": [
    "my_classes = ['city', 'nature']\n",
    "tf.keras.backend.clear_session()\n",
    "tf.random.set_seed(23)\n",
    "np.random.seed(23)\n",
    "python_random.seed(23)\n",
    "\n",
    "\n",
    "fg_model = tf.keras.Sequential([\n",
    "    tf.keras.layers.Input(shape=(1024), dtype=tf.float32,\n",
    "                          name='input_embedding'),\n",
    "    tf.keras.layers.Dense(128, activation='relu'),\n",
    "    tf.keras.layers.Dense(len(my_classes))\n",
    "], name='fg_model')\n",
    "\n",
    "fg_model.summary()"
   ]
  },
  {
   "cell_type": "code",
   "execution_count": 32,
   "id": "57973000",
   "metadata": {},
   "outputs": [
    {
     "name": "stdout",
     "output_type": "stream",
     "text": [
      "Epoch 1/20\n",
      "1247/1247 [==============================] - 185s 145ms/step - loss: 0.5358 - accuracy: 0.7336 - val_loss: 0.5192 - val_accuracy: 0.7306\n",
      "Epoch 2/20\n",
      "1247/1247 [==============================] - 3s 2ms/step - loss: 0.4968 - accuracy: 0.7564 - val_loss: 0.5133 - val_accuracy: 0.7336\n",
      "Epoch 3/20\n",
      "1247/1247 [==============================] - 3s 3ms/step - loss: 0.4825 - accuracy: 0.7651 - val_loss: 0.5120 - val_accuracy: 0.7398\n",
      "Epoch 4/20\n",
      "1247/1247 [==============================] - 3s 3ms/step - loss: 0.4679 - accuracy: 0.7763 - val_loss: 0.5036 - val_accuracy: 0.7487\n",
      "Epoch 5/20\n",
      "1247/1247 [==============================] - 3s 3ms/step - loss: 0.4565 - accuracy: 0.7808 - val_loss: 0.4954 - val_accuracy: 0.7551\n",
      "Epoch 6/20\n",
      "1247/1247 [==============================] - 3s 2ms/step - loss: 0.4457 - accuracy: 0.7879 - val_loss: 0.4954 - val_accuracy: 0.7445\n",
      "Epoch 7/20\n",
      "1247/1247 [==============================] - 3s 3ms/step - loss: 0.4353 - accuracy: 0.7940 - val_loss: 0.4918 - val_accuracy: 0.7587\n",
      "Epoch 8/20\n",
      "1247/1247 [==============================] - 3s 2ms/step - loss: 0.4244 - accuracy: 0.8000 - val_loss: 0.5261 - val_accuracy: 0.7398\n",
      "Epoch 9/20\n",
      "1247/1247 [==============================] - 3s 3ms/step - loss: 0.4173 - accuracy: 0.8063 - val_loss: 0.5113 - val_accuracy: 0.7466\n",
      "Epoch 10/20\n",
      "1247/1247 [==============================] - 3s 3ms/step - loss: 0.4060 - accuracy: 0.8136 - val_loss: 0.5191 - val_accuracy: 0.7483\n",
      "Epoch 11/20\n",
      "1247/1247 [==============================] - 3s 2ms/step - loss: 0.3959 - accuracy: 0.8182 - val_loss: 0.5412 - val_accuracy: 0.7432\n",
      "Epoch 12/20\n",
      "1247/1247 [==============================] - 3s 2ms/step - loss: 0.3864 - accuracy: 0.8218 - val_loss: 0.5465 - val_accuracy: 0.7477\n",
      "Epoch 13/20\n",
      "1247/1247 [==============================] - 3s 2ms/step - loss: 0.3770 - accuracy: 0.8275 - val_loss: 0.5745 - val_accuracy: 0.7400\n",
      "Epoch 14/20\n",
      "1247/1247 [==============================] - 3s 3ms/step - loss: 0.3671 - accuracy: 0.8320 - val_loss: 0.5531 - val_accuracy: 0.7540\n",
      "Epoch 15/20\n",
      "1247/1247 [==============================] - 3s 2ms/step - loss: 0.3592 - accuracy: 0.8361 - val_loss: 0.5590 - val_accuracy: 0.7551\n",
      "Epoch 16/20\n",
      "1247/1247 [==============================] - 3s 3ms/step - loss: 0.3487 - accuracy: 0.8417 - val_loss: 0.5728 - val_accuracy: 0.7453\n",
      "Epoch 17/20\n",
      "1247/1247 [==============================] - 3s 3ms/step - loss: 0.3399 - accuracy: 0.8469 - val_loss: 0.5777 - val_accuracy: 0.7594\n",
      "Epoch 18/20\n",
      "1247/1247 [==============================] - 3s 3ms/step - loss: 0.3294 - accuracy: 0.8512 - val_loss: 0.5790 - val_accuracy: 0.7591\n",
      "Epoch 19/20\n",
      "1247/1247 [==============================] - 3s 3ms/step - loss: 0.3219 - accuracy: 0.8564 - val_loss: 0.5891 - val_accuracy: 0.7570\n",
      "Epoch 20/20\n",
      "1247/1247 [==============================] - 3s 3ms/step - loss: 0.3129 - accuracy: 0.8597 - val_loss: 0.6315 - val_accuracy: 0.7396\n"
     ]
    }
   ],
   "source": [
    "fg_model.compile(loss=tf.keras.losses.SparseCategoricalCrossentropy(from_logits=True),\n",
    "                    optimizer=\"adam\",\n",
    "                    metrics=['accuracy'])\n",
    "\n",
    "history = fg_model.fit(train_ds_fg,\n",
    "                       epochs=20,\n",
    "                       validation_data=val_ds_fg,\n",
    "                       callbacks=callback)"
   ]
  },
  {
   "cell_type": "code",
   "execution_count": 33,
   "id": "9fc48ed7",
   "metadata": {},
   "outputs": [
    {
     "name": "stdout",
     "output_type": "stream",
     "text": [
      "159/159 [==============================] - 3s 8ms/step - loss: 0.7408 - accuracy: 0.6982\n",
      "Loss:  0.7407734394073486\n",
      "Accuracy:  0.6982213258743286\n"
     ]
    }
   ],
   "source": [
    "loss, accuracy = fg_model.evaluate(test_ds_fg)\n",
    "\n",
    "print(\"Loss: \", loss)\n",
    "print(\"Accuracy: \", accuracy)"
   ]
  },
  {
   "cell_type": "code",
   "execution_count": 34,
   "id": "38a7902a",
   "metadata": {},
   "outputs": [
    {
     "name": "stdout",
     "output_type": "stream",
     "text": [
      "159/159 [==============================] - 0s 1ms/step\n",
      "0.7905138339920948\n"
     ]
    }
   ],
   "source": [
    "test_df = df_all[df_all['fold']==9]\n",
    "acc, y_pred = acc_by_audio(fg_model, test_ds_fg, y_true = test_df['category'])\n",
    "print(acc)"
   ]
  },
  {
   "cell_type": "code",
   "execution_count": 35,
   "id": "f53c7736",
   "metadata": {},
   "outputs": [
    {
     "name": "stderr",
     "output_type": "stream",
     "text": [
      "/var/folders/fw/slnm06yn15lgwlcg_7jpt3t00000gn/T/ipykernel_88584/2037315006.py:2: SettingWithCopyWarning: \n",
      "A value is trying to be set on a copy of a slice from a DataFrame.\n",
      "Try using .loc[row_indexer,col_indexer] = value instead\n",
      "\n",
      "See the caveats in the documentation: https://pandas.pydata.org/pandas-docs/stable/user_guide/indexing.html#returning-a-view-versus-a-copy\n",
      "  test_df['pred'] = y_pred\n"
     ]
    }
   ],
   "source": [
    "from sklearn.metrics import accuracy_score\n",
    "test_df['pred'] = y_pred\n",
    "acc_source = test_df.groupby(['source']).apply(lambda x: accuracy_score(x['category'], x['pred']))"
   ]
  },
  {
   "cell_type": "code",
   "execution_count": 36,
   "id": "ca65b9a0",
   "metadata": {},
   "outputs": [
    {
     "data": {
      "image/png": "[encoded data removed]",
      "text/plain": [
       "<Figure size 640x480 with 1 Axes>"
      ]
     },
     "metadata": {},
     "output_type": "display_data"
    }
   ],
   "source": [
    "ax = acc_source.plot.barh()\n",
    "ax.axvline(x=0.5, color='k', linestyle='--')\n",
    "ax.set_xlim(0,1)\n",
    "plt.show()"
   ]
  },
  {
   "cell_type": "markdown",
   "id": "659f696c",
   "metadata": {},
   "source": [
    "# Model of 3 signals"
   ]
  },
  {
   "cell_type": "code",
   "execution_count": 37,
   "id": "e2e3e932",
   "metadata": {},
   "outputs": [],
   "source": [
    "# my_classes = ['city', 'nature']\n",
    "# tf.keras.backend.clear_session()\n",
    "# tf.random.seta_seed(23)\n",
    "\n",
    "# all3_model = tf.keras.Sequential([\n",
    "#     tf.keras.layers.Input(shape=(3072), dtype=tf.float32,\n",
    "#                           name='input_embedding'),\n",
    "#     tf.keras.layers.Dense(1024, activation='relu'),\n",
    "# #     tf.keras.layers.Dense(1024, activation='relu'),\n",
    "#     tf.keras.layers.Dense(512, activation='relu'),\n",
    "#     tf.keras.layers.Dense(len(my_classes))\n",
    "# ], name='all3_model')\n",
    "\n",
    "# all3_model.summary()"
   ]
  },
  {
   "cell_type": "code",
   "execution_count": 38,
   "id": "9f113020",
   "metadata": {},
   "outputs": [],
   "source": [
    "# all3_model.compile(loss=tf.keras.losses.SparseCategoricalCrossentropy(from_logits=True),\n",
    "#                     optimizer=\"adam\",\n",
    "#                     metrics=['accuracy'])\n",
    "\n",
    "# # callback will be used in the other models below too\n",
    "# callback = tf.keras.callbacks.EarlyStopping(monitor='loss',\n",
    "#                                             patience=3,\n",
    "#                                             restore_best_weights=True)\n",
    "\n",
    "\n",
    "# history = all3_model.fit(train_ds_3,\n",
    "#                        epochs=20,\n",
    "#                        validation_data=val_ds_3,\n",
    "#                        callbacks=callback)"
   ]
  },
  {
   "cell_type": "code",
   "execution_count": 39,
   "id": "13af5fb4",
   "metadata": {},
   "outputs": [],
   "source": [
    "# loss, accuracy = all3_model.evaluate(test_ds_3)\n",
    "\n",
    "# print(\"Loss: \", loss)\n",
    "# print(\"Accuracy: \", accuracy)"
   ]
  },
  {
   "cell_type": "code",
   "execution_count": 40,
   "id": "0660f4af",
   "metadata": {},
   "outputs": [],
   "source": [
    "# test_df = df_all[df_all['fold']==9]\n",
    "# acc = acc_by_audio(all3_model, test_ds_3, y_true = test_df['category'])\n",
    "# print(acc)"
   ]
  },
  {
   "cell_type": "code",
   "execution_count": null,
   "id": "6f0db323",
   "metadata": {},
   "outputs": [],
   "source": []
  }
 ],
 "metadata": {
  "kernelspec": {
   "display_name": "Python 3 (ipykernel)",
   "language": "python",
   "name": "python3"
  },
  "language_info": {
   "codemirror_mode": {
    "name": "ipython",
    "version": 3
   },
   "file_extension": ".py",
   "mimetype": "text/x-python",
   "name": "python",
   "nbconvert_exporter": "python",
   "pygments_lexer": "ipython3",
   "version": "3.8.16"
  }
 },
 "nbformat": 4,
 "nbformat_minor": 5
}
