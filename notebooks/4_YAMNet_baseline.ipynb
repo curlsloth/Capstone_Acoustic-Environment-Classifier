{
 "cells": [
  {
   "cell_type": "code",
   "execution_count": 8,
   "id": "6e748249",
   "metadata": {},
   "outputs": [],
   "source": [
    "import os\n",
    "\n",
    "from IPython import display\n",
    "import matplotlib.pyplot as plt\n",
    "import numpy as np\n",
    "import pandas as pd\n",
    "import random as python_random\n",
    "\n",
    "import tensorflow as tf\n",
    "import tensorflow_hub as hub\n",
    "from tensorflow.keras import regularizers\n",
    "\n",
    "yamnet_model_handle = 'https://tfhub.dev/google/yamnet/1'\n",
    "yamnet_model = hub.load(yamnet_model_handle) # if there's an \"SavedModel file does not exist at:\", delete that folder and rerun it"
   ]
  },
  {
   "cell_type": "code",
   "execution_count": 2,
   "id": "71d579e8",
   "metadata": {},
   "outputs": [
    {
     "data": {
      "text/html": [
       "<div>\n",
       "<style scoped>\n",
       "    .dataframe tbody tr th:only-of-type {\n",
       "        vertical-align: middle;\n",
       "    }\n",
       "\n",
       "    .dataframe tbody tr th {\n",
       "        vertical-align: top;\n",
       "    }\n",
       "\n",
       "    .dataframe thead th {\n",
       "        text-align: right;\n",
       "    }\n",
       "</style>\n",
       "<table border=\"1\" class=\"dataframe\">\n",
       "  <thead>\n",
       "    <tr style=\"text-align: right;\">\n",
       "      <th></th>\n",
       "      <th>file</th>\n",
       "      <th>source</th>\n",
       "      <th>category</th>\n",
       "      <th>weight</th>\n",
       "      <th>file_group</th>\n",
       "      <th>fold</th>\n",
       "    </tr>\n",
       "  </thead>\n",
       "  <tbody>\n",
       "    <tr>\n",
       "      <th>0</th>\n",
       "      <td>../data/interim/SONYC/audio-4/00_017389.pkl</td>\n",
       "      <td>city_SONYC</td>\n",
       "      <td>1</td>\n",
       "      <td>0.000433</td>\n",
       "      <td>../data/interim/SONYC/audio-4/00_017389.pkl</td>\n",
       "      <td>7</td>\n",
       "    </tr>\n",
       "    <tr>\n",
       "      <th>1</th>\n",
       "      <td>../data/interim/SONYC/audio-13/01_017897.pkl</td>\n",
       "      <td>city_SONYC</td>\n",
       "      <td>1</td>\n",
       "      <td>0.000433</td>\n",
       "      <td>../data/interim/SONYC/audio-13/01_017897.pkl</td>\n",
       "      <td>6</td>\n",
       "    </tr>\n",
       "    <tr>\n",
       "      <th>2</th>\n",
       "      <td>../data/interim/youtube/NatureSoundscapes/YVwx...</td>\n",
       "      <td>nature_youtube/NatureSoundscapes</td>\n",
       "      <td>0</td>\n",
       "      <td>0.000479</td>\n",
       "      <td>youtube/NatureSoundscapes/YVwx7YTmRbM</td>\n",
       "      <td>0</td>\n",
       "    </tr>\n",
       "    <tr>\n",
       "      <th>3</th>\n",
       "      <td>../data/interim/youtube/NatureSoundscapes/kHJl...</td>\n",
       "      <td>nature_youtube/NatureSoundscapes</td>\n",
       "      <td>0</td>\n",
       "      <td>0.000479</td>\n",
       "      <td>youtube/NatureSoundscapes/kHJlGDCwd9k</td>\n",
       "      <td>3</td>\n",
       "    </tr>\n",
       "    <tr>\n",
       "      <th>4</th>\n",
       "      <td>../data/interim/SONYC/audio-16/20_017610.pkl</td>\n",
       "      <td>city_SONYC</td>\n",
       "      <td>1</td>\n",
       "      <td>0.000433</td>\n",
       "      <td>../data/interim/SONYC/audio-16/20_017610.pkl</td>\n",
       "      <td>4</td>\n",
       "    </tr>\n",
       "    <tr>\n",
       "      <th>...</th>\n",
       "      <td>...</td>\n",
       "      <td>...</td>\n",
       "      <td>...</td>\n",
       "      <td>...</td>\n",
       "      <td>...</td>\n",
       "      <td>...</td>\n",
       "    </tr>\n",
       "    <tr>\n",
       "      <th>5677</th>\n",
       "      <td>../data/interim/S2L_LULC/urban_0_25/s2lam029_2...</td>\n",
       "      <td>nature_S2L_LULC</td>\n",
       "      <td>0</td>\n",
       "      <td>0.002083</td>\n",
       "      <td>../data/interim/S2L_LULC/urban_0_25/s2lam029_2...</td>\n",
       "      <td>8</td>\n",
       "    </tr>\n",
       "    <tr>\n",
       "      <th>5678</th>\n",
       "      <td>../data/interim/youtube/NomadicAmbience_nature...</td>\n",
       "      <td>nature_youtube/NomadicAmbience_nature</td>\n",
       "      <td>0</td>\n",
       "      <td>0.005714</td>\n",
       "      <td>youtube/NomadicAmbience_nature/B0mtZyMMhZI</td>\n",
       "      <td>2</td>\n",
       "    </tr>\n",
       "    <tr>\n",
       "      <th>5679</th>\n",
       "      <td>../data/interim/SONYC/audio-1/01_009080.pkl</td>\n",
       "      <td>city_SONYC</td>\n",
       "      <td>1</td>\n",
       "      <td>0.000433</td>\n",
       "      <td>../data/interim/SONYC/audio-1/01_009080.pkl</td>\n",
       "      <td>9</td>\n",
       "    </tr>\n",
       "    <tr>\n",
       "      <th>5680</th>\n",
       "      <td>../data/interim/youtube/NatureSoundscapes/xPQy...</td>\n",
       "      <td>nature_youtube/NatureSoundscapes</td>\n",
       "      <td>0</td>\n",
       "      <td>0.000479</td>\n",
       "      <td>youtube/NatureSoundscapes/xPQy66ZcHdY</td>\n",
       "      <td>8</td>\n",
       "    </tr>\n",
       "    <tr>\n",
       "      <th>5681</th>\n",
       "      <td>../data/interim/SONYC/audio-4/40_001806.pkl</td>\n",
       "      <td>city_SONYC</td>\n",
       "      <td>1</td>\n",
       "      <td>0.000433</td>\n",
       "      <td>../data/interim/SONYC/audio-4/40_001806.pkl</td>\n",
       "      <td>9</td>\n",
       "    </tr>\n",
       "  </tbody>\n",
       "</table>\n",
       "<p>5682 rows × 6 columns</p>\n",
       "</div>"
      ],
      "text/plain": [
       "                                                   file  \\\n",
       "0           ../data/interim/SONYC/audio-4/00_017389.pkl   \n",
       "1          ../data/interim/SONYC/audio-13/01_017897.pkl   \n",
       "2     ../data/interim/youtube/NatureSoundscapes/YVwx...   \n",
       "3     ../data/interim/youtube/NatureSoundscapes/kHJl...   \n",
       "4          ../data/interim/SONYC/audio-16/20_017610.pkl   \n",
       "...                                                 ...   \n",
       "5677  ../data/interim/S2L_LULC/urban_0_25/s2lam029_2...   \n",
       "5678  ../data/interim/youtube/NomadicAmbience_nature...   \n",
       "5679        ../data/interim/SONYC/audio-1/01_009080.pkl   \n",
       "5680  ../data/interim/youtube/NatureSoundscapes/xPQy...   \n",
       "5681        ../data/interim/SONYC/audio-4/40_001806.pkl   \n",
       "\n",
       "                                     source  category    weight  \\\n",
       "0                                city_SONYC         1  0.000433   \n",
       "1                                city_SONYC         1  0.000433   \n",
       "2          nature_youtube/NatureSoundscapes         0  0.000479   \n",
       "3          nature_youtube/NatureSoundscapes         0  0.000479   \n",
       "4                                city_SONYC         1  0.000433   \n",
       "...                                     ...       ...       ...   \n",
       "5677                        nature_S2L_LULC         0  0.002083   \n",
       "5678  nature_youtube/NomadicAmbience_nature         0  0.005714   \n",
       "5679                             city_SONYC         1  0.000433   \n",
       "5680       nature_youtube/NatureSoundscapes         0  0.000479   \n",
       "5681                             city_SONYC         1  0.000433   \n",
       "\n",
       "                                             file_group  fold  \n",
       "0           ../data/interim/SONYC/audio-4/00_017389.pkl     7  \n",
       "1          ../data/interim/SONYC/audio-13/01_017897.pkl     6  \n",
       "2                 youtube/NatureSoundscapes/YVwx7YTmRbM     0  \n",
       "3                 youtube/NatureSoundscapes/kHJlGDCwd9k     3  \n",
       "4          ../data/interim/SONYC/audio-16/20_017610.pkl     4  \n",
       "...                                                 ...   ...  \n",
       "5677  ../data/interim/S2L_LULC/urban_0_25/s2lam029_2...     8  \n",
       "5678         youtube/NomadicAmbience_nature/B0mtZyMMhZI     2  \n",
       "5679        ../data/interim/SONYC/audio-1/01_009080.pkl     9  \n",
       "5680              youtube/NatureSoundscapes/xPQy66ZcHdY     8  \n",
       "5681        ../data/interim/SONYC/audio-4/40_001806.pkl     9  \n",
       "\n",
       "[5682 rows x 6 columns]"
      ]
     },
     "execution_count": 2,
     "metadata": {},
     "output_type": "execute_result"
    }
   ],
   "source": [
    "df_all = pd.read_csv('../train_val_test_sgkf_Feb24.csv', index_col=0)\n",
    "df_all"
   ]
  },
  {
   "cell_type": "markdown",
   "id": "9dfc4905",
   "metadata": {},
   "source": [
    "# Convert data into TF format"
   ]
  },
  {
   "cell_type": "code",
   "execution_count": 3,
   "id": "a936059a",
   "metadata": {
    "scrolled": true
   },
   "outputs": [
    {
     "name": "stdout",
     "output_type": "stream",
     "text": [
      "short length: 151461\n",
      "short length: 148006\n",
      "short length: 159999\n",
      "short length: 153242\n",
      "short length: 159880\n",
      "short length: 151683\n",
      "short length: 159880\n",
      "short length: 159997\n",
      "short length: 146099\n",
      "short length: 159880\n",
      "short length: 157848\n",
      "short length: 159993\n",
      "short length: 156480\n",
      "short length: 159880\n",
      "short length: 159992\n",
      "short length: 153357\n",
      "short length: 67456\n"
     ]
    }
   ],
   "source": [
    "def load_wav_pkl(filename, wav_label='y'):\n",
    "    import pickle\n",
    "    # open a file, where you stored the pickled data\n",
    "    file = open(filename, 'rb')\n",
    "\n",
    "    # dump information to that file\n",
    "    output = pickle.load(file)\n",
    "    wav = output[wav_label]\n",
    "\n",
    "    # close the file\n",
    "    file.close()\n",
    "    return wav\n",
    "\n",
    "wav_list = []\n",
    "for index, row in df_all.iterrows():\n",
    "    if len(load_wav_pkl(row['file'])) == 160000:\n",
    "        wav_list.append(load_wav_pkl(row['file']))\n",
    "    else: # if the waveform is shorter (for unknown reason)\n",
    "        temp_wav = load_wav_pkl(row['file'])\n",
    "        print('short length: '+str(len(temp_wav)))\n",
    "        wav_list.append(np.pad(temp_wav, (0,160000-len(temp_wav)),'mean')) # zero-padding at the end to 160000\n",
    "\n",
    "wav_bg_list = []\n",
    "for index, row in df_all.iterrows():\n",
    "    if len(load_wav_pkl(row['file'], 'bg_y')) == 160000:\n",
    "        wav_bg_list.append(load_wav_pkl(row['file'], 'bg_y'))\n",
    "    else: # if the waveform is shorter (for unknown reason)\n",
    "        temp_wav = load_wav_pkl(row['file'], 'bg_y')\n",
    "#         print('short length: '+str(len(temp_wav)))\n",
    "        wav_bg_list.append(np.pad(temp_wav, (0,160000-len(temp_wav)),'mean')) # zero-padding at the end to 160000\n",
    "\n",
    "wav_fg_list = []\n",
    "for index, row in df_all.iterrows():\n",
    "    if len(load_wav_pkl(row['file'], 'fg_y')) == 160000:\n",
    "        wav_fg_list.append(load_wav_pkl(row['file'], 'fg_y'))\n",
    "    else: # if the waveform is shorter (for unknown reason)\n",
    "        temp_wav = load_wav_pkl(row['file'], 'fg_y')\n",
    "#         print('short length: '+str(len(temp_wav)))\n",
    "        wav_fg_list.append(np.pad(temp_wav, (0,160000-len(temp_wav)),'mean')) # zero-padding at the end to 160000"
   ]
  },
  {
   "cell_type": "code",
   "execution_count": 4,
   "id": "084adfac",
   "metadata": {},
   "outputs": [],
   "source": [
    "main_ds = tf.data.Dataset.from_tensor_slices((np.stack(wav_list, axis = 0), df_all['category'], df_all['fold'], df_all['weight']))\n",
    "main_ds_fg = tf.data.Dataset.from_tensor_slices((np.stack(wav_fg_list, axis = 0), df_all['category'], df_all['fold'], df_all['weight']))\n",
    "main_ds_bg = tf.data.Dataset.from_tensor_slices((np.stack(wav_bg_list, axis = 0), df_all['category'], df_all['fold'], df_all['weight']))\n",
    "\n",
    "\n",
    "# applies the embedding extraction model to a wav data\n",
    "def extract_embedding_weight(wav_data, label, fold, weight):\n",
    "    # run YAMNet to extract embedding from the wav data\n",
    "    scores, embeddings, spectrogram = yamnet_model(wav_data)\n",
    "    num_embeddings = tf.shape(embeddings)[0]\n",
    "    return (embeddings,\n",
    "            tf.repeat(label, num_embeddings),\n",
    "            tf.repeat(fold, num_embeddings),\n",
    "            tf.repeat(weight, num_embeddings))\n",
    "\n",
    "# extract embedding\n",
    "main_ds = main_ds.map(extract_embedding_weight).unbatch()\n",
    "main_ds_fg = main_ds_fg.map(extract_embedding_weight).unbatch()\n",
    "main_ds_bg = main_ds_bg.map(extract_embedding_weight).unbatch()"
   ]
  },
  {
   "cell_type": "code",
   "execution_count": 5,
   "id": "74a0f925",
   "metadata": {},
   "outputs": [],
   "source": [
    "def split_ds(main_ds):\n",
    "    cached_ds = main_ds.cache()\n",
    "    train_ds = cached_ds.filter(lambda embedding, label, fold, weight: fold < 8)\n",
    "    val_ds = cached_ds.filter(lambda embedding, label, fold, weight: fold == 8)\n",
    "    test_ds = cached_ds.filter(lambda embedding, label, fold, weight: fold == 9)\n",
    "\n",
    "    # remove the folds column now that it's not needed anymore\n",
    "    remove_fold_column = lambda embedding, label, fold, weight: (embedding, label, weight)\n",
    "\n",
    "    train_ds = train_ds.map(remove_fold_column)\n",
    "    val_ds = val_ds.map(remove_fold_column)\n",
    "    test_ds = test_ds.map(remove_fold_column)\n",
    "\n",
    "    train_ds = train_ds.cache().shuffle(1000).batch(32).prefetch(tf.data.AUTOTUNE)\n",
    "    val_ds = val_ds.cache().batch(32).prefetch(tf.data.AUTOTUNE)\n",
    "    test_ds = test_ds.cache().batch(32).prefetch(tf.data.AUTOTUNE)\n",
    "    \n",
    "    return train_ds, val_ds, test_ds"
   ]
  },
  {
   "cell_type": "code",
   "execution_count": 6,
   "id": "a9fe9487",
   "metadata": {},
   "outputs": [
    {
     "name": "stdout",
     "output_type": "stream",
     "text": [
      "WARNING:tensorflow:From /Users/andrewchang/opt/anaconda3/envs/AcousticEnv/lib/python3.8/site-packages/tensorflow/python/autograph/pyct/static_analysis/liveness.py:83: Analyzer.lamba_check (from tensorflow.python.autograph.pyct.static_analysis.liveness) is deprecated and will be removed after 2023-09-23.\n",
      "Instructions for updating:\n",
      "Lambda fuctions will be no more assumed to be used in the statement where they are used, or at least in the same block. https://github.com/tensorflow/tensorflow/issues/56089\n"
     ]
    },
    {
     "name": "stderr",
     "output_type": "stream",
     "text": [
      "WARNING:tensorflow:From /Users/andrewchang/opt/anaconda3/envs/AcousticEnv/lib/python3.8/site-packages/tensorflow/python/autograph/pyct/static_analysis/liveness.py:83: Analyzer.lamba_check (from tensorflow.python.autograph.pyct.static_analysis.liveness) is deprecated and will be removed after 2023-09-23.\n",
      "Instructions for updating:\n",
      "Lambda fuctions will be no more assumed to be used in the statement where they are used, or at least in the same block. https://github.com/tensorflow/tensorflow/issues/56089\n"
     ]
    }
   ],
   "source": [
    "train_ds, val_ds, test_ds = split_ds(main_ds)\n",
    "train_ds_bg, val_ds_bg, test_ds_bg = split_ds(main_ds_bg)\n",
    "train_ds_fg, val_ds_fg, test_ds_fg = split_ds(main_ds_fg)"
   ]
  },
  {
   "cell_type": "markdown",
   "id": "5ce4c464",
   "metadata": {},
   "source": [
    "# Shared model parameters"
   ]
  },
  {
   "cell_type": "code",
   "execution_count": 59,
   "id": "5ffeb5e7",
   "metadata": {},
   "outputs": [],
   "source": [
    "optimizer = tf.keras.optimizers.Adam(learning_rate=0.001)\n",
    "loss_func = tf.keras.losses.SparseCategoricalCrossentropy(from_logits=True)\n",
    "my_classes = ['city', 'nature']\n",
    "Sequential_model = [tf.keras.layers.Input(shape=(1024), dtype=tf.float32, name='input_embedding'),\n",
    "                    tf.keras.layers.Dropout(.5),\n",
    "                    tf.keras.layers.Dense(256, activation='relu'),\n",
    "                    tf.keras.layers.Dropout(.5),\n",
    "                    tf.keras.layers.Dense(len(my_classes))\n",
    "                    ]\n",
    "\n",
    "callback = tf.keras.callbacks.EarlyStopping(monitor='loss',\n",
    "                                            patience=3,\n",
    "                                            restore_best_weights=True)"
   ]
  },
  {
   "cell_type": "markdown",
   "id": "afe243be",
   "metadata": {},
   "source": [
    "# Model of raw signal"
   ]
  },
  {
   "cell_type": "code",
   "execution_count": 60,
   "id": "efd43949",
   "metadata": {},
   "outputs": [
    {
     "name": "stdout",
     "output_type": "stream",
     "text": [
      "Model: \"raw_model\"\n",
      "_________________________________________________________________\n",
      " Layer (type)                Output Shape              Param #   \n",
      "=================================================================\n",
      " dropout (Dropout)           (None, 1024)              0         \n",
      "                                                                 \n",
      " dense (Dense)               (None, 256)               262400    \n",
      "                                                                 \n",
      " dropout_1 (Dropout)         (None, 256)               0         \n",
      "                                                                 \n",
      " dense_1 (Dense)             (None, 2)                 514       \n",
      "                                                                 \n",
      "=================================================================\n",
      "Total params: 262,914\n",
      "Trainable params: 262,914\n",
      "Non-trainable params: 0\n",
      "_________________________________________________________________\n"
     ]
    }
   ],
   "source": [
    "tf.keras.backend.clear_session()\n",
    "tf.random.set_seed(23)\n",
    "np.random.seed(23)\n",
    "python_random.seed(23)\n",
    "\n",
    "raw_model = tf.keras.Sequential(Sequential_model, name='raw_model')\n",
    "\n",
    "raw_model.summary()"
   ]
  },
  {
   "cell_type": "code",
   "execution_count": 61,
   "id": "9f392d4b",
   "metadata": {},
   "outputs": [
    {
     "name": "stdout",
     "output_type": "stream",
     "text": [
      "Epoch 1/20\n",
      "2848/2848 [==============================] - 8s 3ms/step - loss: 0.0012 - accuracy: 0.8224 - val_loss: 0.0013 - val_accuracy: 0.7681\n",
      "Epoch 2/20\n",
      "2848/2848 [==============================] - 8s 3ms/step - loss: 0.0010 - accuracy: 0.8336 - val_loss: 0.0012 - val_accuracy: 0.8084\n",
      "Epoch 3/20\n",
      "2848/2848 [==============================] - 8s 3ms/step - loss: 0.0010 - accuracy: 0.8399 - val_loss: 0.0014 - val_accuracy: 0.8009\n",
      "Epoch 4/20\n",
      "2848/2848 [==============================] - 8s 3ms/step - loss: 0.0011 - accuracy: 0.8418 - val_loss: 0.0013 - val_accuracy: 0.8227\n",
      "Epoch 5/20\n",
      "2848/2848 [==============================] - 9s 3ms/step - loss: 9.6198e-04 - accuracy: 0.8435 - val_loss: 0.0013 - val_accuracy: 0.8236\n",
      "Epoch 6/20\n",
      "2848/2848 [==============================] - 8s 3ms/step - loss: 9.7700e-04 - accuracy: 0.8442 - val_loss: 0.0013 - val_accuracy: 0.8135\n",
      "Epoch 7/20\n",
      "2848/2848 [==============================] - 8s 3ms/step - loss: 9.5218e-04 - accuracy: 0.8451 - val_loss: 0.0013 - val_accuracy: 0.8642\n",
      "Epoch 8/20\n",
      "2848/2848 [==============================] - 8s 3ms/step - loss: 9.3729e-04 - accuracy: 0.8461 - val_loss: 0.0013 - val_accuracy: 0.8382\n",
      "Epoch 9/20\n",
      "2848/2848 [==============================] - 9s 3ms/step - loss: 9.4297e-04 - accuracy: 0.8487 - val_loss: 0.0013 - val_accuracy: 0.8386\n",
      "Epoch 10/20\n",
      "2848/2848 [==============================] - 8s 3ms/step - loss: 9.3178e-04 - accuracy: 0.8531 - val_loss: 0.0013 - val_accuracy: 0.8330\n",
      "Epoch 11/20\n",
      "2848/2848 [==============================] - 8s 3ms/step - loss: 9.3532e-04 - accuracy: 0.8509 - val_loss: 0.0013 - val_accuracy: 0.8230\n",
      "Epoch 12/20\n",
      "2848/2848 [==============================] - 8s 3ms/step - loss: 9.1763e-04 - accuracy: 0.8506 - val_loss: 0.0012 - val_accuracy: 0.8553\n",
      "Epoch 13/20\n",
      "2848/2848 [==============================] - 9s 3ms/step - loss: 9.3607e-04 - accuracy: 0.8544 - val_loss: 0.0012 - val_accuracy: 0.8546\n",
      "Epoch 14/20\n",
      "2848/2848 [==============================] - 9s 3ms/step - loss: 9.1552e-04 - accuracy: 0.8514 - val_loss: 0.0012 - val_accuracy: 0.8617\n",
      "Epoch 15/20\n",
      "2848/2848 [==============================] - 10s 4ms/step - loss: 9.1179e-04 - accuracy: 0.8514 - val_loss: 0.0013 - val_accuracy: 0.8558\n",
      "Epoch 16/20\n",
      "2848/2848 [==============================] - 9s 3ms/step - loss: 9.1655e-04 - accuracy: 0.8552 - val_loss: 0.0013 - val_accuracy: 0.8550\n",
      "Epoch 17/20\n",
      "2848/2848 [==============================] - 9s 3ms/step - loss: 9.0883e-04 - accuracy: 0.8545 - val_loss: 0.0013 - val_accuracy: 0.8550\n",
      "Epoch 18/20\n",
      "2848/2848 [==============================] - 10s 3ms/step - loss: 9.1521e-04 - accuracy: 0.8524 - val_loss: 0.0012 - val_accuracy: 0.8544\n",
      "Epoch 19/20\n",
      "2848/2848 [==============================] - 10s 3ms/step - loss: 9.0741e-04 - accuracy: 0.8583 - val_loss: 0.0013 - val_accuracy: 0.8501\n",
      "Epoch 20/20\n",
      "2848/2848 [==============================] - 9s 3ms/step - loss: 9.0898e-04 - accuracy: 0.8561 - val_loss: 0.0013 - val_accuracy: 0.8539\n"
     ]
    }
   ],
   "source": [
    "raw_model.compile(loss=loss_func,\n",
    "                  optimizer=optimizer,\n",
    "                  weighted_metrics=[],\n",
    "                  metrics=['accuracy'])\n",
    "\n",
    "\n",
    "history_raw = raw_model.fit(train_ds,\n",
    "                            epochs=20,\n",
    "                            validation_data=val_ds,\n",
    "                            callbacks=callback)"
   ]
  },
  {
   "cell_type": "code",
   "execution_count": 62,
   "id": "d05995ef",
   "metadata": {},
   "outputs": [
    {
     "name": "stdout",
     "output_type": "stream",
     "text": [
      "353/353 [==============================] - 1s 2ms/step - loss: 0.0011 - accuracy: 0.8584\n",
      "Loss:  0.001137984567321837\n",
      "Accuracy:  0.8584219813346863\n"
     ]
    }
   ],
   "source": [
    "# this is the accuracy per YAMNet sample, not the accuracy per audio file\n",
    "loss, accuracy = raw_model.evaluate(test_ds)\n",
    "\n",
    "print(\"Loss: \", loss)\n",
    "print(\"Accuracy: \", accuracy)"
   ]
  },
  {
   "cell_type": "code",
   "execution_count": 63,
   "id": "3ec330d6",
   "metadata": {},
   "outputs": [],
   "source": [
    "def acc_by_audio(model, test_ds, y_true):\n",
    "    n_sample_per_audio = 20\n",
    "    y_pred = model.predict(test_ds)\n",
    "    y_reshaped = y_pred.reshape(-1, n_sample_per_audio, 2) # reshape to audio*sample*binary_prediction\n",
    "    y_pred_by_row = y_reshaped.mean(axis=1).argmax(axis=1)\n",
    "    from sklearn.metrics import accuracy_score\n",
    "    return accuracy_score(y_true, y_pred_by_row), y_pred_by_row\n"
   ]
  },
  {
   "cell_type": "code",
   "execution_count": 64,
   "id": "db50fa9e",
   "metadata": {},
   "outputs": [
    {
     "name": "stdout",
     "output_type": "stream",
     "text": [
      "353/353 [==============================] - 0s 1ms/step\n",
      "0.900709219858156\n"
     ]
    }
   ],
   "source": [
    "test_df = df_all[df_all['fold']==9]\n",
    "acc, y_pred = acc_by_audio(raw_model, test_ds, y_true = test_df['category'])\n",
    "print(acc)"
   ]
  },
  {
   "cell_type": "code",
   "execution_count": 65,
   "id": "279458f0",
   "metadata": {},
   "outputs": [
    {
     "name": "stderr",
     "output_type": "stream",
     "text": [
      "/var/folders/fw/slnm06yn15lgwlcg_7jpt3t00000gn/T/ipykernel_83135/3143404827.py:2: SettingWithCopyWarning: \n",
      "A value is trying to be set on a copy of a slice from a DataFrame.\n",
      "Try using .loc[row_indexer,col_indexer] = value instead\n",
      "\n",
      "See the caveats in the documentation: https://pandas.pydata.org/pandas-docs/stable/user_guide/indexing.html#returning-a-view-versus-a-copy\n",
      "  test_df['pred'] = y_pred\n"
     ]
    },
    {
     "data": {
      "image/png": "[encoded data removed]",
      "text/plain": [
       "<Figure size 640x480 with 1 Axes>"
      ]
     },
     "metadata": {},
     "output_type": "display_data"
    }
   ],
   "source": [
    "from sklearn.metrics import accuracy_score\n",
    "test_df['pred'] = y_pred\n",
    "acc_source = test_df.groupby(['source']).apply(lambda x: accuracy_score(x['category'], x['pred']))\n",
    "\n",
    "ax = acc_source.plot.barh()\n",
    "ax.axvline(x=0.5, color='k', linestyle='--')\n",
    "ax.set_xlim(0,1)\n",
    "plt.show()"
   ]
  },
  {
   "cell_type": "markdown",
   "id": "7240d839",
   "metadata": {},
   "source": [
    "# Model of background signal"
   ]
  },
  {
   "cell_type": "code",
   "execution_count": 14,
   "id": "40f53bd0",
   "metadata": {},
   "outputs": [
    {
     "name": "stdout",
     "output_type": "stream",
     "text": [
      "Model: \"bg_model\"\n",
      "_________________________________________________________________\n",
      " Layer (type)                Output Shape              Param #   \n",
      "=================================================================\n",
      " dropout (Dropout)           (None, 1024)              0         \n",
      "                                                                 \n",
      " dense (Dense)               (None, 256)               262400    \n",
      "                                                                 \n",
      " dropout_1 (Dropout)         (None, 256)               0         \n",
      "                                                                 \n",
      " dense_1 (Dense)             (None, 2)                 514       \n",
      "                                                                 \n",
      "=================================================================\n",
      "Total params: 262,914\n",
      "Trainable params: 262,914\n",
      "Non-trainable params: 0\n",
      "_________________________________________________________________\n"
     ]
    }
   ],
   "source": [
    "tf.keras.backend.clear_session()\n",
    "tf.random.set_seed(23)\n",
    "np.random.seed(23)\n",
    "python_random.seed(23)\n",
    "\n",
    "bg_model = tf.keras.Sequential(Sequential_model, name='bg_model')\n",
    "\n",
    "bg_model.summary()"
   ]
  },
  {
   "cell_type": "code",
   "execution_count": 15,
   "id": "acc05654",
   "metadata": {},
   "outputs": [
    {
     "name": "stdout",
     "output_type": "stream",
     "text": [
      "Epoch 1/20\n",
      "2848/2848 [==============================] - 411s 142ms/step - loss: 9.4412e-04 - accuracy: 0.8550 - val_loss: 0.0013 - val_accuracy: 0.8609\n",
      "Epoch 2/20\n",
      "2848/2848 [==============================] - 8s 3ms/step - loss: 9.2145e-04 - accuracy: 0.8577 - val_loss: 0.0013 - val_accuracy: 0.8430\n",
      "Epoch 3/20\n",
      "2848/2848 [==============================] - 8s 3ms/step - loss: 9.2070e-04 - accuracy: 0.8544 - val_loss: 0.0013 - val_accuracy: 0.8509\n",
      "Epoch 4/20\n",
      "2848/2848 [==============================] - 8s 3ms/step - loss: 9.2295e-04 - accuracy: 0.8594 - val_loss: 0.0013 - val_accuracy: 0.8575\n",
      "Epoch 5/20\n",
      "2848/2848 [==============================] - 8s 3ms/step - loss: 9.1640e-04 - accuracy: 0.8578 - val_loss: 0.0013 - val_accuracy: 0.8623\n",
      "Epoch 6/20\n",
      "2848/2848 [==============================] - 8s 3ms/step - loss: 9.2920e-04 - accuracy: 0.8588 - val_loss: 0.0013 - val_accuracy: 0.8619\n",
      "Epoch 7/20\n",
      "2848/2848 [==============================] - 8s 3ms/step - loss: 9.0028e-04 - accuracy: 0.8572 - val_loss: 0.0013 - val_accuracy: 0.8508\n",
      "Epoch 8/20\n",
      "2848/2848 [==============================] - 8s 3ms/step - loss: 8.9946e-04 - accuracy: 0.8578 - val_loss: 0.0013 - val_accuracy: 0.8520\n",
      "Epoch 9/20\n",
      "2848/2848 [==============================] - 8s 3ms/step - loss: 9.0055e-04 - accuracy: 0.8600 - val_loss: 0.0013 - val_accuracy: 0.8643\n",
      "Epoch 10/20\n",
      "2848/2848 [==============================] - 8s 3ms/step - loss: 9.0683e-04 - accuracy: 0.8599 - val_loss: 0.0013 - val_accuracy: 0.8416\n",
      "Epoch 11/20\n",
      "2848/2848 [==============================] - 8s 3ms/step - loss: 8.8428e-04 - accuracy: 0.8609 - val_loss: 0.0013 - val_accuracy: 0.8663\n",
      "Epoch 12/20\n",
      "2848/2848 [==============================] - 8s 3ms/step - loss: 9.0889e-04 - accuracy: 0.8598 - val_loss: 0.0013 - val_accuracy: 0.8645\n",
      "Epoch 13/20\n",
      "2848/2848 [==============================] - 8s 3ms/step - loss: 8.8078e-04 - accuracy: 0.8612 - val_loss: 0.0013 - val_accuracy: 0.8712\n",
      "Epoch 14/20\n",
      "2848/2848 [==============================] - 8s 3ms/step - loss: 8.8892e-04 - accuracy: 0.8639 - val_loss: 0.0013 - val_accuracy: 0.8587\n",
      "Epoch 15/20\n",
      "2848/2848 [==============================] - 8s 3ms/step - loss: 8.9926e-04 - accuracy: 0.8638 - val_loss: 0.0013 - val_accuracy: 0.8756\n",
      "Epoch 16/20\n",
      "2848/2848 [==============================] - 8s 3ms/step - loss: 8.8439e-04 - accuracy: 0.8625 - val_loss: 0.0013 - val_accuracy: 0.8751\n"
     ]
    }
   ],
   "source": [
    "bg_model.compile(loss=loss_func,\n",
    "                 optimizer=optimizer,\n",
    "                 weighted_metrics=[],\n",
    "                 metrics=['accuracy'])\n",
    "\n",
    "\n",
    "history_bg =bg_model.fit(train_ds_bg,\n",
    "                         epochs=20,\n",
    "                         validation_data=val_ds_bg,\n",
    "                         callbacks=callback)"
   ]
  },
  {
   "cell_type": "code",
   "execution_count": 16,
   "id": "298a1656",
   "metadata": {},
   "outputs": [
    {
     "name": "stdout",
     "output_type": "stream",
     "text": [
      "353/353 [==============================] - 4s 6ms/step - loss: 0.0011 - accuracy: 0.8707\n",
      "Loss:  0.0011409256840124726\n",
      "Accuracy:  0.8707447052001953\n"
     ]
    }
   ],
   "source": [
    "loss, accuracy = bg_model.evaluate(test_ds_bg)\n",
    "\n",
    "print(\"Loss: \", loss)\n",
    "print(\"Accuracy: \", accuracy)"
   ]
  },
  {
   "cell_type": "code",
   "execution_count": 17,
   "id": "065702ba",
   "metadata": {},
   "outputs": [
    {
     "name": "stdout",
     "output_type": "stream",
     "text": [
      "353/353 [==============================] - 0s 973us/step\n",
      "0.9202127659574468\n"
     ]
    }
   ],
   "source": [
    "test_df = df_all[df_all['fold']==9]\n",
    "acc, y_pred = acc_by_audio(bg_model, test_ds_bg, y_true = test_df['category'])\n",
    "print(acc)"
   ]
  },
  {
   "cell_type": "code",
   "execution_count": 18,
   "id": "9afdab3e",
   "metadata": {},
   "outputs": [
    {
     "name": "stderr",
     "output_type": "stream",
     "text": [
      "/var/folders/fw/slnm06yn15lgwlcg_7jpt3t00000gn/T/ipykernel_48340/3143404827.py:2: SettingWithCopyWarning: \n",
      "A value is trying to be set on a copy of a slice from a DataFrame.\n",
      "Try using .loc[row_indexer,col_indexer] = value instead\n",
      "\n",
      "See the caveats in the documentation: https://pandas.pydata.org/pandas-docs/stable/user_guide/indexing.html#returning-a-view-versus-a-copy\n",
      "  test_df['pred'] = y_pred\n"
     ]
    },
    {
     "data": {
      "image/png": "[encoded data removed]",
      "text/plain": [
       "<Figure size 640x480 with 1 Axes>"
      ]
     },
     "metadata": {},
     "output_type": "display_data"
    }
   ],
   "source": [
    "from sklearn.metrics import accuracy_score\n",
    "test_df['pred'] = y_pred\n",
    "acc_source = test_df.groupby(['source']).apply(lambda x: accuracy_score(x['category'], x['pred']))\n",
    "\n",
    "ax = acc_source.plot.barh()\n",
    "ax.axvline(x=0.5, color='k', linestyle='--')\n",
    "ax.set_xlim(0,1)\n",
    "plt.show()"
   ]
  },
  {
   "cell_type": "markdown",
   "id": "7cb5dd27",
   "metadata": {},
   "source": [
    "# Model of foreground signal"
   ]
  },
  {
   "cell_type": "code",
   "execution_count": 19,
   "id": "9c377256",
   "metadata": {},
   "outputs": [
    {
     "name": "stdout",
     "output_type": "stream",
     "text": [
      "Model: \"fg_model\"\n",
      "_________________________________________________________________\n",
      " Layer (type)                Output Shape              Param #   \n",
      "=================================================================\n",
      " dropout (Dropout)           (None, 1024)              0         \n",
      "                                                                 \n",
      " dense (Dense)               (None, 256)               262400    \n",
      "                                                                 \n",
      " dropout_1 (Dropout)         (None, 256)               0         \n",
      "                                                                 \n",
      " dense_1 (Dense)             (None, 2)                 514       \n",
      "                                                                 \n",
      "=================================================================\n",
      "Total params: 262,914\n",
      "Trainable params: 262,914\n",
      "Non-trainable params: 0\n",
      "_________________________________________________________________\n"
     ]
    }
   ],
   "source": [
    "tf.keras.backend.clear_session()\n",
    "tf.random.set_seed(23)\n",
    "np.random.seed(23)\n",
    "python_random.seed(23)\n",
    "\n",
    "fg_model = tf.keras.Sequential(Sequential_model, name='fg_model')\n",
    "\n",
    "fg_model.summary()"
   ]
  },
  {
   "cell_type": "code",
   "execution_count": 20,
   "id": "57973000",
   "metadata": {},
   "outputs": [
    {
     "name": "stdout",
     "output_type": "stream",
     "text": [
      "Epoch 1/20\n",
      "2848/2848 [==============================] - 421s 146ms/step - loss: 0.0014 - accuracy: 0.5918 - val_loss: 0.0013 - val_accuracy: 0.5908\n",
      "Epoch 2/20\n",
      "2848/2848 [==============================] - 8s 3ms/step - loss: 0.0013 - accuracy: 0.5960 - val_loss: 0.0014 - val_accuracy: 0.6014\n",
      "Epoch 3/20\n",
      "2848/2848 [==============================] - 8s 3ms/step - loss: 0.0013 - accuracy: 0.5972 - val_loss: 0.0013 - val_accuracy: 0.6210\n",
      "Epoch 4/20\n",
      "2848/2848 [==============================] - 8s 3ms/step - loss: 0.0013 - accuracy: 0.6071 - val_loss: 0.0014 - val_accuracy: 0.6105\n",
      "Epoch 5/20\n",
      "2848/2848 [==============================] - 8s 3ms/step - loss: 0.0013 - accuracy: 0.6075 - val_loss: 0.0013 - val_accuracy: 0.6206\n",
      "Epoch 6/20\n",
      "2848/2848 [==============================] - 8s 3ms/step - loss: 0.0013 - accuracy: 0.6105 - val_loss: 0.0013 - val_accuracy: 0.6335\n",
      "Epoch 7/20\n",
      "2848/2848 [==============================] - 9s 3ms/step - loss: 0.0013 - accuracy: 0.6147 - val_loss: 0.0013 - val_accuracy: 0.6249\n",
      "Epoch 8/20\n",
      "2848/2848 [==============================] - 8s 3ms/step - loss: 0.0013 - accuracy: 0.6151 - val_loss: 0.0014 - val_accuracy: 0.6256\n",
      "Epoch 9/20\n",
      "2848/2848 [==============================] - 8s 3ms/step - loss: 0.0013 - accuracy: 0.6136 - val_loss: 0.0014 - val_accuracy: 0.6299\n",
      "Epoch 10/20\n",
      "2848/2848 [==============================] - 8s 3ms/step - loss: 0.0013 - accuracy: 0.6176 - val_loss: 0.0014 - val_accuracy: 0.6353\n",
      "Epoch 11/20\n",
      "2848/2848 [==============================] - 8s 3ms/step - loss: 0.0013 - accuracy: 0.6197 - val_loss: 0.0014 - val_accuracy: 0.6262\n",
      "Epoch 12/20\n",
      "2848/2848 [==============================] - 8s 3ms/step - loss: 0.0013 - accuracy: 0.6246 - val_loss: 0.0013 - val_accuracy: 0.6262\n",
      "Epoch 13/20\n",
      "2848/2848 [==============================] - 8s 3ms/step - loss: 0.0013 - accuracy: 0.6222 - val_loss: 0.0014 - val_accuracy: 0.6438\n",
      "Epoch 14/20\n",
      "2848/2848 [==============================] - 8s 3ms/step - loss: 0.0013 - accuracy: 0.6242 - val_loss: 0.0014 - val_accuracy: 0.6327\n",
      "Epoch 15/20\n",
      "2848/2848 [==============================] - 8s 3ms/step - loss: 0.0013 - accuracy: 0.6273 - val_loss: 0.0014 - val_accuracy: 0.6422\n",
      "Epoch 16/20\n",
      "2848/2848 [==============================] - 8s 3ms/step - loss: 0.0013 - accuracy: 0.6267 - val_loss: 0.0013 - val_accuracy: 0.6423\n",
      "Epoch 17/20\n",
      "2848/2848 [==============================] - 8s 3ms/step - loss: 0.0013 - accuracy: 0.6255 - val_loss: 0.0013 - val_accuracy: 0.6398\n",
      "Epoch 18/20\n",
      "2848/2848 [==============================] - 9s 3ms/step - loss: 0.0013 - accuracy: 0.6289 - val_loss: 0.0014 - val_accuracy: 0.6342\n",
      "Epoch 19/20\n",
      "2848/2848 [==============================] - 8s 3ms/step - loss: 0.0013 - accuracy: 0.6317 - val_loss: 0.0014 - val_accuracy: 0.6416\n",
      "Epoch 20/20\n",
      "2848/2848 [==============================] - 8s 3ms/step - loss: 0.0013 - accuracy: 0.6281 - val_loss: 0.0013 - val_accuracy: 0.6427\n"
     ]
    }
   ],
   "source": [
    "fg_model.compile(loss=loss_func,\n",
    "                 optimizer=optimizer,\n",
    "                 weighted_metrics=[],\n",
    "                 metrics=['accuracy'])\n",
    "\n",
    "\n",
    "history_fg =fg_model.fit(train_ds_fg,\n",
    "                         epochs=20,\n",
    "                         validation_data=val_ds_fg,\n",
    "                         callbacks=callback)"
   ]
  },
  {
   "cell_type": "code",
   "execution_count": 21,
   "id": "9fc48ed7",
   "metadata": {},
   "outputs": [
    {
     "name": "stdout",
     "output_type": "stream",
     "text": [
      "353/353 [==============================] - 6s 7ms/step - loss: 0.0014 - accuracy: 0.6520\n",
      "Loss:  0.0013729247730225325\n",
      "Accuracy:  0.6520389914512634\n"
     ]
    }
   ],
   "source": [
    "loss, accuracy = fg_model.evaluate(test_ds_fg)\n",
    "\n",
    "print(\"Loss: \", loss)\n",
    "print(\"Accuracy: \", accuracy)"
   ]
  },
  {
   "cell_type": "code",
   "execution_count": 22,
   "id": "38a7902a",
   "metadata": {},
   "outputs": [
    {
     "name": "stdout",
     "output_type": "stream",
     "text": [
      "353/353 [==============================] - 0s 1ms/step\n",
      "0.6879432624113475\n"
     ]
    }
   ],
   "source": [
    "test_df = df_all[df_all['fold']==9]\n",
    "acc, y_pred = acc_by_audio(fg_model, test_ds_fg, y_true = test_df['category'])\n",
    "print(acc)"
   ]
  },
  {
   "cell_type": "code",
   "execution_count": 23,
   "id": "f53c7736",
   "metadata": {},
   "outputs": [
    {
     "name": "stderr",
     "output_type": "stream",
     "text": [
      "/var/folders/fw/slnm06yn15lgwlcg_7jpt3t00000gn/T/ipykernel_48340/3143404827.py:2: SettingWithCopyWarning: \n",
      "A value is trying to be set on a copy of a slice from a DataFrame.\n",
      "Try using .loc[row_indexer,col_indexer] = value instead\n",
      "\n",
      "See the caveats in the documentation: https://pandas.pydata.org/pandas-docs/stable/user_guide/indexing.html#returning-a-view-versus-a-copy\n",
      "  test_df['pred'] = y_pred\n"
     ]
    },
    {
     "data": {
      "image/png": "[encoded data removed]",
      "text/plain": [
       "<Figure size 640x480 with 1 Axes>"
      ]
     },
     "metadata": {},
     "output_type": "display_data"
    }
   ],
   "source": [
    "from sklearn.metrics import accuracy_score\n",
    "test_df['pred'] = y_pred\n",
    "acc_source = test_df.groupby(['source']).apply(lambda x: accuracy_score(x['category'], x['pred']))\n",
    "\n",
    "ax = acc_source.plot.barh()\n",
    "ax.axvline(x=0.5, color='k', linestyle='--')\n",
    "ax.set_xlim(0,1)\n",
    "plt.show()"
   ]
  },
  {
   "cell_type": "code",
   "execution_count": null,
   "id": "6f0db323",
   "metadata": {},
   "outputs": [],
   "source": []
  }
 ],
 "metadata": {
  "kernelspec": {
   "display_name": "Python 3 (ipykernel)",
   "language": "python",
   "name": "python3"
  },
  "language_info": {
   "codemirror_mode": {
    "name": "ipython",
    "version": 3
   },
   "file_extension": ".py",
   "mimetype": "text/x-python",
   "name": "python",
   "nbconvert_exporter": "python",
   "pygments_lexer": "ipython3",
   "version": "3.8.16"
  }
 },
 "nbformat": 4,
 "nbformat_minor": 5
}
