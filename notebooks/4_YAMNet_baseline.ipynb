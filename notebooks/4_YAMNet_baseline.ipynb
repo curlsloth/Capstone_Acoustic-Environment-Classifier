{
 "cells": [
  {
   "cell_type": "code",
   "execution_count": 1,
   "id": "6e748249",
   "metadata": {},
   "outputs": [
    {
     "name": "stderr",
     "output_type": "stream",
     "text": [
      "2023-02-26 09:24:13.042673: I tensorflow/core/platform/cpu_feature_guard.cc:193] This TensorFlow binary is optimized with oneAPI Deep Neural Network Library (oneDNN) to use the following CPU instructions in performance-critical operations:  SSE4.1 SSE4.2 AVX AVX2 AVX512F AVX512_VNNI FMA\n",
      "To enable them in other operations, rebuild TensorFlow with the appropriate compiler flags.\n",
      "2023-02-26 09:24:16.627546: I tensorflow/core/platform/cpu_feature_guard.cc:193] This TensorFlow binary is optimized with oneAPI Deep Neural Network Library (oneDNN) to use the following CPU instructions in performance-critical operations:  SSE4.1 SSE4.2 AVX AVX2 AVX512F AVX512_VNNI FMA\n",
      "To enable them in other operations, rebuild TensorFlow with the appropriate compiler flags.\n"
     ]
    }
   ],
   "source": [
    "import os\n",
    "\n",
    "from IPython import display\n",
    "import matplotlib.pyplot as plt\n",
    "import numpy as np\n",
    "import pandas as pd\n",
    "import random as python_random\n",
    "\n",
    "import tensorflow as tf\n",
    "import tensorflow_hub as hub\n",
    "from tensorflow.keras import regularizers\n",
    "\n",
    "yamnet_model_handle = 'https://tfhub.dev/google/yamnet/1'\n",
    "yamnet_model = hub.load(yamnet_model_handle) # if there's an \"SavedModel file does not exist at:\", delete that folder and rerun it"
   ]
  },
  {
   "cell_type": "code",
   "execution_count": 2,
   "id": "71d579e8",
   "metadata": {},
   "outputs": [
    {
     "data": {
      "text/html": [
       "<div>\n",
       "<style scoped>\n",
       "    .dataframe tbody tr th:only-of-type {\n",
       "        vertical-align: middle;\n",
       "    }\n",
       "\n",
       "    .dataframe tbody tr th {\n",
       "        vertical-align: top;\n",
       "    }\n",
       "\n",
       "    .dataframe thead th {\n",
       "        text-align: right;\n",
       "    }\n",
       "</style>\n",
       "<table border=\"1\" class=\"dataframe\">\n",
       "  <thead>\n",
       "    <tr style=\"text-align: right;\">\n",
       "      <th></th>\n",
       "      <th>file</th>\n",
       "      <th>source</th>\n",
       "      <th>category</th>\n",
       "      <th>weight</th>\n",
       "      <th>file_group</th>\n",
       "      <th>fold</th>\n",
       "    </tr>\n",
       "  </thead>\n",
       "  <tbody>\n",
       "    <tr>\n",
       "      <th>0</th>\n",
       "      <td>../data/interim/youtube/NatureSoundscapes/6LpA...</td>\n",
       "      <td>nature_youtube/NatureSoundscapes</td>\n",
       "      <td>0</td>\n",
       "      <td>0.000479</td>\n",
       "      <td>youtube/NatureSoundscapes/6LpAnfislTc</td>\n",
       "      <td>6</td>\n",
       "    </tr>\n",
       "    <tr>\n",
       "      <th>1</th>\n",
       "      <td>../data/interim/youtube/NomadicAmbience_nature...</td>\n",
       "      <td>nature_youtube/NomadicAmbience_nature</td>\n",
       "      <td>0</td>\n",
       "      <td>0.005714</td>\n",
       "      <td>youtube/NomadicAmbience_nature/wlCrnlQ5ofE</td>\n",
       "      <td>0</td>\n",
       "    </tr>\n",
       "    <tr>\n",
       "      <th>2</th>\n",
       "      <td>../data/interim/SONYC/audio-10/05_027168.pkl</td>\n",
       "      <td>city_SONYC</td>\n",
       "      <td>1</td>\n",
       "      <td>0.000433</td>\n",
       "      <td>../data/interim/SONYC/audio-10/05_027168.pkl</td>\n",
       "      <td>4</td>\n",
       "    </tr>\n",
       "    <tr>\n",
       "      <th>3</th>\n",
       "      <td>../data/interim/SONYC/audio-13/32_019485.pkl</td>\n",
       "      <td>city_SONYC</td>\n",
       "      <td>1</td>\n",
       "      <td>0.000433</td>\n",
       "      <td>../data/interim/SONYC/audio-13/32_019485.pkl</td>\n",
       "      <td>8</td>\n",
       "    </tr>\n",
       "    <tr>\n",
       "      <th>4</th>\n",
       "      <td>../data/interim/SONYC/audio-13/33_016321.pkl</td>\n",
       "      <td>city_SONYC</td>\n",
       "      <td>1</td>\n",
       "      <td>0.000433</td>\n",
       "      <td>../data/interim/SONYC/audio-13/33_016321.pkl</td>\n",
       "      <td>5</td>\n",
       "    </tr>\n",
       "    <tr>\n",
       "      <th>...</th>\n",
       "      <td>...</td>\n",
       "      <td>...</td>\n",
       "      <td>...</td>\n",
       "      <td>...</td>\n",
       "      <td>...</td>\n",
       "      <td>...</td>\n",
       "    </tr>\n",
       "    <tr>\n",
       "      <th>5677</th>\n",
       "      <td>../data/interim/GoogleAudioSet/Outside, urban ...</td>\n",
       "      <td>city_GoogleAudioSet</td>\n",
       "      <td>1</td>\n",
       "      <td>0.005882</td>\n",
       "      <td>../data/interim/GoogleAudioSet/Outside, urban ...</td>\n",
       "      <td>9</td>\n",
       "    </tr>\n",
       "    <tr>\n",
       "      <th>5678</th>\n",
       "      <td>../data/interim/youtube/NatureSoundscapes/gEqK...</td>\n",
       "      <td>nature_youtube/NatureSoundscapes</td>\n",
       "      <td>0</td>\n",
       "      <td>0.000479</td>\n",
       "      <td>youtube/NatureSoundscapes/gEqKnRu15bI</td>\n",
       "      <td>2</td>\n",
       "    </tr>\n",
       "    <tr>\n",
       "      <th>5679</th>\n",
       "      <td>../data/interim/youtube/NatureSoundscapes/PFtx...</td>\n",
       "      <td>nature_youtube/NatureSoundscapes</td>\n",
       "      <td>0</td>\n",
       "      <td>0.000479</td>\n",
       "      <td>youtube/NatureSoundscapes/PFtxRv6GcFw</td>\n",
       "      <td>8</td>\n",
       "    </tr>\n",
       "    <tr>\n",
       "      <th>5680</th>\n",
       "      <td>../data/interim/SONYC/audio-17/03_001923.pkl</td>\n",
       "      <td>city_SONYC</td>\n",
       "      <td>1</td>\n",
       "      <td>0.000433</td>\n",
       "      <td>../data/interim/SONYC/audio-17/03_001923.pkl</td>\n",
       "      <td>8</td>\n",
       "    </tr>\n",
       "    <tr>\n",
       "      <th>5681</th>\n",
       "      <td>../data/interim/S2L_LULC/non_urban/s2lam107_21...</td>\n",
       "      <td>nature_S2L_LULC</td>\n",
       "      <td>0</td>\n",
       "      <td>0.002083</td>\n",
       "      <td>../data/interim/S2L_LULC/non_urban/s2lam107_21...</td>\n",
       "      <td>7</td>\n",
       "    </tr>\n",
       "  </tbody>\n",
       "</table>\n",
       "<p>5682 rows × 6 columns</p>\n",
       "</div>"
      ],
      "text/plain": [
       "                                                   file  \\\n",
       "0     ../data/interim/youtube/NatureSoundscapes/6LpA...   \n",
       "1     ../data/interim/youtube/NomadicAmbience_nature...   \n",
       "2          ../data/interim/SONYC/audio-10/05_027168.pkl   \n",
       "3          ../data/interim/SONYC/audio-13/32_019485.pkl   \n",
       "4          ../data/interim/SONYC/audio-13/33_016321.pkl   \n",
       "...                                                 ...   \n",
       "5677  ../data/interim/GoogleAudioSet/Outside, urban ...   \n",
       "5678  ../data/interim/youtube/NatureSoundscapes/gEqK...   \n",
       "5679  ../data/interim/youtube/NatureSoundscapes/PFtx...   \n",
       "5680       ../data/interim/SONYC/audio-17/03_001923.pkl   \n",
       "5681  ../data/interim/S2L_LULC/non_urban/s2lam107_21...   \n",
       "\n",
       "                                     source  category    weight  \\\n",
       "0          nature_youtube/NatureSoundscapes         0  0.000479   \n",
       "1     nature_youtube/NomadicAmbience_nature         0  0.005714   \n",
       "2                                city_SONYC         1  0.000433   \n",
       "3                                city_SONYC         1  0.000433   \n",
       "4                                city_SONYC         1  0.000433   \n",
       "...                                     ...       ...       ...   \n",
       "5677                    city_GoogleAudioSet         1  0.005882   \n",
       "5678       nature_youtube/NatureSoundscapes         0  0.000479   \n",
       "5679       nature_youtube/NatureSoundscapes         0  0.000479   \n",
       "5680                             city_SONYC         1  0.000433   \n",
       "5681                        nature_S2L_LULC         0  0.002083   \n",
       "\n",
       "                                             file_group  fold  \n",
       "0                 youtube/NatureSoundscapes/6LpAnfislTc     6  \n",
       "1            youtube/NomadicAmbience_nature/wlCrnlQ5ofE     0  \n",
       "2          ../data/interim/SONYC/audio-10/05_027168.pkl     4  \n",
       "3          ../data/interim/SONYC/audio-13/32_019485.pkl     8  \n",
       "4          ../data/interim/SONYC/audio-13/33_016321.pkl     5  \n",
       "...                                                 ...   ...  \n",
       "5677  ../data/interim/GoogleAudioSet/Outside, urban ...     9  \n",
       "5678              youtube/NatureSoundscapes/gEqKnRu15bI     2  \n",
       "5679              youtube/NatureSoundscapes/PFtxRv6GcFw     8  \n",
       "5680       ../data/interim/SONYC/audio-17/03_001923.pkl     8  \n",
       "5681  ../data/interim/S2L_LULC/non_urban/s2lam107_21...     7  \n",
       "\n",
       "[5682 rows x 6 columns]"
      ]
     },
     "execution_count": 2,
     "metadata": {},
     "output_type": "execute_result"
    }
   ],
   "source": [
    "df_all = pd.read_csv('../train_val_test_split/train_val_test_sgkf_Feb26_allFiles_sum1.csv', index_col=0)\n",
    "df_all"
   ]
  },
  {
   "cell_type": "code",
   "execution_count": 3,
   "id": "626c4794",
   "metadata": {},
   "outputs": [
    {
     "data": {
      "text/plain": [
       "source\n",
       "city_GoogleAudioSet                      1.0\n",
       "city_SONYC                               1.0\n",
       "city_youtube/NomadicAmbience_city        1.0\n",
       "nature_AmbisonicSoundLibrary             1.0\n",
       "nature_GoogleAudioSet                    1.0\n",
       "nature_S2L_LULC                          1.0\n",
       "nature_youtube/NatureSoundscapes         1.0\n",
       "nature_youtube/NomadicAmbience_nature    1.0\n",
       "Name: weight, dtype: float64"
      ]
     },
     "execution_count": 3,
     "metadata": {},
     "output_type": "execute_result"
    }
   ],
   "source": [
    "# check the weight\n",
    "df_all.groupby(['source'])['weight'].sum()"
   ]
  },
  {
   "cell_type": "markdown",
   "id": "9dfc4905",
   "metadata": {},
   "source": [
    "# Convert data into TF format"
   ]
  },
  {
   "cell_type": "code",
   "execution_count": 4,
   "id": "a936059a",
   "metadata": {
    "scrolled": true
   },
   "outputs": [
    {
     "name": "stdout",
     "output_type": "stream",
     "text": [
      "short length: 159999\n",
      "short length: 159880\n",
      "short length: 159993\n",
      "short length: 159997\n",
      "short length: 159992\n",
      "short length: 148006\n",
      "short length: 151683\n",
      "short length: 159880\n",
      "short length: 153357\n",
      "short length: 159880\n",
      "short length: 146099\n",
      "short length: 156480\n",
      "short length: 67456\n",
      "short length: 153242\n",
      "short length: 151461\n",
      "short length: 157848\n",
      "short length: 159880\n"
     ]
    }
   ],
   "source": [
    "def load_wav_pkl(filename, wav_label='y'):\n",
    "    import pickle\n",
    "    # open a file, where you stored the pickled data\n",
    "    file = open(filename, 'rb')\n",
    "\n",
    "    # dump information to that file\n",
    "    output = pickle.load(file)\n",
    "    wav = output[wav_label]\n",
    "\n",
    "    # close the file\n",
    "    file.close()\n",
    "    return wav\n",
    "\n",
    "wav_list = []\n",
    "for index, row in df_all.iterrows():\n",
    "    if len(load_wav_pkl(row['file'])) == 160000:\n",
    "        wav_list.append(load_wav_pkl(row['file']))\n",
    "    else: # if the waveform is shorter (for unknown reason)\n",
    "        temp_wav = load_wav_pkl(row['file'])\n",
    "        print('short length: '+str(len(temp_wav)))\n",
    "        wav_list.append(np.pad(temp_wav, (0,160000-len(temp_wav)),'mean')) # zero-padding at the end to 160000\n",
    "\n",
    "wav_bg_list = []\n",
    "for index, row in df_all.iterrows():\n",
    "    if len(load_wav_pkl(row['file'], 'bg_y')) == 160000:\n",
    "        wav_bg_list.append(load_wav_pkl(row['file'], 'bg_y'))\n",
    "    else: # if the waveform is shorter (for unknown reason)\n",
    "        temp_wav = load_wav_pkl(row['file'], 'bg_y')\n",
    "#         print('short length: '+str(len(temp_wav)))\n",
    "        wav_bg_list.append(np.pad(temp_wav, (0,160000-len(temp_wav)),'mean')) # zero-padding at the end to 160000\n",
    "\n",
    "wav_fg_list = []\n",
    "for index, row in df_all.iterrows():\n",
    "    if len(load_wav_pkl(row['file'], 'fg_y')) == 160000:\n",
    "        wav_fg_list.append(load_wav_pkl(row['file'], 'fg_y'))\n",
    "    else: # if the waveform is shorter (for unknown reason)\n",
    "        temp_wav = load_wav_pkl(row['file'], 'fg_y')\n",
    "#         print('short length: '+str(len(temp_wav)))\n",
    "        wav_fg_list.append(np.pad(temp_wav, (0,160000-len(temp_wav)),'mean')) # zero-padding at the end to 160000"
   ]
  },
  {
   "cell_type": "code",
   "execution_count": 5,
   "id": "084adfac",
   "metadata": {},
   "outputs": [],
   "source": [
    "main_ds = tf.data.Dataset.from_tensor_slices((np.stack(wav_list, axis = 0), df_all['category'], df_all['fold'], df_all['weight']))\n",
    "main_ds_fg = tf.data.Dataset.from_tensor_slices((np.stack(wav_fg_list, axis = 0), df_all['category'], df_all['fold'], df_all['weight']))\n",
    "main_ds_bg = tf.data.Dataset.from_tensor_slices((np.stack(wav_bg_list, axis = 0), df_all['category'], df_all['fold'], df_all['weight']))\n",
    "\n",
    "\n",
    "# applies the embedding extraction model to a wav data\n",
    "def extract_embedding_weight(wav_data, label, fold, weight):\n",
    "    # run YAMNet to extract embedding from the wav data\n",
    "    scores, embeddings, spectrogram = yamnet_model(wav_data)\n",
    "    num_embeddings = tf.shape(embeddings)[0]\n",
    "    return (embeddings,\n",
    "            tf.repeat(label, num_embeddings),\n",
    "            tf.repeat(fold, num_embeddings),\n",
    "            tf.repeat(weight, num_embeddings))\n",
    "\n",
    "# extract embedding\n",
    "main_ds = main_ds.map(extract_embedding_weight).unbatch()\n",
    "main_ds_fg = main_ds_fg.map(extract_embedding_weight).unbatch()\n",
    "main_ds_bg = main_ds_bg.map(extract_embedding_weight).unbatch()"
   ]
  },
  {
   "cell_type": "code",
   "execution_count": 6,
   "id": "74a0f925",
   "metadata": {},
   "outputs": [],
   "source": [
    "def split_ds(main_ds):\n",
    "    cached_ds = main_ds.cache()\n",
    "    train_ds = cached_ds.filter(lambda embedding, label, fold, weight: fold < 8)\n",
    "    val_ds = cached_ds.filter(lambda embedding, label, fold, weight: fold == 8)\n",
    "    test_ds = cached_ds.filter(lambda embedding, label, fold, weight: fold == 9)\n",
    "\n",
    "    # remove the folds column now that it's not needed anymore\n",
    "    remove_fold_column = lambda embedding, label, fold, weight: (embedding, label, weight)\n",
    "\n",
    "    train_ds = train_ds.map(remove_fold_column)\n",
    "    val_ds = val_ds.map(remove_fold_column)\n",
    "    test_ds = test_ds.map(remove_fold_column)\n",
    "\n",
    "    train_ds = train_ds.cache().shuffle(1000).batch(32).prefetch(tf.data.AUTOTUNE)\n",
    "    val_ds = val_ds.cache().batch(32).prefetch(tf.data.AUTOTUNE)\n",
    "    test_ds = test_ds.cache().batch(32).prefetch(tf.data.AUTOTUNE)\n",
    "    \n",
    "    return train_ds, val_ds, test_ds"
   ]
  },
  {
   "cell_type": "code",
   "execution_count": 7,
   "id": "a9fe9487",
   "metadata": {},
   "outputs": [
    {
     "name": "stdout",
     "output_type": "stream",
     "text": [
      "WARNING:tensorflow:From /Users/andrewchang/opt/anaconda3/envs/AcousticEnv/lib/python3.8/site-packages/tensorflow/python/autograph/pyct/static_analysis/liveness.py:83: Analyzer.lamba_check (from tensorflow.python.autograph.pyct.static_analysis.liveness) is deprecated and will be removed after 2023-09-23.\n",
      "Instructions for updating:\n",
      "Lambda fuctions will be no more assumed to be used in the statement where they are used, or at least in the same block. https://github.com/tensorflow/tensorflow/issues/56089\n"
     ]
    },
    {
     "name": "stderr",
     "output_type": "stream",
     "text": [
      "WARNING:tensorflow:From /Users/andrewchang/opt/anaconda3/envs/AcousticEnv/lib/python3.8/site-packages/tensorflow/python/autograph/pyct/static_analysis/liveness.py:83: Analyzer.lamba_check (from tensorflow.python.autograph.pyct.static_analysis.liveness) is deprecated and will be removed after 2023-09-23.\n",
      "Instructions for updating:\n",
      "Lambda fuctions will be no more assumed to be used in the statement where they are used, or at least in the same block. https://github.com/tensorflow/tensorflow/issues/56089\n"
     ]
    }
   ],
   "source": [
    "train_ds, val_ds, test_ds = split_ds(main_ds)\n",
    "train_ds_bg, val_ds_bg, test_ds_bg = split_ds(main_ds_bg)\n",
    "train_ds_fg, val_ds_fg, test_ds_fg = split_ds(main_ds_fg)"
   ]
  },
  {
   "cell_type": "markdown",
   "id": "5ce4c464",
   "metadata": {},
   "source": [
    "# Shared model parameters"
   ]
  },
  {
   "cell_type": "code",
   "execution_count": 8,
   "id": "5ffeb5e7",
   "metadata": {},
   "outputs": [],
   "source": [
    "loss_func = tf.keras.losses.SparseCategoricalCrossentropy(from_logits=True)\n",
    "my_classes = ['city', 'nature']\n",
    "Sequential_model = [tf.keras.layers.Input(shape=(1024), dtype=tf.float32, name='input_embedding'),\n",
    "                    tf.keras.layers.Dropout(.5),\n",
    "                    tf.keras.layers.Dense(256, activation='relu'),\n",
    "                    tf.keras.layers.Dropout(.5),\n",
    "                    tf.keras.layers.Dense(len(my_classes))\n",
    "                    ]\n",
    "\n",
    "callback = tf.keras.callbacks.EarlyStopping(monitor='loss',\n",
    "                                            patience=3,\n",
    "                                            restore_best_weights=True)\n",
    "\n",
    "learning_rate=0.001"
   ]
  },
  {
   "cell_type": "markdown",
   "id": "afe243be",
   "metadata": {},
   "source": [
    "# Model of raw signal"
   ]
  },
  {
   "cell_type": "code",
   "execution_count": 9,
   "id": "efd43949",
   "metadata": {},
   "outputs": [
    {
     "name": "stdout",
     "output_type": "stream",
     "text": [
      "Model: \"raw_model\"\n",
      "_________________________________________________________________\n",
      " Layer (type)                Output Shape              Param #   \n",
      "=================================================================\n",
      " dropout (Dropout)           (None, 1024)              0         \n",
      "                                                                 \n",
      " dense (Dense)               (None, 256)               262400    \n",
      "                                                                 \n",
      " dropout_1 (Dropout)         (None, 256)               0         \n",
      "                                                                 \n",
      " dense_1 (Dense)             (None, 2)                 514       \n",
      "                                                                 \n",
      "=================================================================\n",
      "Total params: 262,914\n",
      "Trainable params: 262,914\n",
      "Non-trainable params: 0\n",
      "_________________________________________________________________\n"
     ]
    }
   ],
   "source": [
    "tf.keras.backend.clear_session()\n",
    "tf.random.set_seed(23)\n",
    "np.random.seed(23)\n",
    "python_random.seed(23)\n",
    "\n",
    "raw_model = tf.keras.Sequential(Sequential_model, name='raw_model')\n",
    "\n",
    "raw_model.summary()"
   ]
  },
  {
   "cell_type": "code",
   "execution_count": 10,
   "id": "9f392d4b",
   "metadata": {},
   "outputs": [
    {
     "name": "stdout",
     "output_type": "stream",
     "text": [
      "Epoch 1/20\n",
      "2848/2848 [==============================] - 433s 150ms/step - loss: 6.6880e-04 - accuracy: 0.8493 - val_loss: 6.7086e-04 - val_accuracy: 0.8547\n",
      "Epoch 2/20\n",
      "2848/2848 [==============================] - 15s 5ms/step - loss: 5.9183e-04 - accuracy: 0.8605 - val_loss: 6.7828e-04 - val_accuracy: 0.8214\n",
      "Epoch 3/20\n",
      "2848/2848 [==============================] - 13s 5ms/step - loss: 5.6658e-04 - accuracy: 0.8630 - val_loss: 6.6491e-04 - val_accuracy: 0.8196\n",
      "Epoch 4/20\n",
      "2848/2848 [==============================] - 13s 4ms/step - loss: 5.5263e-04 - accuracy: 0.8651 - val_loss: 6.5546e-04 - val_accuracy: 0.8482\n",
      "Epoch 5/20\n",
      "2848/2848 [==============================] - 12s 4ms/step - loss: 5.3621e-04 - accuracy: 0.8711 - val_loss: 6.6447e-04 - val_accuracy: 0.8609\n",
      "Epoch 6/20\n",
      "2848/2848 [==============================] - 13s 5ms/step - loss: 5.3310e-04 - accuracy: 0.8723 - val_loss: 6.3859e-04 - val_accuracy: 0.8787\n",
      "Epoch 7/20\n",
      "2848/2848 [==============================] - 14s 5ms/step - loss: 5.2122e-04 - accuracy: 0.8768 - val_loss: 6.6017e-04 - val_accuracy: 0.8631\n",
      "Epoch 8/20\n",
      "2848/2848 [==============================] - 12s 4ms/step - loss: 5.1367e-04 - accuracy: 0.8749 - val_loss: 6.7628e-04 - val_accuracy: 0.8472\n",
      "Epoch 9/20\n",
      "2848/2848 [==============================] - 13s 5ms/step - loss: 5.1837e-04 - accuracy: 0.8765 - val_loss: 6.6850e-04 - val_accuracy: 0.8620\n",
      "Epoch 10/20\n",
      "2848/2848 [==============================] - 13s 5ms/step - loss: 5.0987e-04 - accuracy: 0.8778 - val_loss: 6.6717e-04 - val_accuracy: 0.8511\n",
      "Epoch 11/20\n",
      "2848/2848 [==============================] - 11s 4ms/step - loss: 5.0934e-04 - accuracy: 0.8778 - val_loss: 6.8509e-04 - val_accuracy: 0.8707\n",
      "Epoch 12/20\n",
      "2848/2848 [==============================] - 13s 5ms/step - loss: 5.0848e-04 - accuracy: 0.8803 - val_loss: 6.5845e-04 - val_accuracy: 0.8911\n",
      "Epoch 13/20\n",
      "2848/2848 [==============================] - 11s 4ms/step - loss: 5.1081e-04 - accuracy: 0.8807 - val_loss: 6.5825e-04 - val_accuracy: 0.8894\n",
      "Epoch 14/20\n",
      "2848/2848 [==============================] - 10s 4ms/step - loss: 5.0720e-04 - accuracy: 0.8820 - val_loss: 6.5953e-04 - val_accuracy: 0.8816\n",
      "Epoch 15/20\n",
      "2848/2848 [==============================] - 9s 3ms/step - loss: 5.0250e-04 - accuracy: 0.8817 - val_loss: 6.7156e-04 - val_accuracy: 0.8851\n",
      "Epoch 16/20\n",
      "2848/2848 [==============================] - 8s 3ms/step - loss: 4.9807e-04 - accuracy: 0.8841 - val_loss: 6.7787e-04 - val_accuracy: 0.8715\n",
      "Epoch 17/20\n",
      "2848/2848 [==============================] - 8s 3ms/step - loss: 4.9540e-04 - accuracy: 0.8825 - val_loss: 6.6746e-04 - val_accuracy: 0.8900\n",
      "Epoch 18/20\n",
      "2848/2848 [==============================] - 8s 3ms/step - loss: 4.9682e-04 - accuracy: 0.8827 - val_loss: 6.8731e-04 - val_accuracy: 0.8832\n",
      "Epoch 19/20\n",
      "2848/2848 [==============================] - 9s 3ms/step - loss: 4.9607e-04 - accuracy: 0.8835 - val_loss: 6.7560e-04 - val_accuracy: 0.8839\n",
      "Epoch 20/20\n",
      "2848/2848 [==============================] - 10s 3ms/step - loss: 4.9936e-04 - accuracy: 0.8818 - val_loss: 6.5382e-04 - val_accuracy: 0.8897\n"
     ]
    }
   ],
   "source": [
    "optimizer = tf.keras.optimizers.Adam(learning_rate=learning_rate)\n",
    "\n",
    "raw_model.compile(loss=loss_func,\n",
    "                  optimizer=optimizer,\n",
    "                  weighted_metrics=['accuracy'],\n",
    "                  metrics=['accuracy'])\n",
    "\n",
    "\n",
    "history_raw = raw_model.fit(train_ds,\n",
    "                            epochs=20,\n",
    "                            validation_data=val_ds,\n",
    "                            callbacks=callback)"
   ]
  },
  {
   "cell_type": "code",
   "execution_count": 11,
   "id": "d05995ef",
   "metadata": {},
   "outputs": [
    {
     "name": "stdout",
     "output_type": "stream",
     "text": [
      "353/353 [==============================] - 5s 7ms/step - loss: 6.1318e-04 - accuracy: 0.8902\n",
      "Loss:  0.0006131808622740209\n",
      "Accuracy:  0.8902482390403748\n"
     ]
    }
   ],
   "source": [
    "# this is the accuracy per YAMNet sample, not the accuracy per audio file\n",
    "loss, accuracy = raw_model.evaluate(test_ds)\n",
    "\n",
    "print(\"Loss: \", loss)\n",
    "print(\"Accuracy: \", accuracy)"
   ]
  },
  {
   "cell_type": "code",
   "execution_count": 12,
   "id": "3ec330d6",
   "metadata": {},
   "outputs": [],
   "source": [
    "def acc_by_audio(model, test_ds, y_true):\n",
    "    n_sample_per_audio = 20\n",
    "    y_pred = model.predict(test_ds)\n",
    "    y_reshaped = y_pred.reshape(-1, n_sample_per_audio, 2) # reshape to audio*sample*binary_prediction\n",
    "    y_pred_by_row = y_reshaped.mean(axis=1).argmax(axis=1)\n",
    "    from sklearn.metrics import accuracy_score\n",
    "    return accuracy_score(y_true, y_pred_by_row), y_pred_by_row\n"
   ]
  },
  {
   "cell_type": "code",
   "execution_count": 13,
   "id": "db50fa9e",
   "metadata": {},
   "outputs": [
    {
     "name": "stdout",
     "output_type": "stream",
     "text": [
      "353/353 [==============================] - 0s 1ms/step\n",
      "0.9539007092198581\n"
     ]
    }
   ],
   "source": [
    "test_df = df_all[df_all['fold']==9]\n",
    "acc, y_pred = acc_by_audio(raw_model, test_ds, y_true = test_df['category'])\n",
    "print(acc)"
   ]
  },
  {
   "cell_type": "code",
   "execution_count": 14,
   "id": "279458f0",
   "metadata": {},
   "outputs": [
    {
     "name": "stderr",
     "output_type": "stream",
     "text": [
      "/var/folders/fw/slnm06yn15lgwlcg_7jpt3t00000gn/T/ipykernel_97983/3143404827.py:2: SettingWithCopyWarning: \n",
      "A value is trying to be set on a copy of a slice from a DataFrame.\n",
      "Try using .loc[row_indexer,col_indexer] = value instead\n",
      "\n",
      "See the caveats in the documentation: https://pandas.pydata.org/pandas-docs/stable/user_guide/indexing.html#returning-a-view-versus-a-copy\n",
      "  test_df['pred'] = y_pred\n"
     ]
    },
    {
     "data": {
      "image/png": "[encoded data removed]",
      "text/plain": [
       "<Figure size 640x480 with 1 Axes>"
      ]
     },
     "metadata": {},
     "output_type": "display_data"
    }
   ],
   "source": [
    "from sklearn.metrics import accuracy_score\n",
    "test_df['pred'] = y_pred\n",
    "acc_source = test_df.groupby(['source']).apply(lambda x: accuracy_score(x['category'], x['pred']))\n",
    "\n",
    "ax = acc_source.plot.barh()\n",
    "ax.axvline(x=0.5, color='k', linestyle='--')\n",
    "ax.set_xlim(0,1)\n",
    "plt.show()"
   ]
  },
  {
   "cell_type": "markdown",
   "id": "7240d839",
   "metadata": {},
   "source": [
    "# Model of background signal"
   ]
  },
  {
   "cell_type": "code",
   "execution_count": 15,
   "id": "40f53bd0",
   "metadata": {},
   "outputs": [
    {
     "name": "stdout",
     "output_type": "stream",
     "text": [
      "Model: \"bg_model\"\n",
      "_________________________________________________________________\n",
      " Layer (type)                Output Shape              Param #   \n",
      "=================================================================\n",
      " dropout (Dropout)           (None, 1024)              0         \n",
      "                                                                 \n",
      " dense (Dense)               (None, 256)               262400    \n",
      "                                                                 \n",
      " dropout_1 (Dropout)         (None, 256)               0         \n",
      "                                                                 \n",
      " dense_1 (Dense)             (None, 2)                 514       \n",
      "                                                                 \n",
      "=================================================================\n",
      "Total params: 262,914\n",
      "Trainable params: 262,914\n",
      "Non-trainable params: 0\n",
      "_________________________________________________________________\n"
     ]
    }
   ],
   "source": [
    "tf.keras.backend.clear_session()\n",
    "tf.random.set_seed(23)\n",
    "np.random.seed(23)\n",
    "python_random.seed(23)\n",
    "\n",
    "bg_model = tf.keras.Sequential(Sequential_model, name='bg_model')\n",
    "\n",
    "bg_model.summary()"
   ]
  },
  {
   "cell_type": "code",
   "execution_count": 16,
   "id": "acc05654",
   "metadata": {},
   "outputs": [
    {
     "name": "stdout",
     "output_type": "stream",
     "text": [
      "Epoch 1/20\n",
      "2848/2848 [==============================] - 487s 169ms/step - loss: 5.0799e-04 - accuracy: 0.8812 - val_loss: 6.9255e-04 - val_accuracy: 0.8709\n",
      "Epoch 2/20\n",
      "2848/2848 [==============================] - 18s 6ms/step - loss: 5.0105e-04 - accuracy: 0.8824 - val_loss: 7.0418e-04 - val_accuracy: 0.8815\n",
      "Epoch 3/20\n",
      "2848/2848 [==============================] - 15s 5ms/step - loss: 5.1113e-04 - accuracy: 0.8828 - val_loss: 6.6746e-04 - val_accuracy: 0.8902\n",
      "Epoch 4/20\n",
      "2848/2848 [==============================] - 13s 5ms/step - loss: 5.0296e-04 - accuracy: 0.8861 - val_loss: 6.6355e-04 - val_accuracy: 0.8903\n",
      "Epoch 5/20\n",
      "2848/2848 [==============================] - 13s 5ms/step - loss: 5.0240e-04 - accuracy: 0.8852 - val_loss: 6.7457e-04 - val_accuracy: 0.8863\n"
     ]
    }
   ],
   "source": [
    "optimizer = tf.keras.optimizers.Adam(learning_rate=learning_rate)\n",
    "\n",
    "bg_model.compile(loss=loss_func,\n",
    "                 optimizer=optimizer,\n",
    "                 weighted_metrics=['accuracy'],\n",
    "                 metrics=['accuracy'])\n",
    "\n",
    "\n",
    "history_bg =bg_model.fit(train_ds_bg,\n",
    "                         epochs=20,\n",
    "                         validation_data=val_ds_bg,\n",
    "                         callbacks=callback)"
   ]
  },
  {
   "cell_type": "code",
   "execution_count": 17,
   "id": "298a1656",
   "metadata": {},
   "outputs": [
    {
     "name": "stdout",
     "output_type": "stream",
     "text": [
      "353/353 [==============================] - 6s 9ms/step - loss: 6.4683e-04 - accuracy: 0.8823\n",
      "Loss:  0.0006468250649049878\n",
      "Accuracy:  0.8822695016860962\n"
     ]
    }
   ],
   "source": [
    "loss, accuracy = bg_model.evaluate(test_ds_bg)\n",
    "\n",
    "print(\"Loss: \", loss)\n",
    "print(\"Accuracy: \", accuracy)"
   ]
  },
  {
   "cell_type": "code",
   "execution_count": 18,
   "id": "065702ba",
   "metadata": {},
   "outputs": [
    {
     "name": "stdout",
     "output_type": "stream",
     "text": [
      "353/353 [==============================] - 1s 2ms/step\n",
      "0.950354609929078\n"
     ]
    }
   ],
   "source": [
    "test_df = df_all[df_all['fold']==9]\n",
    "acc, y_pred = acc_by_audio(bg_model, test_ds_bg, y_true = test_df['category'])\n",
    "print(acc)"
   ]
  },
  {
   "cell_type": "code",
   "execution_count": 19,
   "id": "9afdab3e",
   "metadata": {},
   "outputs": [
    {
     "name": "stderr",
     "output_type": "stream",
     "text": [
      "/var/folders/fw/slnm06yn15lgwlcg_7jpt3t00000gn/T/ipykernel_97983/3143404827.py:2: SettingWithCopyWarning: \n",
      "A value is trying to be set on a copy of a slice from a DataFrame.\n",
      "Try using .loc[row_indexer,col_indexer] = value instead\n",
      "\n",
      "See the caveats in the documentation: https://pandas.pydata.org/pandas-docs/stable/user_guide/indexing.html#returning-a-view-versus-a-copy\n",
      "  test_df['pred'] = y_pred\n"
     ]
    },
    {
     "data": {
      "image/png": "[encoded data removed]",
      "text/plain": [
       "<Figure size 640x480 with 1 Axes>"
      ]
     },
     "metadata": {},
     "output_type": "display_data"
    }
   ],
   "source": [
    "from sklearn.metrics import accuracy_score\n",
    "test_df['pred'] = y_pred\n",
    "acc_source = test_df.groupby(['source']).apply(lambda x: accuracy_score(x['category'], x['pred']))\n",
    "\n",
    "ax = acc_source.plot.barh()\n",
    "ax.axvline(x=0.5, color='k', linestyle='--')\n",
    "ax.set_xlim(0,1)\n",
    "plt.show()"
   ]
  },
  {
   "cell_type": "markdown",
   "id": "7cb5dd27",
   "metadata": {},
   "source": [
    "# Model of foreground signal"
   ]
  },
  {
   "cell_type": "code",
   "execution_count": 20,
   "id": "9c377256",
   "metadata": {},
   "outputs": [
    {
     "name": "stdout",
     "output_type": "stream",
     "text": [
      "Model: \"fg_model\"\n",
      "_________________________________________________________________\n",
      " Layer (type)                Output Shape              Param #   \n",
      "=================================================================\n",
      " dropout (Dropout)           (None, 1024)              0         \n",
      "                                                                 \n",
      " dense (Dense)               (None, 256)               262400    \n",
      "                                                                 \n",
      " dropout_1 (Dropout)         (None, 256)               0         \n",
      "                                                                 \n",
      " dense_1 (Dense)             (None, 2)                 514       \n",
      "                                                                 \n",
      "=================================================================\n",
      "Total params: 262,914\n",
      "Trainable params: 262,914\n",
      "Non-trainable params: 0\n",
      "_________________________________________________________________\n"
     ]
    }
   ],
   "source": [
    "tf.keras.backend.clear_session()\n",
    "tf.random.set_seed(23)\n",
    "np.random.seed(23)\n",
    "python_random.seed(23)\n",
    "\n",
    "fg_model = tf.keras.Sequential(Sequential_model, name='fg_model')\n",
    "\n",
    "fg_model.summary()"
   ]
  },
  {
   "cell_type": "code",
   "execution_count": 21,
   "id": "57973000",
   "metadata": {},
   "outputs": [
    {
     "name": "stdout",
     "output_type": "stream",
     "text": [
      "Epoch 1/20\n",
      "2848/2848 [==============================] - 452s 156ms/step - loss: 8.6771e-04 - accuracy: 0.6204 - val_loss: 8.4592e-04 - val_accuracy: 0.5949\n",
      "Epoch 2/20\n",
      "2848/2848 [==============================] - 10s 4ms/step - loss: 8.4415e-04 - accuracy: 0.6179 - val_loss: 8.4586e-04 - val_accuracy: 0.6137\n",
      "Epoch 3/20\n",
      "2848/2848 [==============================] - 9s 3ms/step - loss: 8.3458e-04 - accuracy: 0.6258 - val_loss: 8.4646e-04 - val_accuracy: 0.6132\n",
      "Epoch 4/20\n",
      "2848/2848 [==============================] - 8s 3ms/step - loss: 8.2972e-04 - accuracy: 0.6358 - val_loss: 8.4823e-04 - val_accuracy: 0.6270\n",
      "Epoch 5/20\n",
      "2848/2848 [==============================] - 8s 3ms/step - loss: 8.2246e-04 - accuracy: 0.6367 - val_loss: 8.3711e-04 - val_accuracy: 0.6314\n",
      "Epoch 6/20\n",
      "2848/2848 [==============================] - 9s 3ms/step - loss: 8.2363e-04 - accuracy: 0.6398 - val_loss: 8.3497e-04 - val_accuracy: 0.6332\n",
      "Epoch 7/20\n",
      "2848/2848 [==============================] - 9s 3ms/step - loss: 8.2110e-04 - accuracy: 0.6426 - val_loss: 8.4762e-04 - val_accuracy: 0.6345\n",
      "Epoch 8/20\n",
      "2848/2848 [==============================] - 9s 3ms/step - loss: 8.1992e-04 - accuracy: 0.6433 - val_loss: 8.3664e-04 - val_accuracy: 0.6349\n",
      "Epoch 9/20\n",
      "2848/2848 [==============================] - 9s 3ms/step - loss: 8.1708e-04 - accuracy: 0.6445 - val_loss: 8.3886e-04 - val_accuracy: 0.6427\n",
      "Epoch 10/20\n",
      "2848/2848 [==============================] - 8s 3ms/step - loss: 8.1107e-04 - accuracy: 0.6456 - val_loss: 8.3556e-04 - val_accuracy: 0.6196\n",
      "Epoch 11/20\n",
      "2848/2848 [==============================] - 9s 3ms/step - loss: 8.1425e-04 - accuracy: 0.6437 - val_loss: 8.4429e-04 - val_accuracy: 0.6264\n",
      "Epoch 12/20\n",
      "2848/2848 [==============================] - 9s 3ms/step - loss: 8.0984e-04 - accuracy: 0.6480 - val_loss: 8.4246e-04 - val_accuracy: 0.6319\n",
      "Epoch 13/20\n",
      "2848/2848 [==============================] - 9s 3ms/step - loss: 8.0789e-04 - accuracy: 0.6509 - val_loss: 8.3640e-04 - val_accuracy: 0.6335\n",
      "Epoch 14/20\n",
      "2848/2848 [==============================] - 9s 3ms/step - loss: 8.0721e-04 - accuracy: 0.6487 - val_loss: 8.4395e-04 - val_accuracy: 0.6395\n",
      "Epoch 15/20\n",
      "2848/2848 [==============================] - 10s 3ms/step - loss: 8.1003e-04 - accuracy: 0.6479 - val_loss: 8.5382e-04 - val_accuracy: 0.6376\n",
      "Epoch 16/20\n",
      "2848/2848 [==============================] - 9s 3ms/step - loss: 8.0432e-04 - accuracy: 0.6539 - val_loss: 8.4406e-04 - val_accuracy: 0.6393\n",
      "Epoch 17/20\n",
      "2848/2848 [==============================] - 9s 3ms/step - loss: 8.0973e-04 - accuracy: 0.6511 - val_loss: 8.4880e-04 - val_accuracy: 0.6503\n",
      "Epoch 18/20\n",
      "2848/2848 [==============================] - 10s 3ms/step - loss: 8.0064e-04 - accuracy: 0.6555 - val_loss: 8.4800e-04 - val_accuracy: 0.6459\n",
      "Epoch 19/20\n",
      "2848/2848 [==============================] - 9s 3ms/step - loss: 8.0477e-04 - accuracy: 0.6520 - val_loss: 8.3920e-04 - val_accuracy: 0.6515\n",
      "Epoch 20/20\n",
      "2848/2848 [==============================] - 10s 3ms/step - loss: 8.0387e-04 - accuracy: 0.6511 - val_loss: 8.3969e-04 - val_accuracy: 0.6501\n"
     ]
    }
   ],
   "source": [
    "optimizer = tf.keras.optimizers.Adam(learning_rate=learning_rate)\n",
    "\n",
    "fg_model.compile(loss=loss_func,\n",
    "                 optimizer=optimizer,\n",
    "                 weighted_metrics=['accuracy'],\n",
    "                 metrics=['accuracy'])\n",
    "\n",
    "\n",
    "history_fg =fg_model.fit(train_ds_fg,\n",
    "                         epochs=20,\n",
    "                         validation_data=val_ds_fg,\n",
    "                         callbacks=callback)"
   ]
  },
  {
   "cell_type": "code",
   "execution_count": 22,
   "id": "9fc48ed7",
   "metadata": {},
   "outputs": [
    {
     "name": "stdout",
     "output_type": "stream",
     "text": [
      "353/353 [==============================] - 4s 5ms/step - loss: 8.1976e-04 - accuracy: 0.6604\n",
      "Loss:  0.0008197595016099513\n",
      "Accuracy:  0.6603723168373108\n"
     ]
    }
   ],
   "source": [
    "loss, accuracy = fg_model.evaluate(test_ds_fg)\n",
    "\n",
    "print(\"Loss: \", loss)\n",
    "print(\"Accuracy: \", accuracy)"
   ]
  },
  {
   "cell_type": "code",
   "execution_count": 23,
   "id": "38a7902a",
   "metadata": {},
   "outputs": [
    {
     "name": "stdout",
     "output_type": "stream",
     "text": [
      "353/353 [==============================] - 0s 1ms/step\n",
      "0.6914893617021277\n"
     ]
    }
   ],
   "source": [
    "test_df = df_all[df_all['fold']==9]\n",
    "acc, y_pred = acc_by_audio(fg_model, test_ds_fg, y_true = test_df['category'])\n",
    "print(acc)"
   ]
  },
  {
   "cell_type": "code",
   "execution_count": 24,
   "id": "f53c7736",
   "metadata": {},
   "outputs": [
    {
     "name": "stderr",
     "output_type": "stream",
     "text": [
      "/var/folders/fw/slnm06yn15lgwlcg_7jpt3t00000gn/T/ipykernel_97983/3143404827.py:2: SettingWithCopyWarning: \n",
      "A value is trying to be set on a copy of a slice from a DataFrame.\n",
      "Try using .loc[row_indexer,col_indexer] = value instead\n",
      "\n",
      "See the caveats in the documentation: https://pandas.pydata.org/pandas-docs/stable/user_guide/indexing.html#returning-a-view-versus-a-copy\n",
      "  test_df['pred'] = y_pred\n"
     ]
    },
    {
     "data": {
      "image/png": "[encoded data removed]",
      "text/plain": [
       "<Figure size 640x480 with 1 Axes>"
      ]
     },
     "metadata": {},
     "output_type": "display_data"
    }
   ],
   "source": [
    "from sklearn.metrics import accuracy_score\n",
    "test_df['pred'] = y_pred\n",
    "acc_source = test_df.groupby(['source']).apply(lambda x: accuracy_score(x['category'], x['pred']))\n",
    "\n",
    "ax = acc_source.plot.barh()\n",
    "ax.axvline(x=0.5, color='k', linestyle='--')\n",
    "ax.set_xlim(0,1)\n",
    "plt.show()"
   ]
  },
  {
   "cell_type": "code",
   "execution_count": null,
   "id": "6f0db323",
   "metadata": {},
   "outputs": [],
   "source": []
  }
 ],
 "metadata": {
  "kernelspec": {
   "display_name": "Python 3 (ipykernel)",
   "language": "python",
   "name": "python3"
  },
  "language_info": {
   "codemirror_mode": {
    "name": "ipython",
    "version": 3
   },
   "file_extension": ".py",
   "mimetype": "text/x-python",
   "name": "python",
   "nbconvert_exporter": "python",
   "pygments_lexer": "ipython3",
   "version": "3.8.16"
  }
 },
 "nbformat": 4,
 "nbformat_minor": 5
}
