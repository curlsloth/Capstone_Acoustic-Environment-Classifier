{
 "cells": [
  {
   "cell_type": "code",
   "execution_count": 1,
   "id": "70c95679",
   "metadata": {},
   "outputs": [
    {
     "name": "stderr",
     "output_type": "stream",
     "text": [
      "2023-03-01 14:11:45.494218: I tensorflow/core/platform/cpu_feature_guard.cc:193] This TensorFlow binary is optimized with oneAPI Deep Neural Network Library (oneDNN) to use the following CPU instructions in performance-critical operations:  SSE4.1 SSE4.2 AVX AVX2 AVX512F AVX512_VNNI FMA\n",
      "To enable them in other operations, rebuild TensorFlow with the appropriate compiler flags.\n"
     ]
    }
   ],
   "source": [
    "import matplotlib.pyplot as plt\n",
    "import numpy as np\n",
    "import pandas as pd\n",
    "import tensorflow as tf\n",
    "import random as python_random"
   ]
  },
  {
   "cell_type": "code",
   "execution_count": 2,
   "id": "fae9882f",
   "metadata": {},
   "outputs": [
    {
     "data": {
      "text/html": [
       "<div>\n",
       "<style scoped>\n",
       "    .dataframe tbody tr th:only-of-type {\n",
       "        vertical-align: middle;\n",
       "    }\n",
       "\n",
       "    .dataframe tbody tr th {\n",
       "        vertical-align: top;\n",
       "    }\n",
       "\n",
       "    .dataframe thead th {\n",
       "        text-align: right;\n",
       "    }\n",
       "</style>\n",
       "<table border=\"1\" class=\"dataframe\">\n",
       "  <thead>\n",
       "    <tr style=\"text-align: right;\">\n",
       "      <th></th>\n",
       "      <th>file</th>\n",
       "      <th>source</th>\n",
       "      <th>category</th>\n",
       "      <th>weight</th>\n",
       "      <th>fold</th>\n",
       "    </tr>\n",
       "  </thead>\n",
       "  <tbody>\n",
       "    <tr>\n",
       "      <th>0</th>\n",
       "      <td>../data/interim/GoogleAudioSet_unbalanced_list...</td>\n",
       "      <td>Google_city</td>\n",
       "      <td>1</td>\n",
       "      <td>1</td>\n",
       "      <td>0</td>\n",
       "    </tr>\n",
       "    <tr>\n",
       "      <th>1</th>\n",
       "      <td>../data/interim/GoogleAudioSet_unbalanced_list...</td>\n",
       "      <td>Google_city</td>\n",
       "      <td>1</td>\n",
       "      <td>1</td>\n",
       "      <td>8</td>\n",
       "    </tr>\n",
       "    <tr>\n",
       "      <th>2</th>\n",
       "      <td>../data/interim/GoogleAudioSet_unbalanced_list...</td>\n",
       "      <td>Google_nature</td>\n",
       "      <td>0</td>\n",
       "      <td>1</td>\n",
       "      <td>5</td>\n",
       "    </tr>\n",
       "    <tr>\n",
       "      <th>3</th>\n",
       "      <td>../data/interim/GoogleAudioSet_unbalanced_list...</td>\n",
       "      <td>Google_city</td>\n",
       "      <td>1</td>\n",
       "      <td>1</td>\n",
       "      <td>1</td>\n",
       "    </tr>\n",
       "    <tr>\n",
       "      <th>4</th>\n",
       "      <td>../data/interim/GoogleAudioSet_unbalanced_list...</td>\n",
       "      <td>Google_city</td>\n",
       "      <td>1</td>\n",
       "      <td>1</td>\n",
       "      <td>1</td>\n",
       "    </tr>\n",
       "    <tr>\n",
       "      <th>...</th>\n",
       "      <td>...</td>\n",
       "      <td>...</td>\n",
       "      <td>...</td>\n",
       "      <td>...</td>\n",
       "      <td>...</td>\n",
       "    </tr>\n",
       "    <tr>\n",
       "      <th>13662</th>\n",
       "      <td>../data/interim/GoogleAudioSet_unbalanced_list...</td>\n",
       "      <td>Google_city</td>\n",
       "      <td>1</td>\n",
       "      <td>1</td>\n",
       "      <td>5</td>\n",
       "    </tr>\n",
       "    <tr>\n",
       "      <th>13663</th>\n",
       "      <td>../data/interim/GoogleAudioSet_unbalanced_list...</td>\n",
       "      <td>Google_city</td>\n",
       "      <td>1</td>\n",
       "      <td>1</td>\n",
       "      <td>3</td>\n",
       "    </tr>\n",
       "    <tr>\n",
       "      <th>13664</th>\n",
       "      <td>../data/interim/GoogleAudioSet_unbalanced_list...</td>\n",
       "      <td>Google_city</td>\n",
       "      <td>1</td>\n",
       "      <td>1</td>\n",
       "      <td>8</td>\n",
       "    </tr>\n",
       "    <tr>\n",
       "      <th>13665</th>\n",
       "      <td>../data/interim/GoogleAudioSet_unbalanced_list...</td>\n",
       "      <td>Google_city</td>\n",
       "      <td>1</td>\n",
       "      <td>1</td>\n",
       "      <td>8</td>\n",
       "    </tr>\n",
       "    <tr>\n",
       "      <th>13666</th>\n",
       "      <td>../data/interim/GoogleAudioSet_unbalanced_list...</td>\n",
       "      <td>Google_city</td>\n",
       "      <td>1</td>\n",
       "      <td>1</td>\n",
       "      <td>0</td>\n",
       "    </tr>\n",
       "  </tbody>\n",
       "</table>\n",
       "<p>13667 rows × 5 columns</p>\n",
       "</div>"
      ],
      "text/plain": [
       "                                                    file         source  \\\n",
       "0      ../data/interim/GoogleAudioSet_unbalanced_list...    Google_city   \n",
       "1      ../data/interim/GoogleAudioSet_unbalanced_list...    Google_city   \n",
       "2      ../data/interim/GoogleAudioSet_unbalanced_list...  Google_nature   \n",
       "3      ../data/interim/GoogleAudioSet_unbalanced_list...    Google_city   \n",
       "4      ../data/interim/GoogleAudioSet_unbalanced_list...    Google_city   \n",
       "...                                                  ...            ...   \n",
       "13662  ../data/interim/GoogleAudioSet_unbalanced_list...    Google_city   \n",
       "13663  ../data/interim/GoogleAudioSet_unbalanced_list...    Google_city   \n",
       "13664  ../data/interim/GoogleAudioSet_unbalanced_list...    Google_city   \n",
       "13665  ../data/interim/GoogleAudioSet_unbalanced_list...    Google_city   \n",
       "13666  ../data/interim/GoogleAudioSet_unbalanced_list...    Google_city   \n",
       "\n",
       "       category  weight  fold  \n",
       "0             1       1     0  \n",
       "1             1       1     8  \n",
       "2             0       1     5  \n",
       "3             1       1     1  \n",
       "4             1       1     1  \n",
       "...         ...     ...   ...  \n",
       "13662         1       1     5  \n",
       "13663         1       1     3  \n",
       "13664         1       1     8  \n",
       "13665         1       1     8  \n",
       "13666         1       1     0  \n",
       "\n",
       "[13667 rows x 5 columns]"
      ]
     },
     "execution_count": 2,
     "metadata": {},
     "output_type": "execute_result"
    }
   ],
   "source": [
    "meta_df = pd.read_csv('../train_val_test_split/train_val_test_GoogleAudioSet.csv', index_col=0)\n",
    "meta_df"
   ]
  },
  {
   "cell_type": "code",
   "execution_count": 3,
   "id": "297da86c",
   "metadata": {},
   "outputs": [],
   "source": [
    "def load_df_pkl(filename, indices):\n",
    "    import pickle\n",
    "    import pandas as pd\n",
    "    # open a file, where you stored the pickled data\n",
    "    file = open(filename, 'rb')\n",
    "\n",
    "    # dump information to that file\n",
    "    output = pickle.load(file)\n",
    "    df = output[indices]\n",
    "\n",
    "    # close the file\n",
    "    file.close()\n",
    "    return df"
   ]
  },
  {
   "cell_type": "code",
   "execution_count": 4,
   "id": "d548aa6f",
   "metadata": {},
   "outputs": [
    {
     "data": {
      "text/html": [
       "<div>\n",
       "<style scoped>\n",
       "    .dataframe tbody tr th:only-of-type {\n",
       "        vertical-align: middle;\n",
       "    }\n",
       "\n",
       "    .dataframe tbody tr th {\n",
       "        vertical-align: top;\n",
       "    }\n",
       "\n",
       "    .dataframe thead th {\n",
       "        text-align: right;\n",
       "    }\n",
       "</style>\n",
       "<table border=\"1\" class=\"dataframe\">\n",
       "  <thead>\n",
       "    <tr style=\"text-align: right;\">\n",
       "      <th></th>\n",
       "      <th>ZCR</th>\n",
       "      <th>MEANt</th>\n",
       "      <th>VARt</th>\n",
       "      <th>SKEWt</th>\n",
       "      <th>KURTt</th>\n",
       "      <th>LEQt</th>\n",
       "      <th>BGNt</th>\n",
       "      <th>SNRt</th>\n",
       "      <th>MED</th>\n",
       "      <th>Ht</th>\n",
       "      <th>...</th>\n",
       "      <th>H_gamma</th>\n",
       "      <th>H_GiniSimpson</th>\n",
       "      <th>RAOQ</th>\n",
       "      <th>AGI</th>\n",
       "      <th>ROItotal</th>\n",
       "      <th>ROIcover</th>\n",
       "      <th>category</th>\n",
       "      <th>fold</th>\n",
       "      <th>source</th>\n",
       "      <th>weight</th>\n",
       "    </tr>\n",
       "  </thead>\n",
       "  <tbody>\n",
       "    <tr>\n",
       "      <th>0</th>\n",
       "      <td>2224.839429</td>\n",
       "      <td>1.942012e-10</td>\n",
       "      <td>0.01</td>\n",
       "      <td>-0.055097</td>\n",
       "      <td>3.955750</td>\n",
       "      <td>73.135448</td>\n",
       "      <td>-11.971474</td>\n",
       "      <td>0.652570</td>\n",
       "      <td>0.252015</td>\n",
       "      <td>0.966358</td>\n",
       "      <td>...</td>\n",
       "      <td>10534.849647</td>\n",
       "      <td>0.894660</td>\n",
       "      <td>0.237498</td>\n",
       "      <td>1.355972</td>\n",
       "      <td>8</td>\n",
       "      <td>1.821574</td>\n",
       "      <td>1</td>\n",
       "      <td>0</td>\n",
       "      <td>Google_city</td>\n",
       "      <td>1</td>\n",
       "    </tr>\n",
       "    <tr>\n",
       "      <th>1</th>\n",
       "      <td>785.000000</td>\n",
       "      <td>-1.113117e-09</td>\n",
       "      <td>0.01</td>\n",
       "      <td>0.072047</td>\n",
       "      <td>3.946318</td>\n",
       "      <td>73.020601</td>\n",
       "      <td>-12.891607</td>\n",
       "      <td>0.058714</td>\n",
       "      <td>0.226683</td>\n",
       "      <td>0.935924</td>\n",
       "      <td>...</td>\n",
       "      <td>4255.638968</td>\n",
       "      <td>0.919609</td>\n",
       "      <td>0.028679</td>\n",
       "      <td>2.121209</td>\n",
       "      <td>0</td>\n",
       "      <td>0.000000</td>\n",
       "      <td>1</td>\n",
       "      <td>8</td>\n",
       "      <td>Google_city</td>\n",
       "      <td>1</td>\n",
       "    </tr>\n",
       "    <tr>\n",
       "      <th>2</th>\n",
       "      <td>1773.400000</td>\n",
       "      <td>-1.587719e-09</td>\n",
       "      <td>0.01</td>\n",
       "      <td>-0.391271</td>\n",
       "      <td>30.064412</td>\n",
       "      <td>73.020601</td>\n",
       "      <td>-12.021679</td>\n",
       "      <td>3.558738</td>\n",
       "      <td>0.250563</td>\n",
       "      <td>0.769328</td>\n",
       "      <td>...</td>\n",
       "      <td>29546.808824</td>\n",
       "      <td>0.981489</td>\n",
       "      <td>0.409997</td>\n",
       "      <td>2.053207</td>\n",
       "      <td>1</td>\n",
       "      <td>0.000000</td>\n",
       "      <td>0</td>\n",
       "      <td>5</td>\n",
       "      <td>Google_nature</td>\n",
       "      <td>1</td>\n",
       "    </tr>\n",
       "    <tr>\n",
       "      <th>3</th>\n",
       "      <td>3559.500000</td>\n",
       "      <td>-1.639128e-11</td>\n",
       "      <td>0.01</td>\n",
       "      <td>-0.103153</td>\n",
       "      <td>4.906579</td>\n",
       "      <td>73.020597</td>\n",
       "      <td>-10.975547</td>\n",
       "      <td>0.976974</td>\n",
       "      <td>0.282633</td>\n",
       "      <td>0.952502</td>\n",
       "      <td>...</td>\n",
       "      <td>36440.686429</td>\n",
       "      <td>0.989522</td>\n",
       "      <td>0.473169</td>\n",
       "      <td>1.868765</td>\n",
       "      <td>3</td>\n",
       "      <td>0.963374</td>\n",
       "      <td>1</td>\n",
       "      <td>1</td>\n",
       "      <td>Google_city</td>\n",
       "      <td>1</td>\n",
       "    </tr>\n",
       "    <tr>\n",
       "      <th>4</th>\n",
       "      <td>2644.400000</td>\n",
       "      <td>3.917143e-10</td>\n",
       "      <td>0.01</td>\n",
       "      <td>0.027781</td>\n",
       "      <td>5.769542</td>\n",
       "      <td>73.020601</td>\n",
       "      <td>-12.805609</td>\n",
       "      <td>1.818748</td>\n",
       "      <td>0.228939</td>\n",
       "      <td>0.922281</td>\n",
       "      <td>...</td>\n",
       "      <td>17712.890483</td>\n",
       "      <td>0.981764</td>\n",
       "      <td>0.304511</td>\n",
       "      <td>1.984243</td>\n",
       "      <td>0</td>\n",
       "      <td>0.000000</td>\n",
       "      <td>1</td>\n",
       "      <td>1</td>\n",
       "      <td>Google_city</td>\n",
       "      <td>1</td>\n",
       "    </tr>\n",
       "    <tr>\n",
       "      <th>...</th>\n",
       "      <td>...</td>\n",
       "      <td>...</td>\n",
       "      <td>...</td>\n",
       "      <td>...</td>\n",
       "      <td>...</td>\n",
       "      <td>...</td>\n",
       "      <td>...</td>\n",
       "      <td>...</td>\n",
       "      <td>...</td>\n",
       "      <td>...</td>\n",
       "      <td>...</td>\n",
       "      <td>...</td>\n",
       "      <td>...</td>\n",
       "      <td>...</td>\n",
       "      <td>...</td>\n",
       "      <td>...</td>\n",
       "      <td>...</td>\n",
       "      <td>...</td>\n",
       "      <td>...</td>\n",
       "      <td>...</td>\n",
       "      <td>...</td>\n",
       "    </tr>\n",
       "    <tr>\n",
       "      <th>13662</th>\n",
       "      <td>1841.400000</td>\n",
       "      <td>-6.563962e-10</td>\n",
       "      <td>0.01</td>\n",
       "      <td>-0.413531</td>\n",
       "      <td>11.487023</td>\n",
       "      <td>73.020601</td>\n",
       "      <td>-13.898317</td>\n",
       "      <td>3.993134</td>\n",
       "      <td>0.201876</td>\n",
       "      <td>0.874060</td>\n",
       "      <td>...</td>\n",
       "      <td>18923.354813</td>\n",
       "      <td>0.975606</td>\n",
       "      <td>0.199140</td>\n",
       "      <td>2.711269</td>\n",
       "      <td>10</td>\n",
       "      <td>1.530471</td>\n",
       "      <td>1</td>\n",
       "      <td>5</td>\n",
       "      <td>Google_city</td>\n",
       "      <td>1</td>\n",
       "    </tr>\n",
       "    <tr>\n",
       "      <th>13663</th>\n",
       "      <td>1422.800000</td>\n",
       "      <td>1.285970e-09</td>\n",
       "      <td>0.01</td>\n",
       "      <td>0.282130</td>\n",
       "      <td>4.558244</td>\n",
       "      <td>73.020601</td>\n",
       "      <td>-9.971991</td>\n",
       "      <td>-0.017257</td>\n",
       "      <td>0.317251</td>\n",
       "      <td>0.969655</td>\n",
       "      <td>...</td>\n",
       "      <td>9919.647364</td>\n",
       "      <td>0.974021</td>\n",
       "      <td>0.077812</td>\n",
       "      <td>1.551653</td>\n",
       "      <td>0</td>\n",
       "      <td>0.000000</td>\n",
       "      <td>1</td>\n",
       "      <td>3</td>\n",
       "      <td>Google_city</td>\n",
       "      <td>1</td>\n",
       "    </tr>\n",
       "    <tr>\n",
       "      <th>13664</th>\n",
       "      <td>1703.600000</td>\n",
       "      <td>-1.293607e-10</td>\n",
       "      <td>0.01</td>\n",
       "      <td>-0.093959</td>\n",
       "      <td>16.096061</td>\n",
       "      <td>73.020601</td>\n",
       "      <td>-40.683586</td>\n",
       "      <td>30.284005</td>\n",
       "      <td>0.009243</td>\n",
       "      <td>0.737921</td>\n",
       "      <td>...</td>\n",
       "      <td>39232.305436</td>\n",
       "      <td>0.986211</td>\n",
       "      <td>0.607940</td>\n",
       "      <td>136.099564</td>\n",
       "      <td>0</td>\n",
       "      <td>0.000000</td>\n",
       "      <td>1</td>\n",
       "      <td>8</td>\n",
       "      <td>Google_city</td>\n",
       "      <td>1</td>\n",
       "    </tr>\n",
       "    <tr>\n",
       "      <th>13665</th>\n",
       "      <td>2172.600000</td>\n",
       "      <td>7.361174e-10</td>\n",
       "      <td>0.01</td>\n",
       "      <td>0.002022</td>\n",
       "      <td>5.816957</td>\n",
       "      <td>73.020601</td>\n",
       "      <td>-11.690019</td>\n",
       "      <td>1.882262</td>\n",
       "      <td>0.260315</td>\n",
       "      <td>0.934288</td>\n",
       "      <td>...</td>\n",
       "      <td>17011.372795</td>\n",
       "      <td>0.984618</td>\n",
       "      <td>0.221118</td>\n",
       "      <td>1.689392</td>\n",
       "      <td>1</td>\n",
       "      <td>0.000000</td>\n",
       "      <td>1</td>\n",
       "      <td>8</td>\n",
       "      <td>Google_city</td>\n",
       "      <td>1</td>\n",
       "    </tr>\n",
       "    <tr>\n",
       "      <th>13666</th>\n",
       "      <td>2611.100000</td>\n",
       "      <td>3.576279e-11</td>\n",
       "      <td>0.01</td>\n",
       "      <td>-0.034215</td>\n",
       "      <td>2.908528</td>\n",
       "      <td>73.020597</td>\n",
       "      <td>-10.735144</td>\n",
       "      <td>0.100209</td>\n",
       "      <td>0.290565</td>\n",
       "      <td>0.992673</td>\n",
       "      <td>...</td>\n",
       "      <td>27729.904220</td>\n",
       "      <td>0.944133</td>\n",
       "      <td>0.358662</td>\n",
       "      <td>1.264591</td>\n",
       "      <td>1</td>\n",
       "      <td>0.105506</td>\n",
       "      <td>1</td>\n",
       "      <td>0</td>\n",
       "      <td>Google_city</td>\n",
       "      <td>1</td>\n",
       "    </tr>\n",
       "  </tbody>\n",
       "</table>\n",
       "<p>13667 rows × 64 columns</p>\n",
       "</div>"
      ],
      "text/plain": [
       "               ZCR         MEANt  VARt     SKEWt      KURTt       LEQt  \\\n",
       "0      2224.839429  1.942012e-10  0.01 -0.055097   3.955750  73.135448   \n",
       "1       785.000000 -1.113117e-09  0.01  0.072047   3.946318  73.020601   \n",
       "2      1773.400000 -1.587719e-09  0.01 -0.391271  30.064412  73.020601   \n",
       "3      3559.500000 -1.639128e-11  0.01 -0.103153   4.906579  73.020597   \n",
       "4      2644.400000  3.917143e-10  0.01  0.027781   5.769542  73.020601   \n",
       "...            ...           ...   ...       ...        ...        ...   \n",
       "13662  1841.400000 -6.563962e-10  0.01 -0.413531  11.487023  73.020601   \n",
       "13663  1422.800000  1.285970e-09  0.01  0.282130   4.558244  73.020601   \n",
       "13664  1703.600000 -1.293607e-10  0.01 -0.093959  16.096061  73.020601   \n",
       "13665  2172.600000  7.361174e-10  0.01  0.002022   5.816957  73.020601   \n",
       "13666  2611.100000  3.576279e-11  0.01 -0.034215   2.908528  73.020597   \n",
       "\n",
       "            BGNt       SNRt       MED        Ht  ...       H_gamma  \\\n",
       "0     -11.971474   0.652570  0.252015  0.966358  ...  10534.849647   \n",
       "1     -12.891607   0.058714  0.226683  0.935924  ...   4255.638968   \n",
       "2     -12.021679   3.558738  0.250563  0.769328  ...  29546.808824   \n",
       "3     -10.975547   0.976974  0.282633  0.952502  ...  36440.686429   \n",
       "4     -12.805609   1.818748  0.228939  0.922281  ...  17712.890483   \n",
       "...          ...        ...       ...       ...  ...           ...   \n",
       "13662 -13.898317   3.993134  0.201876  0.874060  ...  18923.354813   \n",
       "13663  -9.971991  -0.017257  0.317251  0.969655  ...   9919.647364   \n",
       "13664 -40.683586  30.284005  0.009243  0.737921  ...  39232.305436   \n",
       "13665 -11.690019   1.882262  0.260315  0.934288  ...  17011.372795   \n",
       "13666 -10.735144   0.100209  0.290565  0.992673  ...  27729.904220   \n",
       "\n",
       "       H_GiniSimpson      RAOQ         AGI  ROItotal  ROIcover  category  \\\n",
       "0           0.894660  0.237498    1.355972         8  1.821574         1   \n",
       "1           0.919609  0.028679    2.121209         0  0.000000         1   \n",
       "2           0.981489  0.409997    2.053207         1  0.000000         0   \n",
       "3           0.989522  0.473169    1.868765         3  0.963374         1   \n",
       "4           0.981764  0.304511    1.984243         0  0.000000         1   \n",
       "...              ...       ...         ...       ...       ...       ...   \n",
       "13662       0.975606  0.199140    2.711269        10  1.530471         1   \n",
       "13663       0.974021  0.077812    1.551653         0  0.000000         1   \n",
       "13664       0.986211  0.607940  136.099564         0  0.000000         1   \n",
       "13665       0.984618  0.221118    1.689392         1  0.000000         1   \n",
       "13666       0.944133  0.358662    1.264591         1  0.105506         1   \n",
       "\n",
       "       fold         source  weight  \n",
       "0         0    Google_city       1  \n",
       "1         8    Google_city       1  \n",
       "2         5  Google_nature       1  \n",
       "3         1    Google_city       1  \n",
       "4         1    Google_city       1  \n",
       "...     ...            ...     ...  \n",
       "13662     5    Google_city       1  \n",
       "13663     3    Google_city       1  \n",
       "13664     8    Google_city       1  \n",
       "13665     8    Google_city       1  \n",
       "13666     0    Google_city       1  \n",
       "\n",
       "[13667 rows x 64 columns]"
      ]
     },
     "execution_count": 4,
     "metadata": {},
     "output_type": "execute_result"
    }
   ],
   "source": [
    "df_list = []\n",
    "for index, row in meta_df.iterrows():\n",
    "    df_list.append(load_df_pkl(row['file'], indices='df_indices'))\n",
    "    \n",
    "df = pd.concat(df_list, ignore_index=True)\n",
    "df = pd.concat([df, meta_df[['category','fold','source','weight']]], axis=1)\n",
    "\n",
    "df"
   ]
  },
  {
   "cell_type": "code",
   "execution_count": 5,
   "id": "731d8b53",
   "metadata": {},
   "outputs": [
    {
     "data": {
      "text/plain": [
       "source\n",
       "Google_city      6687\n",
       "Google_nature    6980\n",
       "Name: weight, dtype: int64"
      ]
     },
     "execution_count": 5,
     "metadata": {},
     "output_type": "execute_result"
    }
   ],
   "source": [
    "# check the weight\n",
    "df.groupby(['source'])['weight'].sum()"
   ]
  },
  {
   "cell_type": "code",
   "execution_count": 6,
   "id": "a7e11baa",
   "metadata": {},
   "outputs": [],
   "source": [
    "## data preprocessing\n",
    "def df_preproc(df):\n",
    "\n",
    "    # replacing the inf values by NaN\n",
    "    df.replace([np.inf, -np.inf], np.nan, inplace=True)\n",
    "\n",
    "    train_category = df[df['fold']<8]['category']\n",
    "    val_category = df[df['fold']==8]['category']\n",
    "    test_category = df[df['fold']==9]['category']\n",
    "\n",
    "    train_source = df[df['fold']<8]['source']\n",
    "    val_source = df[df['fold']==8]['source']\n",
    "    test_source = df[df['fold']==9]['source']\n",
    "    \n",
    "    train_weight = df[df['fold']<8]['weight']\n",
    "    val_weight = df[df['fold']==8]['weight']\n",
    "    test_weight = df[df['fold']==9]['weight']\n",
    "\n",
    "    train_df = df[df['fold']<8].drop(columns=['fold','category','source','weight'])\n",
    "    val_df = df[df['fold']==8].drop(columns=['fold','category','source','weight'])\n",
    "    test_df = df[df['fold']==9].drop(columns=['fold','category','source','weight'])\n",
    "\n",
    "    # replace the nan by mean\n",
    "    from sklearn.impute import SimpleImputer\n",
    "    from sklearn.preprocessing import StandardScaler\n",
    "    from sklearn.pipeline import Pipeline\n",
    "\n",
    "    transformer = Pipeline(steps=[\n",
    "           ('imputer', SimpleImputer(missing_values=np.nan, strategy='mean'))\n",
    "          ,('scaler', StandardScaler())\n",
    "    ])\n",
    "\n",
    "    transformer.fit(train_df)\n",
    "    train_df = pd.DataFrame(transformer.transform(train_df), columns=train_df.columns)\n",
    "    val_df = pd.DataFrame(transformer.transform(val_df), columns=val_df.columns)\n",
    "    test_df = pd.DataFrame(transformer.transform(test_df), columns=test_df.columns)\n",
    "    \n",
    "    return train_df, val_df, test_df, train_category, val_category, test_category, train_source, val_source, test_source, train_weight\n"
   ]
  },
  {
   "cell_type": "code",
   "execution_count": 7,
   "id": "b3b4f7cb",
   "metadata": {},
   "outputs": [],
   "source": [
    "train_df, val_df, test_df, train_category, val_category, test_category, train_source, val_source, test_source, train_weight = df_preproc(df)"
   ]
  },
  {
   "cell_type": "markdown",
   "id": "294ba60f",
   "metadata": {},
   "source": [
    "# Shared model parameters"
   ]
  },
  {
   "cell_type": "code",
   "execution_count": 8,
   "id": "d3b623b6",
   "metadata": {},
   "outputs": [],
   "source": [
    "# https://www.tensorflow.org/api_docs/python/tf/keras/Model#compile\n",
    "loss_func = tf.keras.losses.SparseCategoricalCrossentropy(from_logits=True)\n",
    "my_classes = ['city', 'nature']\n",
    "weighted_metrics=['accuracy'] # or []\n",
    "loss_weights=None # or None\n",
    "learning_rate=0.001\n",
    "\n",
    "Sequential_model = [\n",
    "    tf.keras.layers.Input(shape=(len(train_df.columns)), dtype=tf.float32),\n",
    "    tf.keras.layers.Dropout(.5),\n",
    "    tf.keras.layers.Dense(30, activation='relu'),\n",
    "#     tf.keras.layers.Dropout(.5),\n",
    "#     tf.keras.layers.Dense(30, activation='relu'),\n",
    "    tf.keras.layers.Dense(2)\n",
    "]\n",
    "\n",
    "callback = tf.keras.callbacks.EarlyStopping(monitor='loss',\n",
    "                                            patience=3,\n",
    "                                            restore_best_weights=True)"
   ]
  },
  {
   "cell_type": "markdown",
   "id": "b4174dbc",
   "metadata": {},
   "source": [
    "# Raw indices"
   ]
  },
  {
   "cell_type": "code",
   "execution_count": 9,
   "id": "8455c2e8",
   "metadata": {},
   "outputs": [
    {
     "name": "stdout",
     "output_type": "stream",
     "text": [
      "Model: \"model\"\n",
      "_________________________________________________________________\n",
      " Layer (type)                Output Shape              Param #   \n",
      "=================================================================\n",
      " dropout (Dropout)           (None, 60)                0         \n",
      "                                                                 \n",
      " dense (Dense)               (None, 30)                1830      \n",
      "                                                                 \n",
      " dense_1 (Dense)             (None, 2)                 62        \n",
      "                                                                 \n",
      "=================================================================\n",
      "Total params: 1,892\n",
      "Trainable params: 1,892\n",
      "Non-trainable params: 0\n",
      "_________________________________________________________________\n"
     ]
    },
    {
     "name": "stderr",
     "output_type": "stream",
     "text": [
      "2023-03-01 15:22:48.290791: I tensorflow/core/platform/cpu_feature_guard.cc:193] This TensorFlow binary is optimized with oneAPI Deep Neural Network Library (oneDNN) to use the following CPU instructions in performance-critical operations:  SSE4.1 SSE4.2 AVX AVX2 AVX512F AVX512_VNNI FMA\n",
      "To enable them in other operations, rebuild TensorFlow with the appropriate compiler flags.\n"
     ]
    }
   ],
   "source": [
    "# import the necessary packages\n",
    "\n",
    "tf.keras.backend.clear_session()\n",
    "tf.random.set_seed(23)\n",
    "np.random.seed(23)\n",
    "python_random.seed(23)\n",
    "\n",
    "\n",
    "model = tf.keras.Sequential(Sequential_model, name='model')\n",
    "\n",
    "model.summary()\n"
   ]
  },
  {
   "cell_type": "code",
   "execution_count": 10,
   "id": "1025d0e2",
   "metadata": {},
   "outputs": [
    {
     "name": "stdout",
     "output_type": "stream",
     "text": [
      "Epoch 1/50\n",
      "373/373 [==============================] - 1s 2ms/step - loss: 0.7275 - accuracy: 0.5760 - weighted_accuracy: 0.5760 - val_loss: 0.6479 - val_accuracy: 0.6392 - val_weighted_accuracy: 0.6392\n",
      "Epoch 2/50\n",
      "373/373 [==============================] - 0s 1ms/step - loss: 0.6779 - accuracy: 0.5992 - weighted_accuracy: 0.5992 - val_loss: 0.6412 - val_accuracy: 0.6378 - val_weighted_accuracy: 0.6378\n",
      "Epoch 3/50\n",
      "373/373 [==============================] - 0s 1ms/step - loss: 0.6675 - accuracy: 0.6068 - weighted_accuracy: 0.6068 - val_loss: 0.6305 - val_accuracy: 0.6452 - val_weighted_accuracy: 0.6452\n",
      "Epoch 4/50\n",
      "373/373 [==============================] - 0s 1ms/step - loss: 0.6568 - accuracy: 0.6180 - weighted_accuracy: 0.6180 - val_loss: 0.6311 - val_accuracy: 0.6486 - val_weighted_accuracy: 0.6486\n",
      "Epoch 5/50\n",
      "373/373 [==============================] - 1s 1ms/step - loss: 0.6509 - accuracy: 0.6195 - weighted_accuracy: 0.6195 - val_loss: 0.6304 - val_accuracy: 0.6419 - val_weighted_accuracy: 0.6419\n",
      "Epoch 6/50\n",
      "373/373 [==============================] - 1s 2ms/step - loss: 0.6488 - accuracy: 0.6255 - weighted_accuracy: 0.6255 - val_loss: 0.6334 - val_accuracy: 0.6372 - val_weighted_accuracy: 0.6372\n",
      "Epoch 7/50\n",
      "373/373 [==============================] - 1s 1ms/step - loss: 0.6513 - accuracy: 0.6237 - weighted_accuracy: 0.6237 - val_loss: 0.6290 - val_accuracy: 0.6533 - val_weighted_accuracy: 0.6533\n",
      "Epoch 8/50\n",
      "373/373 [==============================] - 1s 1ms/step - loss: 0.6454 - accuracy: 0.6256 - weighted_accuracy: 0.6256 - val_loss: 0.6253 - val_accuracy: 0.6499 - val_weighted_accuracy: 0.6499\n",
      "Epoch 9/50\n",
      "373/373 [==============================] - 1s 2ms/step - loss: 0.6475 - accuracy: 0.6295 - weighted_accuracy: 0.6295 - val_loss: 0.6288 - val_accuracy: 0.6412 - val_weighted_accuracy: 0.6412\n",
      "Epoch 10/50\n",
      "373/373 [==============================] - 1s 1ms/step - loss: 0.6451 - accuracy: 0.6262 - weighted_accuracy: 0.6262 - val_loss: 0.6285 - val_accuracy: 0.6419 - val_weighted_accuracy: 0.6419\n",
      "Epoch 11/50\n",
      "373/373 [==============================] - 1s 1ms/step - loss: 0.6467 - accuracy: 0.6279 - weighted_accuracy: 0.6279 - val_loss: 0.6281 - val_accuracy: 0.6479 - val_weighted_accuracy: 0.6479\n",
      "Epoch 12/50\n",
      "373/373 [==============================] - 1s 1ms/step - loss: 0.6434 - accuracy: 0.6324 - weighted_accuracy: 0.6324 - val_loss: 0.6262 - val_accuracy: 0.6533 - val_weighted_accuracy: 0.6533\n",
      "Epoch 13/50\n",
      "373/373 [==============================] - 1s 1ms/step - loss: 0.6455 - accuracy: 0.6274 - weighted_accuracy: 0.6274 - val_loss: 0.6297 - val_accuracy: 0.6358 - val_weighted_accuracy: 0.6358\n",
      "Epoch 14/50\n",
      "373/373 [==============================] - 1s 1ms/step - loss: 0.6438 - accuracy: 0.6287 - weighted_accuracy: 0.6287 - val_loss: 0.6268 - val_accuracy: 0.6479 - val_weighted_accuracy: 0.6479\n",
      "Epoch 15/50\n",
      "373/373 [==============================] - 1s 2ms/step - loss: 0.6390 - accuracy: 0.6334 - weighted_accuracy: 0.6334 - val_loss: 0.6265 - val_accuracy: 0.6452 - val_weighted_accuracy: 0.6452\n",
      "Epoch 16/50\n",
      "373/373 [==============================] - 1s 1ms/step - loss: 0.6454 - accuracy: 0.6260 - weighted_accuracy: 0.6260 - val_loss: 0.6253 - val_accuracy: 0.6519 - val_weighted_accuracy: 0.6519\n",
      "Epoch 17/50\n",
      "373/373 [==============================] - 1s 1ms/step - loss: 0.6456 - accuracy: 0.6216 - weighted_accuracy: 0.6216 - val_loss: 0.6271 - val_accuracy: 0.6439 - val_weighted_accuracy: 0.6439\n",
      "Epoch 18/50\n",
      "373/373 [==============================] - 1s 1ms/step - loss: 0.6405 - accuracy: 0.6324 - weighted_accuracy: 0.6324 - val_loss: 0.6248 - val_accuracy: 0.6385 - val_weighted_accuracy: 0.6385\n"
     ]
    }
   ],
   "source": [
    "# the optimizer needs to be reset every time\n",
    "optimizer = tf.keras.optimizers.Adam(learning_rate=learning_rate)\n",
    "\n",
    "model.compile(loss=loss_func,\n",
    "              optimizer=optimizer,\n",
    "              weighted_metrics=weighted_metrics,\n",
    "              loss_weights=loss_weights,\n",
    "              metrics=['accuracy'])\n",
    "\n",
    "history = model.fit(x=train_df,\n",
    "                    y=train_category,\n",
    "                    epochs=50,\n",
    "                    validation_data=(val_df, val_category),\n",
    "                    callbacks=callback,\n",
    "                    sample_weight=train_weight)\n"
   ]
  },
  {
   "cell_type": "code",
   "execution_count": 11,
   "id": "3e498672",
   "metadata": {},
   "outputs": [
    {
     "name": "stdout",
     "output_type": "stream",
     "text": [
      "8/8 [==============================] - 0s 2ms/step - loss: 0.6548 - accuracy: 0.6132 - weighted_accuracy: 0.6132\n"
     ]
    }
   ],
   "source": [
    "loss, accuracy, w_acc = model.evaluate(x=test_df, y=test_category)\n"
   ]
  },
  {
   "cell_type": "code",
   "execution_count": 12,
   "id": "3daaa35e",
   "metadata": {},
   "outputs": [
    {
     "name": "stdout",
     "output_type": "stream",
     "text": [
      "8/8 [==============================] - 0s 1ms/step\n"
     ]
    },
    {
     "data": {
      "image/png": "[encoded data removed]",
      "text/plain": [
       "<Figure size 640x480 with 1 Axes>"
      ]
     },
     "metadata": {},
     "output_type": "display_data"
    }
   ],
   "source": [
    "from sklearn.metrics import accuracy_score\n",
    "\n",
    "test_source_df = pd.DataFrame({'source':test_source, 'category':test_category, 'pred':model.predict(test_df).argmax(axis=1)})\n",
    "acc_source = test_source_df.groupby(['source']).apply(lambda x: accuracy_score(x['category'], x['pred']))\n",
    "\n",
    "ax = acc_source.plot.barh()\n",
    "ax.axvline(x=0.5, color='k', linestyle='--')\n",
    "ax.set_xlim(0,1)\n",
    "plt.show()"
   ]
  },
  {
   "cell_type": "markdown",
   "id": "7b5c2cb1",
   "metadata": {},
   "source": [
    "# Background indices"
   ]
  },
  {
   "cell_type": "code",
   "execution_count": 13,
   "id": "65e24520",
   "metadata": {},
   "outputs": [],
   "source": [
    "df_list = []\n",
    "for index, row in meta_df.iterrows():\n",
    "    df_list.append(load_df_pkl(row['file'], indices='df_indices_bg'))\n",
    "\n",
    "df = pd.concat(df_list, ignore_index=True)\n",
    "df = pd.concat([df, meta_df[['category','fold','source','weight']]], axis=1)\n",
    "train_df, val_df, test_df, train_category, val_category, test_category, train_source, val_source, test_source, train_weight = df_preproc(df)"
   ]
  },
  {
   "cell_type": "code",
   "execution_count": 14,
   "id": "c9fbeb9b",
   "metadata": {},
   "outputs": [
    {
     "name": "stdout",
     "output_type": "stream",
     "text": [
      "Model: \"bg_model\"\n",
      "_________________________________________________________________\n",
      " Layer (type)                Output Shape              Param #   \n",
      "=================================================================\n",
      " dropout (Dropout)           (None, 60)                0         \n",
      "                                                                 \n",
      " dense (Dense)               (None, 30)                1830      \n",
      "                                                                 \n",
      " dense_1 (Dense)             (None, 2)                 62        \n",
      "                                                                 \n",
      "=================================================================\n",
      "Total params: 1,892\n",
      "Trainable params: 1,892\n",
      "Non-trainable params: 0\n",
      "_________________________________________________________________\n"
     ]
    }
   ],
   "source": [
    "tf.keras.backend.clear_session()\n",
    "tf.random.set_seed(23)\n",
    "np.random.seed(23)\n",
    "python_random.seed(23)\n",
    "\n",
    "model = tf.keras.Sequential(Sequential_model, name='bg_model')\n",
    "\n",
    "model.summary()\n"
   ]
  },
  {
   "cell_type": "code",
   "execution_count": 15,
   "id": "4179d911",
   "metadata": {},
   "outputs": [
    {
     "name": "stdout",
     "output_type": "stream",
     "text": [
      "Epoch 1/50\n",
      "373/373 [==============================] - 2s 3ms/step - loss: 0.6483 - accuracy: 0.6243 - weighted_accuracy: 0.6243 - val_loss: 0.6363 - val_accuracy: 0.6439 - val_weighted_accuracy: 0.6439\n",
      "Epoch 2/50\n",
      "373/373 [==============================] - 1s 2ms/step - loss: 0.6464 - accuracy: 0.6298 - weighted_accuracy: 0.6298 - val_loss: 0.6298 - val_accuracy: 0.6445 - val_weighted_accuracy: 0.6445\n",
      "Epoch 3/50\n",
      "373/373 [==============================] - 1s 3ms/step - loss: 0.6449 - accuracy: 0.6292 - weighted_accuracy: 0.6292 - val_loss: 0.6271 - val_accuracy: 0.6492 - val_weighted_accuracy: 0.6492\n",
      "Epoch 4/50\n",
      "373/373 [==============================] - 1s 2ms/step - loss: 0.6439 - accuracy: 0.6348 - weighted_accuracy: 0.6348 - val_loss: 0.6301 - val_accuracy: 0.6479 - val_weighted_accuracy: 0.6479\n",
      "Epoch 5/50\n",
      "373/373 [==============================] - 1s 2ms/step - loss: 0.6434 - accuracy: 0.6309 - weighted_accuracy: 0.6309 - val_loss: 0.6292 - val_accuracy: 0.6398 - val_weighted_accuracy: 0.6398\n",
      "Epoch 6/50\n",
      "373/373 [==============================] - 1s 3ms/step - loss: 0.6407 - accuracy: 0.6335 - weighted_accuracy: 0.6335 - val_loss: 0.6318 - val_accuracy: 0.6486 - val_weighted_accuracy: 0.6486\n",
      "Epoch 7/50\n",
      "373/373 [==============================] - 1s 3ms/step - loss: 0.6440 - accuracy: 0.6282 - weighted_accuracy: 0.6282 - val_loss: 0.6300 - val_accuracy: 0.6432 - val_weighted_accuracy: 0.6432\n",
      "Epoch 8/50\n",
      "373/373 [==============================] - 1s 3ms/step - loss: 0.6402 - accuracy: 0.6314 - weighted_accuracy: 0.6314 - val_loss: 0.6277 - val_accuracy: 0.6459 - val_weighted_accuracy: 0.6459\n",
      "Epoch 9/50\n",
      "373/373 [==============================] - 1s 3ms/step - loss: 0.6411 - accuracy: 0.6360 - weighted_accuracy: 0.6360 - val_loss: 0.6295 - val_accuracy: 0.6472 - val_weighted_accuracy: 0.6472\n",
      "Epoch 10/50\n",
      "373/373 [==============================] - 1s 3ms/step - loss: 0.6405 - accuracy: 0.6341 - weighted_accuracy: 0.6341 - val_loss: 0.6298 - val_accuracy: 0.6392 - val_weighted_accuracy: 0.6392\n",
      "Epoch 11/50\n",
      "373/373 [==============================] - 1s 3ms/step - loss: 0.6431 - accuracy: 0.6279 - weighted_accuracy: 0.6279 - val_loss: 0.6278 - val_accuracy: 0.6533 - val_weighted_accuracy: 0.6533\n"
     ]
    }
   ],
   "source": [
    "optimizer = tf.keras.optimizers.Adam(learning_rate=learning_rate)\n",
    "\n",
    "model.compile(loss=loss_func,\n",
    "              optimizer=optimizer,\n",
    "              weighted_metrics=weighted_metrics,\n",
    "              loss_weights=loss_weights,\n",
    "              metrics=['accuracy'])\n",
    "\n",
    "history = model.fit(x=train_df,\n",
    "                    y=train_category,\n",
    "                    epochs=50,\n",
    "                    validation_data=(val_df, val_category),\n",
    "                    callbacks=callback,\n",
    "                    sample_weight=train_weight)\n"
   ]
  },
  {
   "cell_type": "code",
   "execution_count": 16,
   "id": "f44e6188",
   "metadata": {},
   "outputs": [
    {
     "name": "stdout",
     "output_type": "stream",
     "text": [
      "8/8 [==============================] - 0s 3ms/step - loss: 0.6558 - accuracy: 0.6420 - weighted_accuracy: 0.6420\n"
     ]
    }
   ],
   "source": [
    "loss, accuracy, w_acc = model.evaluate(x=test_df, y=test_category)\n"
   ]
  },
  {
   "cell_type": "code",
   "execution_count": 17,
   "id": "826d30a6",
   "metadata": {},
   "outputs": [
    {
     "name": "stdout",
     "output_type": "stream",
     "text": [
      "8/8 [==============================] - 0s 2ms/step\n"
     ]
    },
    {
     "data": {
      "image/png": "[encoded data removed]",
      "text/plain": [
       "<Figure size 640x480 with 1 Axes>"
      ]
     },
     "metadata": {},
     "output_type": "display_data"
    }
   ],
   "source": [
    "from sklearn.metrics import accuracy_score\n",
    "\n",
    "test_source_df = pd.DataFrame({'source':test_source, 'category':test_category, 'pred':model.predict(test_df).argmax(axis=1)})\n",
    "acc_source = test_source_df.groupby(['source']).apply(lambda x: accuracy_score(x['category'], x['pred']))\n",
    "\n",
    "ax = acc_source.plot.barh()\n",
    "ax.axvline(x=0.5, color='k', linestyle='--')\n",
    "ax.set_xlim(0,1)\n",
    "plt.show()"
   ]
  },
  {
   "cell_type": "markdown",
   "id": "00182cc0",
   "metadata": {},
   "source": [
    "# Foreground indices"
   ]
  },
  {
   "cell_type": "code",
   "execution_count": 18,
   "id": "aaae76df",
   "metadata": {},
   "outputs": [],
   "source": [
    "df_list = []\n",
    "for index, row in meta_df.iterrows():\n",
    "    df_list.append(load_df_pkl(row['file'], indices='df_indices_fg'))\n",
    "\n",
    "df = pd.concat(df_list, ignore_index=True)\n",
    "df = pd.concat([df, meta_df[['category','fold','source','weight']]], axis=1)\n",
    "train_df, val_df, test_df, train_category, val_category, test_category, train_source, val_source, test_source, train_weight = df_preproc(df)"
   ]
  },
  {
   "cell_type": "code",
   "execution_count": 19,
   "id": "2236de08",
   "metadata": {},
   "outputs": [
    {
     "name": "stdout",
     "output_type": "stream",
     "text": [
      "Model: \"fg_model\"\n",
      "_________________________________________________________________\n",
      " Layer (type)                Output Shape              Param #   \n",
      "=================================================================\n",
      " dropout (Dropout)           (None, 60)                0         \n",
      "                                                                 \n",
      " dense (Dense)               (None, 30)                1830      \n",
      "                                                                 \n",
      " dense_1 (Dense)             (None, 2)                 62        \n",
      "                                                                 \n",
      "=================================================================\n",
      "Total params: 1,892\n",
      "Trainable params: 1,892\n",
      "Non-trainable params: 0\n",
      "_________________________________________________________________\n"
     ]
    }
   ],
   "source": [
    "tf.keras.backend.clear_session()\n",
    "tf.random.set_seed(23)\n",
    "np.random.seed(23)\n",
    "python_random.seed(23)\n",
    "\n",
    "model = tf.keras.Sequential(Sequential_model, name='fg_model')\n",
    "\n",
    "model.summary()\n"
   ]
  },
  {
   "cell_type": "code",
   "execution_count": 20,
   "id": "98163e62",
   "metadata": {},
   "outputs": [
    {
     "name": "stdout",
     "output_type": "stream",
     "text": [
      "Epoch 1/50\n",
      "373/373 [==============================] - 2s 2ms/step - loss: 0.6586 - accuracy: 0.6097 - weighted_accuracy: 0.6097 - val_loss: 0.6518 - val_accuracy: 0.6231 - val_weighted_accuracy: 0.6231\n",
      "Epoch 2/50\n",
      "373/373 [==============================] - 1s 2ms/step - loss: 0.6508 - accuracy: 0.6200 - weighted_accuracy: 0.6200 - val_loss: 0.6427 - val_accuracy: 0.6237 - val_weighted_accuracy: 0.6237\n",
      "Epoch 3/50\n",
      "373/373 [==============================] - 1s 2ms/step - loss: 0.6486 - accuracy: 0.6197 - weighted_accuracy: 0.6197 - val_loss: 0.6425 - val_accuracy: 0.6184 - val_weighted_accuracy: 0.6184\n",
      "Epoch 4/50\n",
      "373/373 [==============================] - 1s 2ms/step - loss: 0.6470 - accuracy: 0.6237 - weighted_accuracy: 0.6237 - val_loss: 0.6413 - val_accuracy: 0.6351 - val_weighted_accuracy: 0.6351\n",
      "Epoch 5/50\n",
      "373/373 [==============================] - 1s 2ms/step - loss: 0.6446 - accuracy: 0.6264 - weighted_accuracy: 0.6264 - val_loss: 0.6392 - val_accuracy: 0.6231 - val_weighted_accuracy: 0.6231\n",
      "Epoch 6/50\n",
      "373/373 [==============================] - 1s 2ms/step - loss: 0.6440 - accuracy: 0.6255 - weighted_accuracy: 0.6255 - val_loss: 0.6396 - val_accuracy: 0.6284 - val_weighted_accuracy: 0.6284\n",
      "Epoch 7/50\n",
      "373/373 [==============================] - 1s 2ms/step - loss: 0.6456 - accuracy: 0.6275 - weighted_accuracy: 0.6275 - val_loss: 0.6405 - val_accuracy: 0.6264 - val_weighted_accuracy: 0.6264\n",
      "Epoch 8/50\n",
      "373/373 [==============================] - 1s 2ms/step - loss: 0.6409 - accuracy: 0.6300 - weighted_accuracy: 0.6300 - val_loss: 0.6397 - val_accuracy: 0.6284 - val_weighted_accuracy: 0.6284\n",
      "Epoch 9/50\n",
      "373/373 [==============================] - 1s 2ms/step - loss: 0.6442 - accuracy: 0.6274 - weighted_accuracy: 0.6274 - val_loss: 0.6377 - val_accuracy: 0.6284 - val_weighted_accuracy: 0.6284\n",
      "Epoch 10/50\n",
      "373/373 [==============================] - 1s 2ms/step - loss: 0.6414 - accuracy: 0.6319 - weighted_accuracy: 0.6319 - val_loss: 0.6364 - val_accuracy: 0.6331 - val_weighted_accuracy: 0.6331\n",
      "Epoch 11/50\n",
      "373/373 [==============================] - 1s 2ms/step - loss: 0.6417 - accuracy: 0.6267 - weighted_accuracy: 0.6267 - val_loss: 0.6358 - val_accuracy: 0.6351 - val_weighted_accuracy: 0.6351\n"
     ]
    }
   ],
   "source": [
    "optimizer = tf.keras.optimizers.Adam(learning_rate=learning_rate)\n",
    "\n",
    "model.compile(loss=loss_func,\n",
    "              optimizer=optimizer,\n",
    "              weighted_metrics=weighted_metrics,\n",
    "              loss_weights=loss_weights,\n",
    "              metrics=['accuracy'])\n",
    "\n",
    "history = model.fit(x=train_df,\n",
    "                    y=train_category,\n",
    "                    epochs=50,\n",
    "                    validation_data=(val_df, val_category),\n",
    "                    callbacks=callback,\n",
    "                    sample_weight=train_weight)"
   ]
  },
  {
   "cell_type": "code",
   "execution_count": 21,
   "id": "986504da",
   "metadata": {},
   "outputs": [
    {
     "name": "stdout",
     "output_type": "stream",
     "text": [
      "8/8 [==============================] - 0s 2ms/step - loss: 0.6500 - accuracy: 0.5844 - weighted_accuracy: 0.5844\n"
     ]
    }
   ],
   "source": [
    "loss, accuracy, w_acc = model.evaluate(x=test_df, y=test_category)\n"
   ]
  },
  {
   "cell_type": "code",
   "execution_count": 22,
   "id": "0b7a5aeb",
   "metadata": {},
   "outputs": [
    {
     "name": "stdout",
     "output_type": "stream",
     "text": [
      "8/8 [==============================] - 0s 2ms/step\n"
     ]
    },
    {
     "data": {
      "image/png": "[encoded data removed]",
      "text/plain": [
       "<Figure size 640x480 with 1 Axes>"
      ]
     },
     "metadata": {},
     "output_type": "display_data"
    }
   ],
   "source": [
    "from sklearn.metrics import accuracy_score\n",
    "\n",
    "test_source_df = pd.DataFrame({'source':test_source, 'category':test_category, 'pred':model.predict(test_df).argmax(axis=1)})\n",
    "acc_source = test_source_df.groupby(['source']).apply(lambda x: accuracy_score(x['category'], x['pred']))\n",
    "\n",
    "ax = acc_source.plot.barh()\n",
    "ax.axvline(x=0.5, color='k', linestyle='--')\n",
    "ax.set_xlim(0,1)\n",
    "plt.show()"
   ]
  },
  {
   "cell_type": "markdown",
   "id": "51c8bb5f",
   "metadata": {},
   "source": [
    "# all 3 indices"
   ]
  },
  {
   "cell_type": "code",
   "execution_count": 23,
   "id": "087db3c0",
   "metadata": {},
   "outputs": [],
   "source": [
    "df_raw_list = []\n",
    "df_bg_list = []\n",
    "df_fg_list = []\n",
    "for index, row in meta_df.iterrows():\n",
    "    df_raw_list.append(load_df_pkl(row['file'], indices='df_indices'))\n",
    "    df_bg_list.append(load_df_pkl(row['file'], indices='df_indices_bg'))\n",
    "    df_fg_list.append(load_df_pkl(row['file'], indices='df_indices_fg'))\n",
    "\n",
    "df_raw = pd.concat(df_raw_list, ignore_index=True)\n",
    "df_raw.columns = list('raw_'+df_raw.columns)    \n",
    "\n",
    "df_bg = pd.concat(df_bg_list, ignore_index=True)\n",
    "df_bg.columns = list('bg_'+df_bg.columns)\n",
    "\n",
    "df_fg = pd.concat(df_fg_list, ignore_index=True)\n",
    "df_fg.columns = list('fg_'+df_fg.columns)"
   ]
  },
  {
   "cell_type": "code",
   "execution_count": 24,
   "id": "9e65cf07",
   "metadata": {},
   "outputs": [],
   "source": [
    "df = pd.concat([df_raw, df_bg, df_fg, meta_df[['category','fold','source','weight']]], axis=1)\n",
    "train_df, val_df, test_df, train_category, val_category, test_category, train_source, val_source, test_source, train_weight = df_preproc(df)"
   ]
  },
  {
   "cell_type": "code",
   "execution_count": 25,
   "id": "a5d9a301",
   "metadata": {},
   "outputs": [
    {
     "name": "stdout",
     "output_type": "stream",
     "text": [
      "Model: \"all_model\"\n",
      "_________________________________________________________________\n",
      " Layer (type)                Output Shape              Param #   \n",
      "=================================================================\n",
      " dropout (Dropout)           (None, 180)               0         \n",
      "                                                                 \n",
      " dense (Dense)               (None, 60)                10860     \n",
      "                                                                 \n",
      " dropout_1 (Dropout)         (None, 60)                0         \n",
      "                                                                 \n",
      " dense_1 (Dense)             (None, 2)                 122       \n",
      "                                                                 \n",
      "=================================================================\n",
      "Total params: 10,982\n",
      "Trainable params: 10,982\n",
      "Non-trainable params: 0\n",
      "_________________________________________________________________\n"
     ]
    }
   ],
   "source": [
    "tf.keras.backend.clear_session()\n",
    "tf.random.set_seed(23)\n",
    "np.random.seed(23)\n",
    "python_random.seed(23)\n",
    "\n",
    "model = tf.keras.Sequential([\n",
    "    tf.keras.layers.Input(shape=(len(train_df.columns)), dtype=tf.float32),\n",
    "    tf.keras.layers.Dropout(.5),\n",
    "    tf.keras.layers.Dense(60, activation='relu'),\n",
    "    tf.keras.layers.Dropout(.5),\n",
    "#     tf.keras.layers.Dense(30, activation='relu'),\n",
    "    tf.keras.layers.Dense(2)\n",
    "], name='all_model')\n",
    "\n",
    "model.summary()"
   ]
  },
  {
   "cell_type": "code",
   "execution_count": 26,
   "id": "8419cd4b",
   "metadata": {},
   "outputs": [
    {
     "name": "stdout",
     "output_type": "stream",
     "text": [
      "Epoch 1/50\n",
      "373/373 [==============================] - 1s 2ms/step - loss: 0.8832 - accuracy: 0.5610 - weighted_accuracy: 0.5610 - val_loss: 0.6467 - val_accuracy: 0.6331 - val_weighted_accuracy: 0.6331\n",
      "Epoch 2/50\n",
      "373/373 [==============================] - 1s 2ms/step - loss: 0.6764 - accuracy: 0.6065 - weighted_accuracy: 0.6065 - val_loss: 0.6358 - val_accuracy: 0.6412 - val_weighted_accuracy: 0.6412\n",
      "Epoch 3/50\n",
      "373/373 [==============================] - 1s 2ms/step - loss: 0.6568 - accuracy: 0.6157 - weighted_accuracy: 0.6157 - val_loss: 0.6304 - val_accuracy: 0.6439 - val_weighted_accuracy: 0.6439\n",
      "Epoch 4/50\n",
      "373/373 [==============================] - 1s 2ms/step - loss: 0.6467 - accuracy: 0.6281 - weighted_accuracy: 0.6281 - val_loss: 0.6319 - val_accuracy: 0.6439 - val_weighted_accuracy: 0.6439\n",
      "Epoch 5/50\n",
      "373/373 [==============================] - 1s 2ms/step - loss: 0.6483 - accuracy: 0.6272 - weighted_accuracy: 0.6272 - val_loss: 0.6301 - val_accuracy: 0.6425 - val_weighted_accuracy: 0.6425\n",
      "Epoch 6/50\n",
      "373/373 [==============================] - 1s 2ms/step - loss: 0.6450 - accuracy: 0.6269 - weighted_accuracy: 0.6269 - val_loss: 0.6316 - val_accuracy: 0.6372 - val_weighted_accuracy: 0.6372\n",
      "Epoch 7/50\n",
      "373/373 [==============================] - 1s 2ms/step - loss: 0.6416 - accuracy: 0.6293 - weighted_accuracy: 0.6293 - val_loss: 0.6272 - val_accuracy: 0.6512 - val_weighted_accuracy: 0.6512\n",
      "Epoch 8/50\n",
      "373/373 [==============================] - 1s 2ms/step - loss: 0.6449 - accuracy: 0.6295 - weighted_accuracy: 0.6295 - val_loss: 0.6263 - val_accuracy: 0.6445 - val_weighted_accuracy: 0.6445\n",
      "Epoch 9/50\n",
      "373/373 [==============================] - 1s 2ms/step - loss: 0.6430 - accuracy: 0.6258 - weighted_accuracy: 0.6258 - val_loss: 0.6255 - val_accuracy: 0.6506 - val_weighted_accuracy: 0.6506\n",
      "Epoch 10/50\n",
      "373/373 [==============================] - 1s 2ms/step - loss: 0.6401 - accuracy: 0.6381 - weighted_accuracy: 0.6381 - val_loss: 0.6224 - val_accuracy: 0.6425 - val_weighted_accuracy: 0.6425\n",
      "Epoch 11/50\n",
      "373/373 [==============================] - 1s 2ms/step - loss: 0.6384 - accuracy: 0.6366 - weighted_accuracy: 0.6366 - val_loss: 0.6203 - val_accuracy: 0.6445 - val_weighted_accuracy: 0.6445\n",
      "Epoch 12/50\n",
      "373/373 [==============================] - 1s 2ms/step - loss: 0.6405 - accuracy: 0.6309 - weighted_accuracy: 0.6309 - val_loss: 0.6215 - val_accuracy: 0.6506 - val_weighted_accuracy: 0.6506\n",
      "Epoch 13/50\n",
      "373/373 [==============================] - 1s 2ms/step - loss: 0.6394 - accuracy: 0.6395 - weighted_accuracy: 0.6395 - val_loss: 0.6225 - val_accuracy: 0.6452 - val_weighted_accuracy: 0.6452\n",
      "Epoch 14/50\n",
      "373/373 [==============================] - 1s 2ms/step - loss: 0.6364 - accuracy: 0.6372 - weighted_accuracy: 0.6372 - val_loss: 0.6211 - val_accuracy: 0.6452 - val_weighted_accuracy: 0.6452\n",
      "Epoch 15/50\n",
      "373/373 [==============================] - 1s 2ms/step - loss: 0.6388 - accuracy: 0.6341 - weighted_accuracy: 0.6341 - val_loss: 0.6264 - val_accuracy: 0.6392 - val_weighted_accuracy: 0.6392\n",
      "Epoch 16/50\n",
      "373/373 [==============================] - 1s 2ms/step - loss: 0.6390 - accuracy: 0.6382 - weighted_accuracy: 0.6382 - val_loss: 0.6194 - val_accuracy: 0.6465 - val_weighted_accuracy: 0.6465\n",
      "Epoch 17/50\n",
      "373/373 [==============================] - 1s 2ms/step - loss: 0.6381 - accuracy: 0.6363 - weighted_accuracy: 0.6363 - val_loss: 0.6188 - val_accuracy: 0.6492 - val_weighted_accuracy: 0.6492\n"
     ]
    }
   ],
   "source": [
    "optimizer = tf.keras.optimizers.Adam(learning_rate=learning_rate)\n",
    "\n",
    "model.compile(loss=loss_func,\n",
    "              optimizer=optimizer,\n",
    "              weighted_metrics=weighted_metrics,\n",
    "              loss_weights=loss_weights,\n",
    "              metrics=['accuracy'])\n",
    "\n",
    "history = model.fit(x=train_df,\n",
    "                    y=train_category,\n",
    "                    epochs=50,\n",
    "                    validation_data=(val_df, val_category),\n",
    "                    callbacks=callback,\n",
    "                    sample_weight=train_weight)"
   ]
  },
  {
   "cell_type": "code",
   "execution_count": 27,
   "id": "7a021d54",
   "metadata": {},
   "outputs": [
    {
     "name": "stdout",
     "output_type": "stream",
     "text": [
      "8/8 [==============================] - 0s 2ms/step - loss: 0.6445 - accuracy: 0.6173 - weighted_accuracy: 0.6173\n"
     ]
    }
   ],
   "source": [
    "loss, accuracy, w_acc = model.evaluate(x=test_df, y=test_category)\n"
   ]
  },
  {
   "cell_type": "code",
   "execution_count": 28,
   "id": "dfe87d0d",
   "metadata": {},
   "outputs": [
    {
     "name": "stdout",
     "output_type": "stream",
     "text": [
      "8/8 [==============================] - 0s 2ms/step\n"
     ]
    },
    {
     "data": {
      "image/png": "[encoded data removed]",
      "text/plain": [
       "<Figure size 640x480 with 1 Axes>"
      ]
     },
     "metadata": {},
     "output_type": "display_data"
    }
   ],
   "source": [
    "from sklearn.metrics import accuracy_score\n",
    "\n",
    "test_source_df = pd.DataFrame({'source':test_source, 'category':test_category, 'pred':model.predict(test_df).argmax(axis=1)})\n",
    "acc_source = test_source_df.groupby(['source']).apply(lambda x: accuracy_score(x['category'], x['pred']))\n",
    "\n",
    "ax = acc_source.plot.barh()\n",
    "ax.axvline(x=0.5, color='k', linestyle='--')\n",
    "ax.set_xlim(0,1)\n",
    "plt.show()"
   ]
  },
  {
   "cell_type": "code",
   "execution_count": null,
   "id": "0251dada",
   "metadata": {},
   "outputs": [],
   "source": []
  },
  {
   "cell_type": "code",
   "execution_count": null,
   "id": "c7ba688b",
   "metadata": {},
   "outputs": [],
   "source": []
  },
  {
   "cell_type": "code",
   "execution_count": null,
   "id": "02b2a2e4",
   "metadata": {},
   "outputs": [],
   "source": []
  }
 ],
 "metadata": {
  "kernelspec": {
   "display_name": "Python 3 (ipykernel)",
   "language": "python",
   "name": "python3"
  },
  "language_info": {
   "codemirror_mode": {
    "name": "ipython",
    "version": 3
   },
   "file_extension": ".py",
   "mimetype": "text/x-python",
   "name": "python",
   "nbconvert_exporter": "python",
   "pygments_lexer": "ipython3",
   "version": "3.8.16"
  }
 },
 "nbformat": 4,
 "nbformat_minor": 5
}
