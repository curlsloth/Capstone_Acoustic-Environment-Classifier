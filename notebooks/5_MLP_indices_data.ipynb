{
 "cells": [
  {
   "cell_type": "code",
   "execution_count": 1,
   "id": "70c95679",
   "metadata": {},
   "outputs": [
    {
     "name": "stderr",
     "output_type": "stream",
     "text": [
      "2023-02-26 14:59:27.068982: I tensorflow/core/platform/cpu_feature_guard.cc:193] This TensorFlow binary is optimized with oneAPI Deep Neural Network Library (oneDNN) to use the following CPU instructions in performance-critical operations:  SSE4.1 SSE4.2 AVX AVX2 AVX512F AVX512_VNNI FMA\n",
      "To enable them in other operations, rebuild TensorFlow with the appropriate compiler flags.\n"
     ]
    }
   ],
   "source": [
    "import matplotlib.pyplot as plt\n",
    "import numpy as np\n",
    "import pandas as pd\n",
    "import tensorflow as tf\n",
    "import random as python_random"
   ]
  },
  {
   "cell_type": "code",
   "execution_count": 2,
   "id": "fae9882f",
   "metadata": {},
   "outputs": [
    {
     "data": {
      "text/html": [
       "<div>\n",
       "<style scoped>\n",
       "    .dataframe tbody tr th:only-of-type {\n",
       "        vertical-align: middle;\n",
       "    }\n",
       "\n",
       "    .dataframe tbody tr th {\n",
       "        vertical-align: top;\n",
       "    }\n",
       "\n",
       "    .dataframe thead th {\n",
       "        text-align: right;\n",
       "    }\n",
       "</style>\n",
       "<table border=\"1\" class=\"dataframe\">\n",
       "  <thead>\n",
       "    <tr style=\"text-align: right;\">\n",
       "      <th></th>\n",
       "      <th>file</th>\n",
       "      <th>source</th>\n",
       "      <th>category</th>\n",
       "      <th>weight</th>\n",
       "      <th>file_group</th>\n",
       "      <th>fold</th>\n",
       "    </tr>\n",
       "  </thead>\n",
       "  <tbody>\n",
       "    <tr>\n",
       "      <th>0</th>\n",
       "      <td>../data/interim/youtube/NatureSoundscapes/6LpA...</td>\n",
       "      <td>nature_youtube/NatureSoundscapes</td>\n",
       "      <td>0</td>\n",
       "      <td>0.000479</td>\n",
       "      <td>youtube/NatureSoundscapes/6LpAnfislTc</td>\n",
       "      <td>6</td>\n",
       "    </tr>\n",
       "    <tr>\n",
       "      <th>1</th>\n",
       "      <td>../data/interim/youtube/NomadicAmbience_nature...</td>\n",
       "      <td>nature_youtube/NomadicAmbience_nature</td>\n",
       "      <td>0</td>\n",
       "      <td>0.005714</td>\n",
       "      <td>youtube/NomadicAmbience_nature/wlCrnlQ5ofE</td>\n",
       "      <td>0</td>\n",
       "    </tr>\n",
       "    <tr>\n",
       "      <th>2</th>\n",
       "      <td>../data/interim/SONYC/audio-10/05_027168.pkl</td>\n",
       "      <td>city_SONYC</td>\n",
       "      <td>1</td>\n",
       "      <td>0.000433</td>\n",
       "      <td>../data/interim/SONYC/audio-10/05_027168.pkl</td>\n",
       "      <td>4</td>\n",
       "    </tr>\n",
       "    <tr>\n",
       "      <th>3</th>\n",
       "      <td>../data/interim/SONYC/audio-13/32_019485.pkl</td>\n",
       "      <td>city_SONYC</td>\n",
       "      <td>1</td>\n",
       "      <td>0.000433</td>\n",
       "      <td>../data/interim/SONYC/audio-13/32_019485.pkl</td>\n",
       "      <td>8</td>\n",
       "    </tr>\n",
       "    <tr>\n",
       "      <th>4</th>\n",
       "      <td>../data/interim/SONYC/audio-13/33_016321.pkl</td>\n",
       "      <td>city_SONYC</td>\n",
       "      <td>1</td>\n",
       "      <td>0.000433</td>\n",
       "      <td>../data/interim/SONYC/audio-13/33_016321.pkl</td>\n",
       "      <td>5</td>\n",
       "    </tr>\n",
       "    <tr>\n",
       "      <th>...</th>\n",
       "      <td>...</td>\n",
       "      <td>...</td>\n",
       "      <td>...</td>\n",
       "      <td>...</td>\n",
       "      <td>...</td>\n",
       "      <td>...</td>\n",
       "    </tr>\n",
       "    <tr>\n",
       "      <th>5677</th>\n",
       "      <td>../data/interim/GoogleAudioSet/Outside, urban ...</td>\n",
       "      <td>city_GoogleAudioSet</td>\n",
       "      <td>1</td>\n",
       "      <td>0.005882</td>\n",
       "      <td>../data/interim/GoogleAudioSet/Outside, urban ...</td>\n",
       "      <td>9</td>\n",
       "    </tr>\n",
       "    <tr>\n",
       "      <th>5678</th>\n",
       "      <td>../data/interim/youtube/NatureSoundscapes/gEqK...</td>\n",
       "      <td>nature_youtube/NatureSoundscapes</td>\n",
       "      <td>0</td>\n",
       "      <td>0.000479</td>\n",
       "      <td>youtube/NatureSoundscapes/gEqKnRu15bI</td>\n",
       "      <td>2</td>\n",
       "    </tr>\n",
       "    <tr>\n",
       "      <th>5679</th>\n",
       "      <td>../data/interim/youtube/NatureSoundscapes/PFtx...</td>\n",
       "      <td>nature_youtube/NatureSoundscapes</td>\n",
       "      <td>0</td>\n",
       "      <td>0.000479</td>\n",
       "      <td>youtube/NatureSoundscapes/PFtxRv6GcFw</td>\n",
       "      <td>8</td>\n",
       "    </tr>\n",
       "    <tr>\n",
       "      <th>5680</th>\n",
       "      <td>../data/interim/SONYC/audio-17/03_001923.pkl</td>\n",
       "      <td>city_SONYC</td>\n",
       "      <td>1</td>\n",
       "      <td>0.000433</td>\n",
       "      <td>../data/interim/SONYC/audio-17/03_001923.pkl</td>\n",
       "      <td>8</td>\n",
       "    </tr>\n",
       "    <tr>\n",
       "      <th>5681</th>\n",
       "      <td>../data/interim/S2L_LULC/non_urban/s2lam107_21...</td>\n",
       "      <td>nature_S2L_LULC</td>\n",
       "      <td>0</td>\n",
       "      <td>0.002083</td>\n",
       "      <td>../data/interim/S2L_LULC/non_urban/s2lam107_21...</td>\n",
       "      <td>7</td>\n",
       "    </tr>\n",
       "  </tbody>\n",
       "</table>\n",
       "<p>5682 rows × 6 columns</p>\n",
       "</div>"
      ],
      "text/plain": [
       "                                                   file  \\\n",
       "0     ../data/interim/youtube/NatureSoundscapes/6LpA...   \n",
       "1     ../data/interim/youtube/NomadicAmbience_nature...   \n",
       "2          ../data/interim/SONYC/audio-10/05_027168.pkl   \n",
       "3          ../data/interim/SONYC/audio-13/32_019485.pkl   \n",
       "4          ../data/interim/SONYC/audio-13/33_016321.pkl   \n",
       "...                                                 ...   \n",
       "5677  ../data/interim/GoogleAudioSet/Outside, urban ...   \n",
       "5678  ../data/interim/youtube/NatureSoundscapes/gEqK...   \n",
       "5679  ../data/interim/youtube/NatureSoundscapes/PFtx...   \n",
       "5680       ../data/interim/SONYC/audio-17/03_001923.pkl   \n",
       "5681  ../data/interim/S2L_LULC/non_urban/s2lam107_21...   \n",
       "\n",
       "                                     source  category    weight  \\\n",
       "0          nature_youtube/NatureSoundscapes         0  0.000479   \n",
       "1     nature_youtube/NomadicAmbience_nature         0  0.005714   \n",
       "2                                city_SONYC         1  0.000433   \n",
       "3                                city_SONYC         1  0.000433   \n",
       "4                                city_SONYC         1  0.000433   \n",
       "...                                     ...       ...       ...   \n",
       "5677                    city_GoogleAudioSet         1  0.005882   \n",
       "5678       nature_youtube/NatureSoundscapes         0  0.000479   \n",
       "5679       nature_youtube/NatureSoundscapes         0  0.000479   \n",
       "5680                             city_SONYC         1  0.000433   \n",
       "5681                        nature_S2L_LULC         0  0.002083   \n",
       "\n",
       "                                             file_group  fold  \n",
       "0                 youtube/NatureSoundscapes/6LpAnfislTc     6  \n",
       "1            youtube/NomadicAmbience_nature/wlCrnlQ5ofE     0  \n",
       "2          ../data/interim/SONYC/audio-10/05_027168.pkl     4  \n",
       "3          ../data/interim/SONYC/audio-13/32_019485.pkl     8  \n",
       "4          ../data/interim/SONYC/audio-13/33_016321.pkl     5  \n",
       "...                                                 ...   ...  \n",
       "5677  ../data/interim/GoogleAudioSet/Outside, urban ...     9  \n",
       "5678              youtube/NatureSoundscapes/gEqKnRu15bI     2  \n",
       "5679              youtube/NatureSoundscapes/PFtxRv6GcFw     8  \n",
       "5680       ../data/interim/SONYC/audio-17/03_001923.pkl     8  \n",
       "5681  ../data/interim/S2L_LULC/non_urban/s2lam107_21...     7  \n",
       "\n",
       "[5682 rows x 6 columns]"
      ]
     },
     "execution_count": 2,
     "metadata": {},
     "output_type": "execute_result"
    }
   ],
   "source": [
    "meta_df = pd.read_csv('../train_val_test_split/train_val_test_sgkf_Feb26_allFiles_sum1.csv', index_col=0)\n",
    "meta_df"
   ]
  },
  {
   "cell_type": "code",
   "execution_count": 3,
   "id": "297da86c",
   "metadata": {},
   "outputs": [],
   "source": [
    "def load_df_pkl(filename, indices):\n",
    "    import pickle\n",
    "    import pandas as pd\n",
    "    # open a file, where you stored the pickled data\n",
    "    file = open(filename, 'rb')\n",
    "\n",
    "    # dump information to that file\n",
    "    output = pickle.load(file)\n",
    "    df = output[indices]\n",
    "\n",
    "    # close the file\n",
    "    file.close()\n",
    "    return df"
   ]
  },
  {
   "cell_type": "code",
   "execution_count": 4,
   "id": "d548aa6f",
   "metadata": {},
   "outputs": [
    {
     "data": {
      "text/html": [
       "<div>\n",
       "<style scoped>\n",
       "    .dataframe tbody tr th:only-of-type {\n",
       "        vertical-align: middle;\n",
       "    }\n",
       "\n",
       "    .dataframe tbody tr th {\n",
       "        vertical-align: top;\n",
       "    }\n",
       "\n",
       "    .dataframe thead th {\n",
       "        text-align: right;\n",
       "    }\n",
       "</style>\n",
       "<table border=\"1\" class=\"dataframe\">\n",
       "  <thead>\n",
       "    <tr style=\"text-align: right;\">\n",
       "      <th></th>\n",
       "      <th>ZCR</th>\n",
       "      <th>MEANt</th>\n",
       "      <th>VARt</th>\n",
       "      <th>SKEWt</th>\n",
       "      <th>KURTt</th>\n",
       "      <th>LEQt</th>\n",
       "      <th>BGNt</th>\n",
       "      <th>SNRt</th>\n",
       "      <th>MED</th>\n",
       "      <th>Ht</th>\n",
       "      <th>...</th>\n",
       "      <th>H_gamma</th>\n",
       "      <th>H_GiniSimpson</th>\n",
       "      <th>RAOQ</th>\n",
       "      <th>AGI</th>\n",
       "      <th>ROItotal</th>\n",
       "      <th>ROIcover</th>\n",
       "      <th>category</th>\n",
       "      <th>fold</th>\n",
       "      <th>source</th>\n",
       "      <th>weight</th>\n",
       "    </tr>\n",
       "  </thead>\n",
       "  <tbody>\n",
       "    <tr>\n",
       "      <th>0</th>\n",
       "      <td>3168.3</td>\n",
       "      <td>-4.917383e-11</td>\n",
       "      <td>0.01</td>\n",
       "      <td>-0.038741</td>\n",
       "      <td>10.787897</td>\n",
       "      <td>73.020597</td>\n",
       "      <td>-10.896017</td>\n",
       "      <td>3.033336</td>\n",
       "      <td>0.285233</td>\n",
       "      <td>0.889860</td>\n",
       "      <td>...</td>\n",
       "      <td>37016.834367</td>\n",
       "      <td>0.990615</td>\n",
       "      <td>0.472085</td>\n",
       "      <td>1.495231</td>\n",
       "      <td>11</td>\n",
       "      <td>0.442122</td>\n",
       "      <td>0</td>\n",
       "      <td>6</td>\n",
       "      <td>nature_youtube/NatureSoundscapes</td>\n",
       "      <td>0.000479</td>\n",
       "    </tr>\n",
       "    <tr>\n",
       "      <th>1</th>\n",
       "      <td>3783.1</td>\n",
       "      <td>5.465001e-10</td>\n",
       "      <td>0.01</td>\n",
       "      <td>0.324149</td>\n",
       "      <td>33.784624</td>\n",
       "      <td>73.020601</td>\n",
       "      <td>-10.399343</td>\n",
       "      <td>1.977237</td>\n",
       "      <td>0.302018</td>\n",
       "      <td>0.802993</td>\n",
       "      <td>...</td>\n",
       "      <td>33267.856238</td>\n",
       "      <td>0.993769</td>\n",
       "      <td>0.461715</td>\n",
       "      <td>1.331546</td>\n",
       "      <td>27</td>\n",
       "      <td>2.633893</td>\n",
       "      <td>0</td>\n",
       "      <td>0</td>\n",
       "      <td>nature_youtube/NomadicAmbience_nature</td>\n",
       "      <td>0.005714</td>\n",
       "    </tr>\n",
       "    <tr>\n",
       "      <th>2</th>\n",
       "      <td>530.5</td>\n",
       "      <td>1.907349e-10</td>\n",
       "      <td>0.01</td>\n",
       "      <td>-0.000379</td>\n",
       "      <td>3.175302</td>\n",
       "      <td>73.020601</td>\n",
       "      <td>-13.041456</td>\n",
       "      <td>0.514603</td>\n",
       "      <td>0.222806</td>\n",
       "      <td>0.977961</td>\n",
       "      <td>...</td>\n",
       "      <td>2439.843419</td>\n",
       "      <td>0.878735</td>\n",
       "      <td>0.017234</td>\n",
       "      <td>1.220867</td>\n",
       "      <td>17</td>\n",
       "      <td>0.879848</td>\n",
       "      <td>1</td>\n",
       "      <td>4</td>\n",
       "      <td>city_SONYC</td>\n",
       "      <td>0.000433</td>\n",
       "    </tr>\n",
       "    <tr>\n",
       "      <th>3</th>\n",
       "      <td>374.6</td>\n",
       "      <td>6.139279e-10</td>\n",
       "      <td>0.01</td>\n",
       "      <td>-0.066683</td>\n",
       "      <td>2.703640</td>\n",
       "      <td>73.020597</td>\n",
       "      <td>-13.815996</td>\n",
       "      <td>0.538294</td>\n",
       "      <td>0.203798</td>\n",
       "      <td>0.978096</td>\n",
       "      <td>...</td>\n",
       "      <td>1994.414258</td>\n",
       "      <td>0.759264</td>\n",
       "      <td>0.019362</td>\n",
       "      <td>1.406525</td>\n",
       "      <td>8</td>\n",
       "      <td>0.528788</td>\n",
       "      <td>1</td>\n",
       "      <td>8</td>\n",
       "      <td>city_SONYC</td>\n",
       "      <td>0.000433</td>\n",
       "    </tr>\n",
       "    <tr>\n",
       "      <th>4</th>\n",
       "      <td>1087.4</td>\n",
       "      <td>-9.059906e-10</td>\n",
       "      <td>0.01</td>\n",
       "      <td>0.017096</td>\n",
       "      <td>2.939691</td>\n",
       "      <td>73.020597</td>\n",
       "      <td>-12.709298</td>\n",
       "      <td>0.335519</td>\n",
       "      <td>0.231492</td>\n",
       "      <td>0.977624</td>\n",
       "      <td>...</td>\n",
       "      <td>4914.901224</td>\n",
       "      <td>0.833037</td>\n",
       "      <td>0.119948</td>\n",
       "      <td>1.406073</td>\n",
       "      <td>41</td>\n",
       "      <td>6.454105</td>\n",
       "      <td>1</td>\n",
       "      <td>5</td>\n",
       "      <td>city_SONYC</td>\n",
       "      <td>0.000433</td>\n",
       "    </tr>\n",
       "    <tr>\n",
       "      <th>...</th>\n",
       "      <td>...</td>\n",
       "      <td>...</td>\n",
       "      <td>...</td>\n",
       "      <td>...</td>\n",
       "      <td>...</td>\n",
       "      <td>...</td>\n",
       "      <td>...</td>\n",
       "      <td>...</td>\n",
       "      <td>...</td>\n",
       "      <td>...</td>\n",
       "      <td>...</td>\n",
       "      <td>...</td>\n",
       "      <td>...</td>\n",
       "      <td>...</td>\n",
       "      <td>...</td>\n",
       "      <td>...</td>\n",
       "      <td>...</td>\n",
       "      <td>...</td>\n",
       "      <td>...</td>\n",
       "      <td>...</td>\n",
       "      <td>...</td>\n",
       "    </tr>\n",
       "    <tr>\n",
       "      <th>5677</th>\n",
       "      <td>1410.2</td>\n",
       "      <td>1.142919e-09</td>\n",
       "      <td>0.01</td>\n",
       "      <td>-0.012574</td>\n",
       "      <td>2.899899</td>\n",
       "      <td>73.020601</td>\n",
       "      <td>-11.393145</td>\n",
       "      <td>0.082236</td>\n",
       "      <td>0.269366</td>\n",
       "      <td>0.991767</td>\n",
       "      <td>...</td>\n",
       "      <td>10055.657141</td>\n",
       "      <td>0.946976</td>\n",
       "      <td>0.103472</td>\n",
       "      <td>1.284188</td>\n",
       "      <td>3</td>\n",
       "      <td>0.147583</td>\n",
       "      <td>1</td>\n",
       "      <td>9</td>\n",
       "      <td>city_GoogleAudioSet</td>\n",
       "      <td>0.005882</td>\n",
       "    </tr>\n",
       "    <tr>\n",
       "      <th>5678</th>\n",
       "      <td>540.6</td>\n",
       "      <td>-2.801418e-10</td>\n",
       "      <td>0.01</td>\n",
       "      <td>0.025844</td>\n",
       "      <td>3.292901</td>\n",
       "      <td>73.020601</td>\n",
       "      <td>-13.260077</td>\n",
       "      <td>0.605169</td>\n",
       "      <td>0.217268</td>\n",
       "      <td>0.976135</td>\n",
       "      <td>...</td>\n",
       "      <td>2395.371538</td>\n",
       "      <td>0.875839</td>\n",
       "      <td>0.012907</td>\n",
       "      <td>1.216855</td>\n",
       "      <td>4</td>\n",
       "      <td>1.195112</td>\n",
       "      <td>0</td>\n",
       "      <td>2</td>\n",
       "      <td>nature_youtube/NatureSoundscapes</td>\n",
       "      <td>0.000479</td>\n",
       "    </tr>\n",
       "    <tr>\n",
       "      <th>5679</th>\n",
       "      <td>5666.8</td>\n",
       "      <td>-7.987022e-10</td>\n",
       "      <td>0.01</td>\n",
       "      <td>0.023222</td>\n",
       "      <td>5.691379</td>\n",
       "      <td>73.020597</td>\n",
       "      <td>-11.640635</td>\n",
       "      <td>1.451397</td>\n",
       "      <td>0.261799</td>\n",
       "      <td>0.945991</td>\n",
       "      <td>...</td>\n",
       "      <td>44700.692220</td>\n",
       "      <td>0.992981</td>\n",
       "      <td>0.520530</td>\n",
       "      <td>1.713805</td>\n",
       "      <td>39</td>\n",
       "      <td>6.721639</td>\n",
       "      <td>0</td>\n",
       "      <td>8</td>\n",
       "      <td>nature_youtube/NatureSoundscapes</td>\n",
       "      <td>0.000479</td>\n",
       "    </tr>\n",
       "    <tr>\n",
       "      <th>5680</th>\n",
       "      <td>1297.4</td>\n",
       "      <td>-2.723932e-09</td>\n",
       "      <td>0.01</td>\n",
       "      <td>0.017762</td>\n",
       "      <td>3.133450</td>\n",
       "      <td>73.020601</td>\n",
       "      <td>-11.636633</td>\n",
       "      <td>0.474801</td>\n",
       "      <td>0.261920</td>\n",
       "      <td>0.982117</td>\n",
       "      <td>...</td>\n",
       "      <td>11274.696534</td>\n",
       "      <td>0.938413</td>\n",
       "      <td>0.119799</td>\n",
       "      <td>1.400830</td>\n",
       "      <td>3</td>\n",
       "      <td>0.261254</td>\n",
       "      <td>1</td>\n",
       "      <td>8</td>\n",
       "      <td>city_SONYC</td>\n",
       "      <td>0.000433</td>\n",
       "    </tr>\n",
       "    <tr>\n",
       "      <th>5681</th>\n",
       "      <td>5409.3</td>\n",
       "      <td>2.220273e-10</td>\n",
       "      <td>0.01</td>\n",
       "      <td>-0.158195</td>\n",
       "      <td>30.104304</td>\n",
       "      <td>73.020601</td>\n",
       "      <td>-13.065422</td>\n",
       "      <td>3.588058</td>\n",
       "      <td>0.222193</td>\n",
       "      <td>0.856828</td>\n",
       "      <td>...</td>\n",
       "      <td>41134.800048</td>\n",
       "      <td>0.950350</td>\n",
       "      <td>0.694419</td>\n",
       "      <td>1.322629</td>\n",
       "      <td>33</td>\n",
       "      <td>4.655471</td>\n",
       "      <td>0</td>\n",
       "      <td>7</td>\n",
       "      <td>nature_S2L_LULC</td>\n",
       "      <td>0.002083</td>\n",
       "    </tr>\n",
       "  </tbody>\n",
       "</table>\n",
       "<p>5682 rows × 64 columns</p>\n",
       "</div>"
      ],
      "text/plain": [
       "         ZCR         MEANt  VARt     SKEWt      KURTt       LEQt       BGNt  \\\n",
       "0     3168.3 -4.917383e-11  0.01 -0.038741  10.787897  73.020597 -10.896017   \n",
       "1     3783.1  5.465001e-10  0.01  0.324149  33.784624  73.020601 -10.399343   \n",
       "2      530.5  1.907349e-10  0.01 -0.000379   3.175302  73.020601 -13.041456   \n",
       "3      374.6  6.139279e-10  0.01 -0.066683   2.703640  73.020597 -13.815996   \n",
       "4     1087.4 -9.059906e-10  0.01  0.017096   2.939691  73.020597 -12.709298   \n",
       "...      ...           ...   ...       ...        ...        ...        ...   \n",
       "5677  1410.2  1.142919e-09  0.01 -0.012574   2.899899  73.020601 -11.393145   \n",
       "5678   540.6 -2.801418e-10  0.01  0.025844   3.292901  73.020601 -13.260077   \n",
       "5679  5666.8 -7.987022e-10  0.01  0.023222   5.691379  73.020597 -11.640635   \n",
       "5680  1297.4 -2.723932e-09  0.01  0.017762   3.133450  73.020601 -11.636633   \n",
       "5681  5409.3  2.220273e-10  0.01 -0.158195  30.104304  73.020601 -13.065422   \n",
       "\n",
       "          SNRt       MED        Ht  ...       H_gamma  H_GiniSimpson  \\\n",
       "0     3.033336  0.285233  0.889860  ...  37016.834367       0.990615   \n",
       "1     1.977237  0.302018  0.802993  ...  33267.856238       0.993769   \n",
       "2     0.514603  0.222806  0.977961  ...   2439.843419       0.878735   \n",
       "3     0.538294  0.203798  0.978096  ...   1994.414258       0.759264   \n",
       "4     0.335519  0.231492  0.977624  ...   4914.901224       0.833037   \n",
       "...        ...       ...       ...  ...           ...            ...   \n",
       "5677  0.082236  0.269366  0.991767  ...  10055.657141       0.946976   \n",
       "5678  0.605169  0.217268  0.976135  ...   2395.371538       0.875839   \n",
       "5679  1.451397  0.261799  0.945991  ...  44700.692220       0.992981   \n",
       "5680  0.474801  0.261920  0.982117  ...  11274.696534       0.938413   \n",
       "5681  3.588058  0.222193  0.856828  ...  41134.800048       0.950350   \n",
       "\n",
       "          RAOQ       AGI  ROItotal  ROIcover  category  fold  \\\n",
       "0     0.472085  1.495231        11  0.442122         0     6   \n",
       "1     0.461715  1.331546        27  2.633893         0     0   \n",
       "2     0.017234  1.220867        17  0.879848         1     4   \n",
       "3     0.019362  1.406525         8  0.528788         1     8   \n",
       "4     0.119948  1.406073        41  6.454105         1     5   \n",
       "...        ...       ...       ...       ...       ...   ...   \n",
       "5677  0.103472  1.284188         3  0.147583         1     9   \n",
       "5678  0.012907  1.216855         4  1.195112         0     2   \n",
       "5679  0.520530  1.713805        39  6.721639         0     8   \n",
       "5680  0.119799  1.400830         3  0.261254         1     8   \n",
       "5681  0.694419  1.322629        33  4.655471         0     7   \n",
       "\n",
       "                                     source    weight  \n",
       "0          nature_youtube/NatureSoundscapes  0.000479  \n",
       "1     nature_youtube/NomadicAmbience_nature  0.005714  \n",
       "2                                city_SONYC  0.000433  \n",
       "3                                city_SONYC  0.000433  \n",
       "4                                city_SONYC  0.000433  \n",
       "...                                     ...       ...  \n",
       "5677                    city_GoogleAudioSet  0.005882  \n",
       "5678       nature_youtube/NatureSoundscapes  0.000479  \n",
       "5679       nature_youtube/NatureSoundscapes  0.000479  \n",
       "5680                             city_SONYC  0.000433  \n",
       "5681                        nature_S2L_LULC  0.002083  \n",
       "\n",
       "[5682 rows x 64 columns]"
      ]
     },
     "execution_count": 4,
     "metadata": {},
     "output_type": "execute_result"
    }
   ],
   "source": [
    "df_list = []\n",
    "for index, row in meta_df.iterrows():\n",
    "    df_list.append(load_df_pkl(row['file'], indices='df_indices'))\n",
    "    \n",
    "df = pd.concat(df_list, ignore_index=True)\n",
    "df = pd.concat([df, meta_df[['category','fold','source','weight']]], axis=1)\n",
    "\n",
    "df"
   ]
  },
  {
   "cell_type": "code",
   "execution_count": 5,
   "id": "731d8b53",
   "metadata": {},
   "outputs": [
    {
     "data": {
      "text/plain": [
       "source\n",
       "city_GoogleAudioSet                      1.0\n",
       "city_SONYC                               1.0\n",
       "city_youtube/NomadicAmbience_city        1.0\n",
       "nature_AmbisonicSoundLibrary             1.0\n",
       "nature_GoogleAudioSet                    1.0\n",
       "nature_S2L_LULC                          1.0\n",
       "nature_youtube/NatureSoundscapes         1.0\n",
       "nature_youtube/NomadicAmbience_nature    1.0\n",
       "Name: weight, dtype: float64"
      ]
     },
     "execution_count": 5,
     "metadata": {},
     "output_type": "execute_result"
    }
   ],
   "source": [
    "# check the weight\n",
    "df.groupby(['source'])['weight'].sum()"
   ]
  },
  {
   "cell_type": "code",
   "execution_count": 6,
   "id": "a7e11baa",
   "metadata": {},
   "outputs": [],
   "source": [
    "## data preprocessing\n",
    "def df_preproc(df):\n",
    "\n",
    "    # replacing the inf values by NaN\n",
    "    df.replace([np.inf, -np.inf], np.nan, inplace=True)\n",
    "\n",
    "    train_category = df[df['fold']<8]['category']\n",
    "    val_category = df[df['fold']==8]['category']\n",
    "    test_category = df[df['fold']==9]['category']\n",
    "\n",
    "    train_source = df[df['fold']<8]['source']\n",
    "    val_source = df[df['fold']==8]['source']\n",
    "    test_source = df[df['fold']==9]['source']\n",
    "    \n",
    "    train_weight = df[df['fold']<8]['weight']\n",
    "    val_weight = df[df['fold']==8]['weight']\n",
    "    test_weight = df[df['fold']==9]['weight']\n",
    "\n",
    "    train_df = df[df['fold']<8].drop(columns=['fold','category','source','weight'])\n",
    "    val_df = df[df['fold']==8].drop(columns=['fold','category','source','weight'])\n",
    "    test_df = df[df['fold']==9].drop(columns=['fold','category','source','weight'])\n",
    "\n",
    "    # replace the nan by mean\n",
    "    from sklearn.impute import SimpleImputer\n",
    "    from sklearn.preprocessing import StandardScaler\n",
    "    from sklearn.pipeline import Pipeline\n",
    "\n",
    "    transformer = Pipeline(steps=[\n",
    "           ('imputer', SimpleImputer(missing_values=np.nan, strategy='mean'))\n",
    "          ,('scaler', StandardScaler())\n",
    "    ])\n",
    "\n",
    "    transformer.fit(train_df)\n",
    "    train_df = pd.DataFrame(transformer.transform(train_df), columns=train_df.columns)\n",
    "    val_df = pd.DataFrame(transformer.transform(val_df), columns=val_df.columns)\n",
    "    test_df = pd.DataFrame(transformer.transform(test_df), columns=test_df.columns)\n",
    "    \n",
    "    return train_df, val_df, test_df, train_category, val_category, test_category, train_source, val_source, test_source, train_weight\n"
   ]
  },
  {
   "cell_type": "code",
   "execution_count": 7,
   "id": "b3b4f7cb",
   "metadata": {},
   "outputs": [],
   "source": [
    "train_df, val_df, test_df, train_category, val_category, test_category, train_source, val_source, test_source, train_weight = df_preproc(df)"
   ]
  },
  {
   "cell_type": "markdown",
   "id": "294ba60f",
   "metadata": {},
   "source": [
    "# Shared model parameters"
   ]
  },
  {
   "cell_type": "code",
   "execution_count": 8,
   "id": "d3b623b6",
   "metadata": {},
   "outputs": [],
   "source": [
    "# https://www.tensorflow.org/api_docs/python/tf/keras/Model#compile\n",
    "loss_func = tf.keras.losses.SparseCategoricalCrossentropy(from_logits=True)\n",
    "my_classes = ['city', 'nature']\n",
    "weighted_metrics=['accuracy'] # or []\n",
    "loss_weights=None # or None\n",
    "learning_rate=0.001\n",
    "\n",
    "Sequential_model = [\n",
    "    tf.keras.layers.Input(shape=(len(train_df.columns)), dtype=tf.float32),\n",
    "    tf.keras.layers.Dropout(.5),\n",
    "    tf.keras.layers.Dense(30, activation='relu'),\n",
    "#     tf.keras.layers.Dropout(.5),\n",
    "#     tf.keras.layers.Dense(30, activation='relu'),\n",
    "    tf.keras.layers.Dense(2)\n",
    "]\n",
    "\n",
    "callback = tf.keras.callbacks.EarlyStopping(monitor='loss',\n",
    "                                            patience=3,\n",
    "                                            restore_best_weights=True)"
   ]
  },
  {
   "cell_type": "markdown",
   "id": "b4174dbc",
   "metadata": {},
   "source": [
    "# Raw indices"
   ]
  },
  {
   "cell_type": "code",
   "execution_count": 9,
   "id": "8455c2e8",
   "metadata": {},
   "outputs": [
    {
     "name": "stdout",
     "output_type": "stream",
     "text": [
      "Model: \"model\"\n",
      "_________________________________________________________________\n",
      " Layer (type)                Output Shape              Param #   \n",
      "=================================================================\n",
      " dropout (Dropout)           (None, 60)                0         \n",
      "                                                                 \n",
      " dense (Dense)               (None, 30)                1830      \n",
      "                                                                 \n",
      " dense_1 (Dense)             (None, 2)                 62        \n",
      "                                                                 \n",
      "=================================================================\n",
      "Total params: 1,892\n",
      "Trainable params: 1,892\n",
      "Non-trainable params: 0\n",
      "_________________________________________________________________\n"
     ]
    },
    {
     "name": "stderr",
     "output_type": "stream",
     "text": [
      "2023-02-26 14:59:42.044146: I tensorflow/core/platform/cpu_feature_guard.cc:193] This TensorFlow binary is optimized with oneAPI Deep Neural Network Library (oneDNN) to use the following CPU instructions in performance-critical operations:  SSE4.1 SSE4.2 AVX AVX2 AVX512F AVX512_VNNI FMA\n",
      "To enable them in other operations, rebuild TensorFlow with the appropriate compiler flags.\n"
     ]
    }
   ],
   "source": [
    "# import the necessary packages\n",
    "\n",
    "tf.keras.backend.clear_session()\n",
    "tf.random.set_seed(23)\n",
    "np.random.seed(23)\n",
    "python_random.seed(23)\n",
    "\n",
    "\n",
    "model = tf.keras.Sequential(Sequential_model, name='model')\n",
    "\n",
    "model.summary()\n"
   ]
  },
  {
   "cell_type": "code",
   "execution_count": 10,
   "id": "1025d0e2",
   "metadata": {},
   "outputs": [
    {
     "name": "stdout",
     "output_type": "stream",
     "text": [
      "Epoch 1/50\n",
      "143/143 [==============================] - 1s 3ms/step - loss: 9.5914e-04 - accuracy: 0.7171 - weighted_accuracy: 0.6501 - val_loss: 0.4641 - val_accuracy: 0.8327 - val_weighted_accuracy: 0.8327\n",
      "Epoch 2/50\n",
      "143/143 [==============================] - 0s 1ms/step - loss: 8.0256e-04 - accuracy: 0.7807 - weighted_accuracy: 0.7188 - val_loss: 0.4327 - val_accuracy: 0.8434 - val_weighted_accuracy: 0.8434\n",
      "Epoch 3/50\n",
      "143/143 [==============================] - 0s 1ms/step - loss: 7.4842e-04 - accuracy: 0.7987 - weighted_accuracy: 0.7441 - val_loss: 0.3860 - val_accuracy: 0.8701 - val_weighted_accuracy: 0.8701\n",
      "Epoch 4/50\n",
      "143/143 [==============================] - 0s 1ms/step - loss: 7.7125e-04 - accuracy: 0.8224 - weighted_accuracy: 0.7483 - val_loss: 0.3727 - val_accuracy: 0.8808 - val_weighted_accuracy: 0.8808\n",
      "Epoch 5/50\n",
      "143/143 [==============================] - 0s 1ms/step - loss: 7.2462e-04 - accuracy: 0.8352 - weighted_accuracy: 0.7607 - val_loss: 0.3800 - val_accuracy: 0.8790 - val_weighted_accuracy: 0.8790\n",
      "Epoch 6/50\n",
      "143/143 [==============================] - 0s 1ms/step - loss: 7.3475e-04 - accuracy: 0.8306 - weighted_accuracy: 0.7544 - val_loss: 0.3597 - val_accuracy: 0.8808 - val_weighted_accuracy: 0.8808\n",
      "Epoch 7/50\n",
      "143/143 [==============================] - 0s 1ms/step - loss: 7.1892e-04 - accuracy: 0.8446 - weighted_accuracy: 0.7645 - val_loss: 0.3480 - val_accuracy: 0.8932 - val_weighted_accuracy: 0.8932\n",
      "Epoch 8/50\n",
      "143/143 [==============================] - 0s 1ms/step - loss: 7.3048e-04 - accuracy: 0.8417 - weighted_accuracy: 0.7636 - val_loss: 0.3404 - val_accuracy: 0.8968 - val_weighted_accuracy: 0.8968\n",
      "Epoch 9/50\n",
      "143/143 [==============================] - 0s 1ms/step - loss: 6.9159e-04 - accuracy: 0.8437 - weighted_accuracy: 0.7665 - val_loss: 0.3500 - val_accuracy: 0.8932 - val_weighted_accuracy: 0.8932\n",
      "Epoch 10/50\n",
      "143/143 [==============================] - 0s 1ms/step - loss: 6.8824e-04 - accuracy: 0.8442 - weighted_accuracy: 0.7765 - val_loss: 0.3511 - val_accuracy: 0.8932 - val_weighted_accuracy: 0.8932\n",
      "Epoch 11/50\n",
      "143/143 [==============================] - 0s 1ms/step - loss: 7.1227e-04 - accuracy: 0.8450 - weighted_accuracy: 0.7736 - val_loss: 0.3236 - val_accuracy: 0.9039 - val_weighted_accuracy: 0.9039\n",
      "Epoch 12/50\n",
      "143/143 [==============================] - 0s 1ms/step - loss: 6.7290e-04 - accuracy: 0.8499 - weighted_accuracy: 0.7778 - val_loss: 0.3258 - val_accuracy: 0.9021 - val_weighted_accuracy: 0.9021\n",
      "Epoch 13/50\n",
      "143/143 [==============================] - 0s 1ms/step - loss: 6.9508e-04 - accuracy: 0.8453 - weighted_accuracy: 0.7677 - val_loss: 0.3219 - val_accuracy: 0.8986 - val_weighted_accuracy: 0.8986\n",
      "Epoch 14/50\n",
      "143/143 [==============================] - 0s 1ms/step - loss: 6.4819e-04 - accuracy: 0.8630 - weighted_accuracy: 0.7764 - val_loss: 0.3244 - val_accuracy: 0.9004 - val_weighted_accuracy: 0.9004\n",
      "Epoch 15/50\n",
      "143/143 [==============================] - 0s 1ms/step - loss: 6.7594e-04 - accuracy: 0.8569 - weighted_accuracy: 0.7778 - val_loss: 0.3451 - val_accuracy: 0.8843 - val_weighted_accuracy: 0.8843\n",
      "Epoch 16/50\n",
      "143/143 [==============================] - 0s 1ms/step - loss: 6.6801e-04 - accuracy: 0.8459 - weighted_accuracy: 0.7764 - val_loss: 0.3272 - val_accuracy: 0.9004 - val_weighted_accuracy: 0.9004\n",
      "Epoch 17/50\n",
      "143/143 [==============================] - 0s 1ms/step - loss: 6.9821e-04 - accuracy: 0.8514 - weighted_accuracy: 0.7698 - val_loss: 0.3328 - val_accuracy: 0.8950 - val_weighted_accuracy: 0.8950\n"
     ]
    }
   ],
   "source": [
    "# the optimizer needs to be reset every time\n",
    "optimizer = tf.keras.optimizers.Adam(learning_rate=learning_rate)\n",
    "\n",
    "model.compile(loss=loss_func,\n",
    "              optimizer=optimizer,\n",
    "              weighted_metrics=weighted_metrics,\n",
    "              loss_weights=loss_weights,\n",
    "              metrics=['accuracy'])\n",
    "\n",
    "history = model.fit(x=train_df,\n",
    "                    y=train_category,\n",
    "                    epochs=50,\n",
    "                    validation_data=(val_df, val_category),\n",
    "                    callbacks=callback,\n",
    "                    sample_weight=train_weight)\n"
   ]
  },
  {
   "cell_type": "code",
   "execution_count": 11,
   "id": "3e498672",
   "metadata": {},
   "outputs": [
    {
     "name": "stdout",
     "output_type": "stream",
     "text": [
      "18/18 [==============================] - 0s 1ms/step - loss: 0.3275 - accuracy: 0.8741 - weighted_accuracy: 0.8741\n"
     ]
    }
   ],
   "source": [
    "loss, accuracy, w_acc = model.evaluate(x=test_df, y=test_category)\n"
   ]
  },
  {
   "cell_type": "code",
   "execution_count": 12,
   "id": "3daaa35e",
   "metadata": {},
   "outputs": [
    {
     "name": "stdout",
     "output_type": "stream",
     "text": [
      "18/18 [==============================] - 0s 957us/step\n"
     ]
    },
    {
     "data": {
      "image/png": "[encoded data removed]",
      "text/plain": [
       "<Figure size 640x480 with 1 Axes>"
      ]
     },
     "metadata": {},
     "output_type": "display_data"
    }
   ],
   "source": [
    "from sklearn.metrics import accuracy_score\n",
    "\n",
    "test_source_df = pd.DataFrame({'source':test_source, 'category':test_category, 'pred':model.predict(test_df).argmax(axis=1)})\n",
    "acc_source = test_source_df.groupby(['source']).apply(lambda x: accuracy_score(x['category'], x['pred']))\n",
    "\n",
    "ax = acc_source.plot.barh()\n",
    "ax.axvline(x=0.5, color='k', linestyle='--')\n",
    "ax.set_xlim(0,1)\n",
    "plt.show()"
   ]
  },
  {
   "cell_type": "markdown",
   "id": "7b5c2cb1",
   "metadata": {},
   "source": [
    "# Background indices"
   ]
  },
  {
   "cell_type": "code",
   "execution_count": 13,
   "id": "65e24520",
   "metadata": {},
   "outputs": [],
   "source": [
    "df_list = []\n",
    "for index, row in meta_df.iterrows():\n",
    "    df_list.append(load_df_pkl(row['file'], indices='df_indices_bg'))\n",
    "\n",
    "df = pd.concat(df_list, ignore_index=True)\n",
    "df = pd.concat([df, meta_df[['category','fold','source','weight']]], axis=1)\n",
    "train_df, val_df, test_df, train_category, val_category, test_category, train_source, val_source, test_source, train_weight = df_preproc(df)"
   ]
  },
  {
   "cell_type": "code",
   "execution_count": 14,
   "id": "c9fbeb9b",
   "metadata": {},
   "outputs": [
    {
     "name": "stdout",
     "output_type": "stream",
     "text": [
      "Model: \"bg_model\"\n",
      "_________________________________________________________________\n",
      " Layer (type)                Output Shape              Param #   \n",
      "=================================================================\n",
      " dropout (Dropout)           (None, 60)                0         \n",
      "                                                                 \n",
      " dense (Dense)               (None, 30)                1830      \n",
      "                                                                 \n",
      " dense_1 (Dense)             (None, 2)                 62        \n",
      "                                                                 \n",
      "=================================================================\n",
      "Total params: 1,892\n",
      "Trainable params: 1,892\n",
      "Non-trainable params: 0\n",
      "_________________________________________________________________\n"
     ]
    }
   ],
   "source": [
    "tf.keras.backend.clear_session()\n",
    "tf.random.set_seed(23)\n",
    "np.random.seed(23)\n",
    "python_random.seed(23)\n",
    "\n",
    "model = tf.keras.Sequential(Sequential_model, name='bg_model')\n",
    "\n",
    "model.summary()\n"
   ]
  },
  {
   "cell_type": "code",
   "execution_count": 15,
   "id": "4179d911",
   "metadata": {},
   "outputs": [
    {
     "name": "stdout",
     "output_type": "stream",
     "text": [
      "Epoch 1/50\n",
      "143/143 [==============================] - 1s 2ms/step - loss: 6.7854e-04 - accuracy: 0.8396 - weighted_accuracy: 0.7780 - val_loss: 0.3218 - val_accuracy: 0.8879 - val_weighted_accuracy: 0.8879\n",
      "Epoch 2/50\n",
      "143/143 [==============================] - 0s 1ms/step - loss: 6.8362e-04 - accuracy: 0.8459 - weighted_accuracy: 0.7711 - val_loss: 0.3143 - val_accuracy: 0.8790 - val_weighted_accuracy: 0.8790\n",
      "Epoch 3/50\n",
      "143/143 [==============================] - 0s 1ms/step - loss: 6.6032e-04 - accuracy: 0.8464 - weighted_accuracy: 0.7857 - val_loss: 0.2984 - val_accuracy: 0.8932 - val_weighted_accuracy: 0.8932\n",
      "Epoch 4/50\n",
      "143/143 [==============================] - 0s 1ms/step - loss: 6.8349e-04 - accuracy: 0.8433 - weighted_accuracy: 0.7686 - val_loss: 0.2982 - val_accuracy: 0.8879 - val_weighted_accuracy: 0.8879\n",
      "Epoch 5/50\n",
      "143/143 [==============================] - 0s 1ms/step - loss: 6.6714e-04 - accuracy: 0.8567 - weighted_accuracy: 0.7736 - val_loss: 0.3127 - val_accuracy: 0.8737 - val_weighted_accuracy: 0.8737\n",
      "Epoch 6/50\n",
      "143/143 [==============================] - 0s 1ms/step - loss: 6.5583e-04 - accuracy: 0.8437 - weighted_accuracy: 0.7853 - val_loss: 0.2994 - val_accuracy: 0.8843 - val_weighted_accuracy: 0.8843\n",
      "Epoch 7/50\n",
      "143/143 [==============================] - 0s 1ms/step - loss: 6.4309e-04 - accuracy: 0.8558 - weighted_accuracy: 0.7772 - val_loss: 0.2955 - val_accuracy: 0.8915 - val_weighted_accuracy: 0.8915\n",
      "Epoch 8/50\n",
      "143/143 [==============================] - 0s 1ms/step - loss: 6.8321e-04 - accuracy: 0.8538 - weighted_accuracy: 0.7715 - val_loss: 0.2914 - val_accuracy: 0.8861 - val_weighted_accuracy: 0.8861\n",
      "Epoch 9/50\n",
      "143/143 [==============================] - 0s 1ms/step - loss: 6.4600e-04 - accuracy: 0.8532 - weighted_accuracy: 0.7863 - val_loss: 0.3021 - val_accuracy: 0.8843 - val_weighted_accuracy: 0.8843\n",
      "Epoch 10/50\n",
      "143/143 [==============================] - 0s 1ms/step - loss: 6.6281e-04 - accuracy: 0.8538 - weighted_accuracy: 0.7880 - val_loss: 0.2948 - val_accuracy: 0.8897 - val_weighted_accuracy: 0.8897\n"
     ]
    }
   ],
   "source": [
    "optimizer = tf.keras.optimizers.Adam(learning_rate=learning_rate)\n",
    "\n",
    "model.compile(loss=loss_func,\n",
    "              optimizer=optimizer,\n",
    "              weighted_metrics=weighted_metrics,\n",
    "              loss_weights=loss_weights,\n",
    "              metrics=['accuracy'])\n",
    "\n",
    "history = model.fit(x=train_df,\n",
    "                    y=train_category,\n",
    "                    epochs=50,\n",
    "                    validation_data=(val_df, val_category),\n",
    "                    callbacks=callback,\n",
    "                    sample_weight=train_weight)\n"
   ]
  },
  {
   "cell_type": "code",
   "execution_count": 16,
   "id": "f44e6188",
   "metadata": {},
   "outputs": [
    {
     "name": "stdout",
     "output_type": "stream",
     "text": [
      "18/18 [==============================] - 0s 1ms/step - loss: 0.3193 - accuracy: 0.8670 - weighted_accuracy: 0.8670\n"
     ]
    }
   ],
   "source": [
    "loss, accuracy, w_acc = model.evaluate(x=test_df, y=test_category)\n"
   ]
  },
  {
   "cell_type": "code",
   "execution_count": 17,
   "id": "826d30a6",
   "metadata": {},
   "outputs": [
    {
     "name": "stdout",
     "output_type": "stream",
     "text": [
      "18/18 [==============================] - 0s 1ms/step\n"
     ]
    },
    {
     "data": {
      "image/png": "[encoded data removed]",
      "text/plain": [
       "<Figure size 640x480 with 1 Axes>"
      ]
     },
     "metadata": {},
     "output_type": "display_data"
    }
   ],
   "source": [
    "from sklearn.metrics import accuracy_score\n",
    "\n",
    "test_source_df = pd.DataFrame({'source':test_source, 'category':test_category, 'pred':model.predict(test_df).argmax(axis=1)})\n",
    "acc_source = test_source_df.groupby(['source']).apply(lambda x: accuracy_score(x['category'], x['pred']))\n",
    "\n",
    "ax = acc_source.plot.barh()\n",
    "ax.axvline(x=0.5, color='k', linestyle='--')\n",
    "ax.set_xlim(0,1)\n",
    "plt.show()"
   ]
  },
  {
   "cell_type": "markdown",
   "id": "00182cc0",
   "metadata": {},
   "source": [
    "# Foreground indices"
   ]
  },
  {
   "cell_type": "code",
   "execution_count": 18,
   "id": "aaae76df",
   "metadata": {},
   "outputs": [],
   "source": [
    "df_list = []\n",
    "for index, row in meta_df.iterrows():\n",
    "    df_list.append(load_df_pkl(row['file'], indices='df_indices_fg'))\n",
    "\n",
    "df = pd.concat(df_list, ignore_index=True)\n",
    "df = pd.concat([df, meta_df[['category','fold','source','weight']]], axis=1)\n",
    "train_df, val_df, test_df, train_category, val_category, test_category, train_source, val_source, test_source, train_weight = df_preproc(df)"
   ]
  },
  {
   "cell_type": "code",
   "execution_count": 19,
   "id": "2236de08",
   "metadata": {},
   "outputs": [
    {
     "name": "stdout",
     "output_type": "stream",
     "text": [
      "Model: \"fg_model\"\n",
      "_________________________________________________________________\n",
      " Layer (type)                Output Shape              Param #   \n",
      "=================================================================\n",
      " dropout (Dropout)           (None, 60)                0         \n",
      "                                                                 \n",
      " dense (Dense)               (None, 30)                1830      \n",
      "                                                                 \n",
      " dense_1 (Dense)             (None, 2)                 62        \n",
      "                                                                 \n",
      "=================================================================\n",
      "Total params: 1,892\n",
      "Trainable params: 1,892\n",
      "Non-trainable params: 0\n",
      "_________________________________________________________________\n"
     ]
    }
   ],
   "source": [
    "tf.keras.backend.clear_session()\n",
    "tf.random.set_seed(23)\n",
    "np.random.seed(23)\n",
    "python_random.seed(23)\n",
    "\n",
    "model = tf.keras.Sequential(Sequential_model, name='fg_model')\n",
    "\n",
    "model.summary()\n"
   ]
  },
  {
   "cell_type": "code",
   "execution_count": 20,
   "id": "98163e62",
   "metadata": {},
   "outputs": [
    {
     "name": "stdout",
     "output_type": "stream",
     "text": [
      "Epoch 1/50\n",
      "143/143 [==============================] - 1s 2ms/step - loss: 7.7705e-04 - accuracy: 0.7662 - weighted_accuracy: 0.7273 - val_loss: 0.4265 - val_accuracy: 0.8078 - val_weighted_accuracy: 0.8078\n",
      "Epoch 2/50\n",
      "143/143 [==============================] - 0s 1ms/step - loss: 7.7947e-04 - accuracy: 0.7680 - weighted_accuracy: 0.7262 - val_loss: 0.4132 - val_accuracy: 0.8327 - val_weighted_accuracy: 0.8327\n",
      "Epoch 3/50\n",
      "143/143 [==============================] - 0s 1ms/step - loss: 7.6643e-04 - accuracy: 0.7711 - weighted_accuracy: 0.7149 - val_loss: 0.4124 - val_accuracy: 0.8292 - val_weighted_accuracy: 0.8292\n",
      "Epoch 4/50\n",
      "143/143 [==============================] - 0s 1ms/step - loss: 7.8229e-04 - accuracy: 0.7781 - weighted_accuracy: 0.7243 - val_loss: 0.4049 - val_accuracy: 0.8399 - val_weighted_accuracy: 0.8399\n",
      "Epoch 5/50\n",
      "143/143 [==============================] - 0s 1ms/step - loss: 7.5168e-04 - accuracy: 0.7840 - weighted_accuracy: 0.7383 - val_loss: 0.4066 - val_accuracy: 0.8630 - val_weighted_accuracy: 0.8630\n",
      "Epoch 6/50\n",
      "143/143 [==============================] - 0s 2ms/step - loss: 7.3594e-04 - accuracy: 0.7851 - weighted_accuracy: 0.7323 - val_loss: 0.4114 - val_accuracy: 0.8363 - val_weighted_accuracy: 0.8363\n",
      "Epoch 7/50\n",
      "143/143 [==============================] - 0s 1ms/step - loss: 7.4531e-04 - accuracy: 0.7842 - weighted_accuracy: 0.7320 - val_loss: 0.3924 - val_accuracy: 0.8577 - val_weighted_accuracy: 0.8577\n",
      "Epoch 8/50\n",
      "143/143 [==============================] - 0s 1ms/step - loss: 7.4028e-04 - accuracy: 0.7913 - weighted_accuracy: 0.7492 - val_loss: 0.3976 - val_accuracy: 0.8594 - val_weighted_accuracy: 0.8594\n",
      "Epoch 9/50\n",
      "143/143 [==============================] - 0s 1ms/step - loss: 7.2983e-04 - accuracy: 0.7987 - weighted_accuracy: 0.7468 - val_loss: 0.3984 - val_accuracy: 0.8541 - val_weighted_accuracy: 0.8541\n",
      "Epoch 10/50\n",
      "143/143 [==============================] - 0s 1ms/step - loss: 7.1218e-04 - accuracy: 0.7974 - weighted_accuracy: 0.7633 - val_loss: 0.3816 - val_accuracy: 0.8594 - val_weighted_accuracy: 0.8594\n",
      "Epoch 11/50\n",
      "143/143 [==============================] - 0s 1ms/step - loss: 7.6205e-04 - accuracy: 0.7948 - weighted_accuracy: 0.7345 - val_loss: 0.3743 - val_accuracy: 0.8594 - val_weighted_accuracy: 0.8594\n",
      "Epoch 12/50\n",
      "143/143 [==============================] - 0s 1ms/step - loss: 7.5088e-04 - accuracy: 0.7939 - weighted_accuracy: 0.7421 - val_loss: 0.3770 - val_accuracy: 0.8701 - val_weighted_accuracy: 0.8701\n",
      "Epoch 13/50\n",
      "143/143 [==============================] - 0s 1ms/step - loss: 7.3522e-04 - accuracy: 0.8020 - weighted_accuracy: 0.7349 - val_loss: 0.3711 - val_accuracy: 0.8665 - val_weighted_accuracy: 0.8665\n"
     ]
    }
   ],
   "source": [
    "optimizer = tf.keras.optimizers.Adam(learning_rate=learning_rate)\n",
    "\n",
    "model.compile(loss=loss_func,\n",
    "              optimizer=optimizer,\n",
    "              weighted_metrics=weighted_metrics,\n",
    "              loss_weights=loss_weights,\n",
    "              metrics=['accuracy'])\n",
    "\n",
    "history = model.fit(x=train_df,\n",
    "                    y=train_category,\n",
    "                    epochs=50,\n",
    "                    validation_data=(val_df, val_category),\n",
    "                    callbacks=callback,\n",
    "                    sample_weight=train_weight)"
   ]
  },
  {
   "cell_type": "code",
   "execution_count": 21,
   "id": "986504da",
   "metadata": {},
   "outputs": [
    {
     "name": "stdout",
     "output_type": "stream",
     "text": [
      "18/18 [==============================] - 0s 1ms/step - loss: 0.4050 - accuracy: 0.8369 - weighted_accuracy: 0.8369\n"
     ]
    }
   ],
   "source": [
    "loss, accuracy, w_acc = model.evaluate(x=test_df, y=test_category)\n"
   ]
  },
  {
   "cell_type": "code",
   "execution_count": 22,
   "id": "0b7a5aeb",
   "metadata": {},
   "outputs": [
    {
     "name": "stdout",
     "output_type": "stream",
     "text": [
      "18/18 [==============================] - 0s 988us/step\n"
     ]
    },
    {
     "data": {
      "image/png": "[encoded data removed]",
      "text/plain": [
       "<Figure size 640x480 with 1 Axes>"
      ]
     },
     "metadata": {},
     "output_type": "display_data"
    }
   ],
   "source": [
    "from sklearn.metrics import accuracy_score\n",
    "\n",
    "test_source_df = pd.DataFrame({'source':test_source, 'category':test_category, 'pred':model.predict(test_df).argmax(axis=1)})\n",
    "acc_source = test_source_df.groupby(['source']).apply(lambda x: accuracy_score(x['category'], x['pred']))\n",
    "\n",
    "ax = acc_source.plot.barh()\n",
    "ax.axvline(x=0.5, color='k', linestyle='--')\n",
    "ax.set_xlim(0,1)\n",
    "plt.show()"
   ]
  },
  {
   "cell_type": "markdown",
   "id": "51c8bb5f",
   "metadata": {},
   "source": [
    "# all 3 indices"
   ]
  },
  {
   "cell_type": "code",
   "execution_count": 23,
   "id": "087db3c0",
   "metadata": {},
   "outputs": [],
   "source": [
    "df_raw_list = []\n",
    "df_bg_list = []\n",
    "df_fg_list = []\n",
    "for index, row in meta_df.iterrows():\n",
    "    df_raw_list.append(load_df_pkl(row['file'], indices='df_indices'))\n",
    "    df_bg_list.append(load_df_pkl(row['file'], indices='df_indices_bg'))\n",
    "    df_fg_list.append(load_df_pkl(row['file'], indices='df_indices_fg'))\n",
    "\n",
    "df_raw = pd.concat(df_raw_list, ignore_index=True)\n",
    "df_raw.columns = list('raw_'+df_raw.columns)    \n",
    "\n",
    "df_bg = pd.concat(df_bg_list, ignore_index=True)\n",
    "df_bg.columns = list('bg_'+df_bg.columns)\n",
    "\n",
    "df_fg = pd.concat(df_fg_list, ignore_index=True)\n",
    "df_fg.columns = list('fg_'+df_fg.columns)"
   ]
  },
  {
   "cell_type": "code",
   "execution_count": 24,
   "id": "9e65cf07",
   "metadata": {},
   "outputs": [],
   "source": [
    "df = pd.concat([df_raw, df_bg, df_fg, meta_df[['category','fold','source','weight']]], axis=1)\n",
    "train_df, val_df, test_df, train_category, val_category, test_category, train_source, val_source, test_source, train_weight = df_preproc(df)"
   ]
  },
  {
   "cell_type": "code",
   "execution_count": 25,
   "id": "a5d9a301",
   "metadata": {},
   "outputs": [
    {
     "name": "stdout",
     "output_type": "stream",
     "text": [
      "Model: \"all_model\"\n",
      "_________________________________________________________________\n",
      " Layer (type)                Output Shape              Param #   \n",
      "=================================================================\n",
      " dropout (Dropout)           (None, 180)               0         \n",
      "                                                                 \n",
      " dense (Dense)               (None, 60)                10860     \n",
      "                                                                 \n",
      " dropout_1 (Dropout)         (None, 60)                0         \n",
      "                                                                 \n",
      " dense_1 (Dense)             (None, 2)                 122       \n",
      "                                                                 \n",
      "=================================================================\n",
      "Total params: 10,982\n",
      "Trainable params: 10,982\n",
      "Non-trainable params: 0\n",
      "_________________________________________________________________\n"
     ]
    }
   ],
   "source": [
    "tf.keras.backend.clear_session()\n",
    "tf.random.set_seed(23)\n",
    "np.random.seed(23)\n",
    "python_random.seed(23)\n",
    "\n",
    "model = tf.keras.Sequential([\n",
    "    tf.keras.layers.Input(shape=(len(train_df.columns)), dtype=tf.float32),\n",
    "    tf.keras.layers.Dropout(.5),\n",
    "    tf.keras.layers.Dense(60, activation='relu'),\n",
    "    tf.keras.layers.Dropout(.5),\n",
    "#     tf.keras.layers.Dense(30, activation='relu'),\n",
    "    tf.keras.layers.Dense(2)\n",
    "], name='all_model')\n",
    "\n",
    "model.summary()"
   ]
  },
  {
   "cell_type": "code",
   "execution_count": 26,
   "id": "8419cd4b",
   "metadata": {},
   "outputs": [
    {
     "name": "stdout",
     "output_type": "stream",
     "text": [
      "Epoch 1/50\n",
      "143/143 [==============================] - 1s 2ms/step - loss: 0.0014 - accuracy: 0.6725 - weighted_accuracy: 0.6340 - val_loss: 0.4264 - val_accuracy: 0.8345 - val_weighted_accuracy: 0.8345\n",
      "Epoch 2/50\n",
      "143/143 [==============================] - 0s 2ms/step - loss: 9.7444e-04 - accuracy: 0.7603 - weighted_accuracy: 0.7355 - val_loss: 0.3203 - val_accuracy: 0.8808 - val_weighted_accuracy: 0.8808\n",
      "Epoch 3/50\n",
      "143/143 [==============================] - 0s 2ms/step - loss: 9.4033e-04 - accuracy: 0.8005 - weighted_accuracy: 0.7393 - val_loss: 0.2784 - val_accuracy: 0.9004 - val_weighted_accuracy: 0.9004\n",
      "Epoch 4/50\n",
      "143/143 [==============================] - 0s 1ms/step - loss: 8.5001e-04 - accuracy: 0.8200 - weighted_accuracy: 0.7404 - val_loss: 0.2840 - val_accuracy: 0.9004 - val_weighted_accuracy: 0.9004\n",
      "Epoch 5/50\n",
      "143/143 [==============================] - 0s 2ms/step - loss: 7.5701e-04 - accuracy: 0.8235 - weighted_accuracy: 0.7497 - val_loss: 0.2912 - val_accuracy: 0.9021 - val_weighted_accuracy: 0.9021\n",
      "Epoch 6/50\n",
      "143/143 [==============================] - 0s 2ms/step - loss: 7.5104e-04 - accuracy: 0.8325 - weighted_accuracy: 0.7646 - val_loss: 0.2811 - val_accuracy: 0.9057 - val_weighted_accuracy: 0.9057\n",
      "Epoch 7/50\n",
      "143/143 [==============================] - 0s 2ms/step - loss: 7.3075e-04 - accuracy: 0.8457 - weighted_accuracy: 0.7575 - val_loss: 0.2883 - val_accuracy: 0.8968 - val_weighted_accuracy: 0.8968\n",
      "Epoch 8/50\n",
      "143/143 [==============================] - 0s 2ms/step - loss: 6.9763e-04 - accuracy: 0.8516 - weighted_accuracy: 0.7680 - val_loss: 0.2967 - val_accuracy: 0.8986 - val_weighted_accuracy: 0.8986\n",
      "Epoch 9/50\n",
      "143/143 [==============================] - 0s 2ms/step - loss: 7.0411e-04 - accuracy: 0.8420 - weighted_accuracy: 0.7631 - val_loss: 0.2942 - val_accuracy: 0.9093 - val_weighted_accuracy: 0.9093\n",
      "Epoch 10/50\n",
      "143/143 [==============================] - 0s 2ms/step - loss: 6.7971e-04 - accuracy: 0.8481 - weighted_accuracy: 0.7722 - val_loss: 0.2835 - val_accuracy: 0.9128 - val_weighted_accuracy: 0.9128\n",
      "Epoch 11/50\n",
      "143/143 [==============================] - 0s 1ms/step - loss: 6.6623e-04 - accuracy: 0.8501 - weighted_accuracy: 0.7681 - val_loss: 0.2769 - val_accuracy: 0.9110 - val_weighted_accuracy: 0.9110\n",
      "Epoch 12/50\n",
      "143/143 [==============================] - 0s 2ms/step - loss: 6.2443e-04 - accuracy: 0.8679 - weighted_accuracy: 0.7969 - val_loss: 0.2757 - val_accuracy: 0.9093 - val_weighted_accuracy: 0.9093\n",
      "Epoch 13/50\n",
      "143/143 [==============================] - 0s 2ms/step - loss: 6.3145e-04 - accuracy: 0.8611 - weighted_accuracy: 0.7985 - val_loss: 0.2677 - val_accuracy: 0.9110 - val_weighted_accuracy: 0.9110\n",
      "Epoch 14/50\n",
      "143/143 [==============================] - 0s 2ms/step - loss: 6.0749e-04 - accuracy: 0.8641 - weighted_accuracy: 0.7961 - val_loss: 0.2741 - val_accuracy: 0.8968 - val_weighted_accuracy: 0.8968\n",
      "Epoch 15/50\n",
      "143/143 [==============================] - 0s 2ms/step - loss: 6.2721e-04 - accuracy: 0.8624 - weighted_accuracy: 0.7914 - val_loss: 0.2723 - val_accuracy: 0.9093 - val_weighted_accuracy: 0.9093\n",
      "Epoch 16/50\n",
      "143/143 [==============================] - 0s 2ms/step - loss: 6.3107e-04 - accuracy: 0.8652 - weighted_accuracy: 0.8018 - val_loss: 0.2644 - val_accuracy: 0.9110 - val_weighted_accuracy: 0.9110\n",
      "Epoch 17/50\n",
      "143/143 [==============================] - 0s 2ms/step - loss: 6.1580e-04 - accuracy: 0.8648 - weighted_accuracy: 0.7973 - val_loss: 0.2655 - val_accuracy: 0.9164 - val_weighted_accuracy: 0.9164\n"
     ]
    }
   ],
   "source": [
    "optimizer = tf.keras.optimizers.Adam(learning_rate=learning_rate)\n",
    "\n",
    "model.compile(loss=loss_func,\n",
    "              optimizer=optimizer,\n",
    "              weighted_metrics=weighted_metrics,\n",
    "              loss_weights=loss_weights,\n",
    "              metrics=['accuracy'])\n",
    "\n",
    "history = model.fit(x=train_df,\n",
    "                    y=train_category,\n",
    "                    epochs=50,\n",
    "                    validation_data=(val_df, val_category),\n",
    "                    callbacks=callback,\n",
    "                    sample_weight=train_weight)"
   ]
  },
  {
   "cell_type": "code",
   "execution_count": 27,
   "id": "7a021d54",
   "metadata": {},
   "outputs": [
    {
     "name": "stdout",
     "output_type": "stream",
     "text": [
      "18/18 [==============================] - 0s 1ms/step - loss: 0.2915 - accuracy: 0.8848 - weighted_accuracy: 0.8848\n"
     ]
    }
   ],
   "source": [
    "loss, accuracy, w_acc = model.evaluate(x=test_df, y=test_category)\n"
   ]
  },
  {
   "cell_type": "code",
   "execution_count": 28,
   "id": "dfe87d0d",
   "metadata": {},
   "outputs": [
    {
     "name": "stdout",
     "output_type": "stream",
     "text": [
      "18/18 [==============================] - 0s 1ms/step\n"
     ]
    },
    {
     "data": {
      "image/png": "[encoded data removed]",
      "text/plain": [
       "<Figure size 640x480 with 1 Axes>"
      ]
     },
     "metadata": {},
     "output_type": "display_data"
    }
   ],
   "source": [
    "from sklearn.metrics import accuracy_score\n",
    "\n",
    "test_source_df = pd.DataFrame({'source':test_source, 'category':test_category, 'pred':model.predict(test_df).argmax(axis=1)})\n",
    "acc_source = test_source_df.groupby(['source']).apply(lambda x: accuracy_score(x['category'], x['pred']))\n",
    "\n",
    "ax = acc_source.plot.barh()\n",
    "ax.axvline(x=0.5, color='k', linestyle='--')\n",
    "ax.set_xlim(0,1)\n",
    "plt.show()"
   ]
  },
  {
   "cell_type": "code",
   "execution_count": null,
   "id": "0251dada",
   "metadata": {},
   "outputs": [],
   "source": []
  }
 ],
 "metadata": {
  "kernelspec": {
   "display_name": "Python 3 (ipykernel)",
   "language": "python",
   "name": "python3"
  },
  "language_info": {
   "codemirror_mode": {
    "name": "ipython",
    "version": 3
   },
   "file_extension": ".py",
   "mimetype": "text/x-python",
   "name": "python",
   "nbconvert_exporter": "python",
   "pygments_lexer": "ipython3",
   "version": "3.8.16"
  }
 },
 "nbformat": 4,
 "nbformat_minor": 5
}
