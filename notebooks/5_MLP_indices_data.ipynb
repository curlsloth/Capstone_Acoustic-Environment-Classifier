{
 "cells": [
  {
   "cell_type": "code",
   "execution_count": 1,
   "id": "70c95679",
   "metadata": {},
   "outputs": [
    {
     "name": "stderr",
     "output_type": "stream",
     "text": [
      "2023-02-26 14:37:58.542636: I tensorflow/core/platform/cpu_feature_guard.cc:193] This TensorFlow binary is optimized with oneAPI Deep Neural Network Library (oneDNN) to use the following CPU instructions in performance-critical operations:  SSE4.1 SSE4.2 AVX AVX2 AVX512F AVX512_VNNI FMA\n",
      "To enable them in other operations, rebuild TensorFlow with the appropriate compiler flags.\n"
     ]
    }
   ],
   "source": [
    "import matplotlib.pyplot as plt\n",
    "import numpy as np\n",
    "import pandas as pd\n",
    "import tensorflow as tf\n",
    "import random as python_random"
   ]
  },
  {
   "cell_type": "code",
   "execution_count": 2,
   "id": "fae9882f",
   "metadata": {},
   "outputs": [
    {
     "data": {
      "text/html": [
       "<div>\n",
       "<style scoped>\n",
       "    .dataframe tbody tr th:only-of-type {\n",
       "        vertical-align: middle;\n",
       "    }\n",
       "\n",
       "    .dataframe tbody tr th {\n",
       "        vertical-align: top;\n",
       "    }\n",
       "\n",
       "    .dataframe thead th {\n",
       "        text-align: right;\n",
       "    }\n",
       "</style>\n",
       "<table border=\"1\" class=\"dataframe\">\n",
       "  <thead>\n",
       "    <tr style=\"text-align: right;\">\n",
       "      <th></th>\n",
       "      <th>file</th>\n",
       "      <th>source</th>\n",
       "      <th>category</th>\n",
       "      <th>weight</th>\n",
       "      <th>file_group</th>\n",
       "      <th>fold</th>\n",
       "    </tr>\n",
       "  </thead>\n",
       "  <tbody>\n",
       "    <tr>\n",
       "      <th>0</th>\n",
       "      <td>../data/interim/youtube/NatureSoundscapes/6LpA...</td>\n",
       "      <td>nature_youtube/NatureSoundscapes</td>\n",
       "      <td>0</td>\n",
       "      <td>0.000479</td>\n",
       "      <td>youtube/NatureSoundscapes/6LpAnfislTc</td>\n",
       "      <td>6</td>\n",
       "    </tr>\n",
       "    <tr>\n",
       "      <th>1</th>\n",
       "      <td>../data/interim/youtube/NomadicAmbience_nature...</td>\n",
       "      <td>nature_youtube/NomadicAmbience_nature</td>\n",
       "      <td>0</td>\n",
       "      <td>0.005714</td>\n",
       "      <td>youtube/NomadicAmbience_nature/wlCrnlQ5ofE</td>\n",
       "      <td>0</td>\n",
       "    </tr>\n",
       "    <tr>\n",
       "      <th>2</th>\n",
       "      <td>../data/interim/SONYC/audio-10/05_027168.pkl</td>\n",
       "      <td>city_SONYC</td>\n",
       "      <td>1</td>\n",
       "      <td>0.000433</td>\n",
       "      <td>../data/interim/SONYC/audio-10/05_027168.pkl</td>\n",
       "      <td>4</td>\n",
       "    </tr>\n",
       "    <tr>\n",
       "      <th>3</th>\n",
       "      <td>../data/interim/SONYC/audio-13/32_019485.pkl</td>\n",
       "      <td>city_SONYC</td>\n",
       "      <td>1</td>\n",
       "      <td>0.000433</td>\n",
       "      <td>../data/interim/SONYC/audio-13/32_019485.pkl</td>\n",
       "      <td>8</td>\n",
       "    </tr>\n",
       "    <tr>\n",
       "      <th>4</th>\n",
       "      <td>../data/interim/SONYC/audio-13/33_016321.pkl</td>\n",
       "      <td>city_SONYC</td>\n",
       "      <td>1</td>\n",
       "      <td>0.000433</td>\n",
       "      <td>../data/interim/SONYC/audio-13/33_016321.pkl</td>\n",
       "      <td>5</td>\n",
       "    </tr>\n",
       "    <tr>\n",
       "      <th>...</th>\n",
       "      <td>...</td>\n",
       "      <td>...</td>\n",
       "      <td>...</td>\n",
       "      <td>...</td>\n",
       "      <td>...</td>\n",
       "      <td>...</td>\n",
       "    </tr>\n",
       "    <tr>\n",
       "      <th>5677</th>\n",
       "      <td>../data/interim/GoogleAudioSet/Outside, urban ...</td>\n",
       "      <td>city_GoogleAudioSet</td>\n",
       "      <td>1</td>\n",
       "      <td>0.005882</td>\n",
       "      <td>../data/interim/GoogleAudioSet/Outside, urban ...</td>\n",
       "      <td>9</td>\n",
       "    </tr>\n",
       "    <tr>\n",
       "      <th>5678</th>\n",
       "      <td>../data/interim/youtube/NatureSoundscapes/gEqK...</td>\n",
       "      <td>nature_youtube/NatureSoundscapes</td>\n",
       "      <td>0</td>\n",
       "      <td>0.000479</td>\n",
       "      <td>youtube/NatureSoundscapes/gEqKnRu15bI</td>\n",
       "      <td>2</td>\n",
       "    </tr>\n",
       "    <tr>\n",
       "      <th>5679</th>\n",
       "      <td>../data/interim/youtube/NatureSoundscapes/PFtx...</td>\n",
       "      <td>nature_youtube/NatureSoundscapes</td>\n",
       "      <td>0</td>\n",
       "      <td>0.000479</td>\n",
       "      <td>youtube/NatureSoundscapes/PFtxRv6GcFw</td>\n",
       "      <td>8</td>\n",
       "    </tr>\n",
       "    <tr>\n",
       "      <th>5680</th>\n",
       "      <td>../data/interim/SONYC/audio-17/03_001923.pkl</td>\n",
       "      <td>city_SONYC</td>\n",
       "      <td>1</td>\n",
       "      <td>0.000433</td>\n",
       "      <td>../data/interim/SONYC/audio-17/03_001923.pkl</td>\n",
       "      <td>8</td>\n",
       "    </tr>\n",
       "    <tr>\n",
       "      <th>5681</th>\n",
       "      <td>../data/interim/S2L_LULC/non_urban/s2lam107_21...</td>\n",
       "      <td>nature_S2L_LULC</td>\n",
       "      <td>0</td>\n",
       "      <td>0.002083</td>\n",
       "      <td>../data/interim/S2L_LULC/non_urban/s2lam107_21...</td>\n",
       "      <td>7</td>\n",
       "    </tr>\n",
       "  </tbody>\n",
       "</table>\n",
       "<p>5682 rows × 6 columns</p>\n",
       "</div>"
      ],
      "text/plain": [
       "                                                   file  \\\n",
       "0     ../data/interim/youtube/NatureSoundscapes/6LpA...   \n",
       "1     ../data/interim/youtube/NomadicAmbience_nature...   \n",
       "2          ../data/interim/SONYC/audio-10/05_027168.pkl   \n",
       "3          ../data/interim/SONYC/audio-13/32_019485.pkl   \n",
       "4          ../data/interim/SONYC/audio-13/33_016321.pkl   \n",
       "...                                                 ...   \n",
       "5677  ../data/interim/GoogleAudioSet/Outside, urban ...   \n",
       "5678  ../data/interim/youtube/NatureSoundscapes/gEqK...   \n",
       "5679  ../data/interim/youtube/NatureSoundscapes/PFtx...   \n",
       "5680       ../data/interim/SONYC/audio-17/03_001923.pkl   \n",
       "5681  ../data/interim/S2L_LULC/non_urban/s2lam107_21...   \n",
       "\n",
       "                                     source  category    weight  \\\n",
       "0          nature_youtube/NatureSoundscapes         0  0.000479   \n",
       "1     nature_youtube/NomadicAmbience_nature         0  0.005714   \n",
       "2                                city_SONYC         1  0.000433   \n",
       "3                                city_SONYC         1  0.000433   \n",
       "4                                city_SONYC         1  0.000433   \n",
       "...                                     ...       ...       ...   \n",
       "5677                    city_GoogleAudioSet         1  0.005882   \n",
       "5678       nature_youtube/NatureSoundscapes         0  0.000479   \n",
       "5679       nature_youtube/NatureSoundscapes         0  0.000479   \n",
       "5680                             city_SONYC         1  0.000433   \n",
       "5681                        nature_S2L_LULC         0  0.002083   \n",
       "\n",
       "                                             file_group  fold  \n",
       "0                 youtube/NatureSoundscapes/6LpAnfislTc     6  \n",
       "1            youtube/NomadicAmbience_nature/wlCrnlQ5ofE     0  \n",
       "2          ../data/interim/SONYC/audio-10/05_027168.pkl     4  \n",
       "3          ../data/interim/SONYC/audio-13/32_019485.pkl     8  \n",
       "4          ../data/interim/SONYC/audio-13/33_016321.pkl     5  \n",
       "...                                                 ...   ...  \n",
       "5677  ../data/interim/GoogleAudioSet/Outside, urban ...     9  \n",
       "5678              youtube/NatureSoundscapes/gEqKnRu15bI     2  \n",
       "5679              youtube/NatureSoundscapes/PFtxRv6GcFw     8  \n",
       "5680       ../data/interim/SONYC/audio-17/03_001923.pkl     8  \n",
       "5681  ../data/interim/S2L_LULC/non_urban/s2lam107_21...     7  \n",
       "\n",
       "[5682 rows x 6 columns]"
      ]
     },
     "execution_count": 2,
     "metadata": {},
     "output_type": "execute_result"
    }
   ],
   "source": [
    "meta_df = pd.read_csv('../train_val_test_sgkf_Feb26_allFiles_sum1.csv', index_col=0)\n",
    "meta_df"
   ]
  },
  {
   "cell_type": "code",
   "execution_count": 3,
   "id": "297da86c",
   "metadata": {},
   "outputs": [],
   "source": [
    "def load_df_pkl(filename, indices):\n",
    "    import pickle\n",
    "    import pandas as pd\n",
    "    # open a file, where you stored the pickled data\n",
    "    file = open(filename, 'rb')\n",
    "\n",
    "    # dump information to that file\n",
    "    output = pickle.load(file)\n",
    "    df = output[indices]\n",
    "\n",
    "    # close the file\n",
    "    file.close()\n",
    "    return df"
   ]
  },
  {
   "cell_type": "code",
   "execution_count": 4,
   "id": "d548aa6f",
   "metadata": {},
   "outputs": [
    {
     "data": {
      "text/html": [
       "<div>\n",
       "<style scoped>\n",
       "    .dataframe tbody tr th:only-of-type {\n",
       "        vertical-align: middle;\n",
       "    }\n",
       "\n",
       "    .dataframe tbody tr th {\n",
       "        vertical-align: top;\n",
       "    }\n",
       "\n",
       "    .dataframe thead th {\n",
       "        text-align: right;\n",
       "    }\n",
       "</style>\n",
       "<table border=\"1\" class=\"dataframe\">\n",
       "  <thead>\n",
       "    <tr style=\"text-align: right;\">\n",
       "      <th></th>\n",
       "      <th>ZCR</th>\n",
       "      <th>MEANt</th>\n",
       "      <th>VARt</th>\n",
       "      <th>SKEWt</th>\n",
       "      <th>KURTt</th>\n",
       "      <th>LEQt</th>\n",
       "      <th>BGNt</th>\n",
       "      <th>SNRt</th>\n",
       "      <th>MED</th>\n",
       "      <th>Ht</th>\n",
       "      <th>...</th>\n",
       "      <th>H_gamma</th>\n",
       "      <th>H_GiniSimpson</th>\n",
       "      <th>RAOQ</th>\n",
       "      <th>AGI</th>\n",
       "      <th>ROItotal</th>\n",
       "      <th>ROIcover</th>\n",
       "      <th>category</th>\n",
       "      <th>fold</th>\n",
       "      <th>source</th>\n",
       "      <th>weight</th>\n",
       "    </tr>\n",
       "  </thead>\n",
       "  <tbody>\n",
       "    <tr>\n",
       "      <th>0</th>\n",
       "      <td>3168.3</td>\n",
       "      <td>-4.917383e-11</td>\n",
       "      <td>0.01</td>\n",
       "      <td>-0.038741</td>\n",
       "      <td>10.787897</td>\n",
       "      <td>73.020597</td>\n",
       "      <td>-10.896017</td>\n",
       "      <td>3.033336</td>\n",
       "      <td>0.285233</td>\n",
       "      <td>0.889860</td>\n",
       "      <td>...</td>\n",
       "      <td>37016.834367</td>\n",
       "      <td>0.990615</td>\n",
       "      <td>0.472085</td>\n",
       "      <td>1.495231</td>\n",
       "      <td>11</td>\n",
       "      <td>0.442122</td>\n",
       "      <td>0</td>\n",
       "      <td>6</td>\n",
       "      <td>nature_youtube/NatureSoundscapes</td>\n",
       "      <td>0.000479</td>\n",
       "    </tr>\n",
       "    <tr>\n",
       "      <th>1</th>\n",
       "      <td>3783.1</td>\n",
       "      <td>5.465001e-10</td>\n",
       "      <td>0.01</td>\n",
       "      <td>0.324149</td>\n",
       "      <td>33.784624</td>\n",
       "      <td>73.020601</td>\n",
       "      <td>-10.399343</td>\n",
       "      <td>1.977237</td>\n",
       "      <td>0.302018</td>\n",
       "      <td>0.802993</td>\n",
       "      <td>...</td>\n",
       "      <td>33267.856238</td>\n",
       "      <td>0.993769</td>\n",
       "      <td>0.461715</td>\n",
       "      <td>1.331546</td>\n",
       "      <td>27</td>\n",
       "      <td>2.633893</td>\n",
       "      <td>0</td>\n",
       "      <td>0</td>\n",
       "      <td>nature_youtube/NomadicAmbience_nature</td>\n",
       "      <td>0.005714</td>\n",
       "    </tr>\n",
       "    <tr>\n",
       "      <th>2</th>\n",
       "      <td>530.5</td>\n",
       "      <td>1.907349e-10</td>\n",
       "      <td>0.01</td>\n",
       "      <td>-0.000379</td>\n",
       "      <td>3.175302</td>\n",
       "      <td>73.020601</td>\n",
       "      <td>-13.041456</td>\n",
       "      <td>0.514603</td>\n",
       "      <td>0.222806</td>\n",
       "      <td>0.977961</td>\n",
       "      <td>...</td>\n",
       "      <td>2439.843419</td>\n",
       "      <td>0.878735</td>\n",
       "      <td>0.017234</td>\n",
       "      <td>1.220867</td>\n",
       "      <td>17</td>\n",
       "      <td>0.879848</td>\n",
       "      <td>1</td>\n",
       "      <td>4</td>\n",
       "      <td>city_SONYC</td>\n",
       "      <td>0.000433</td>\n",
       "    </tr>\n",
       "    <tr>\n",
       "      <th>3</th>\n",
       "      <td>374.6</td>\n",
       "      <td>6.139279e-10</td>\n",
       "      <td>0.01</td>\n",
       "      <td>-0.066683</td>\n",
       "      <td>2.703640</td>\n",
       "      <td>73.020597</td>\n",
       "      <td>-13.815996</td>\n",
       "      <td>0.538294</td>\n",
       "      <td>0.203798</td>\n",
       "      <td>0.978096</td>\n",
       "      <td>...</td>\n",
       "      <td>1994.414258</td>\n",
       "      <td>0.759264</td>\n",
       "      <td>0.019362</td>\n",
       "      <td>1.406525</td>\n",
       "      <td>8</td>\n",
       "      <td>0.528788</td>\n",
       "      <td>1</td>\n",
       "      <td>8</td>\n",
       "      <td>city_SONYC</td>\n",
       "      <td>0.000433</td>\n",
       "    </tr>\n",
       "    <tr>\n",
       "      <th>4</th>\n",
       "      <td>1087.4</td>\n",
       "      <td>-9.059906e-10</td>\n",
       "      <td>0.01</td>\n",
       "      <td>0.017096</td>\n",
       "      <td>2.939691</td>\n",
       "      <td>73.020597</td>\n",
       "      <td>-12.709298</td>\n",
       "      <td>0.335519</td>\n",
       "      <td>0.231492</td>\n",
       "      <td>0.977624</td>\n",
       "      <td>...</td>\n",
       "      <td>4914.901224</td>\n",
       "      <td>0.833037</td>\n",
       "      <td>0.119948</td>\n",
       "      <td>1.406073</td>\n",
       "      <td>41</td>\n",
       "      <td>6.454105</td>\n",
       "      <td>1</td>\n",
       "      <td>5</td>\n",
       "      <td>city_SONYC</td>\n",
       "      <td>0.000433</td>\n",
       "    </tr>\n",
       "    <tr>\n",
       "      <th>...</th>\n",
       "      <td>...</td>\n",
       "      <td>...</td>\n",
       "      <td>...</td>\n",
       "      <td>...</td>\n",
       "      <td>...</td>\n",
       "      <td>...</td>\n",
       "      <td>...</td>\n",
       "      <td>...</td>\n",
       "      <td>...</td>\n",
       "      <td>...</td>\n",
       "      <td>...</td>\n",
       "      <td>...</td>\n",
       "      <td>...</td>\n",
       "      <td>...</td>\n",
       "      <td>...</td>\n",
       "      <td>...</td>\n",
       "      <td>...</td>\n",
       "      <td>...</td>\n",
       "      <td>...</td>\n",
       "      <td>...</td>\n",
       "      <td>...</td>\n",
       "    </tr>\n",
       "    <tr>\n",
       "      <th>5677</th>\n",
       "      <td>1410.2</td>\n",
       "      <td>1.142919e-09</td>\n",
       "      <td>0.01</td>\n",
       "      <td>-0.012574</td>\n",
       "      <td>2.899899</td>\n",
       "      <td>73.020601</td>\n",
       "      <td>-11.393145</td>\n",
       "      <td>0.082236</td>\n",
       "      <td>0.269366</td>\n",
       "      <td>0.991767</td>\n",
       "      <td>...</td>\n",
       "      <td>10055.657141</td>\n",
       "      <td>0.946976</td>\n",
       "      <td>0.103472</td>\n",
       "      <td>1.284188</td>\n",
       "      <td>3</td>\n",
       "      <td>0.147583</td>\n",
       "      <td>1</td>\n",
       "      <td>9</td>\n",
       "      <td>city_GoogleAudioSet</td>\n",
       "      <td>0.005882</td>\n",
       "    </tr>\n",
       "    <tr>\n",
       "      <th>5678</th>\n",
       "      <td>540.6</td>\n",
       "      <td>-2.801418e-10</td>\n",
       "      <td>0.01</td>\n",
       "      <td>0.025844</td>\n",
       "      <td>3.292901</td>\n",
       "      <td>73.020601</td>\n",
       "      <td>-13.260077</td>\n",
       "      <td>0.605169</td>\n",
       "      <td>0.217268</td>\n",
       "      <td>0.976135</td>\n",
       "      <td>...</td>\n",
       "      <td>2395.371538</td>\n",
       "      <td>0.875839</td>\n",
       "      <td>0.012907</td>\n",
       "      <td>1.216855</td>\n",
       "      <td>4</td>\n",
       "      <td>1.195112</td>\n",
       "      <td>0</td>\n",
       "      <td>2</td>\n",
       "      <td>nature_youtube/NatureSoundscapes</td>\n",
       "      <td>0.000479</td>\n",
       "    </tr>\n",
       "    <tr>\n",
       "      <th>5679</th>\n",
       "      <td>5666.8</td>\n",
       "      <td>-7.987022e-10</td>\n",
       "      <td>0.01</td>\n",
       "      <td>0.023222</td>\n",
       "      <td>5.691379</td>\n",
       "      <td>73.020597</td>\n",
       "      <td>-11.640635</td>\n",
       "      <td>1.451397</td>\n",
       "      <td>0.261799</td>\n",
       "      <td>0.945991</td>\n",
       "      <td>...</td>\n",
       "      <td>44700.692220</td>\n",
       "      <td>0.992981</td>\n",
       "      <td>0.520530</td>\n",
       "      <td>1.713805</td>\n",
       "      <td>39</td>\n",
       "      <td>6.721639</td>\n",
       "      <td>0</td>\n",
       "      <td>8</td>\n",
       "      <td>nature_youtube/NatureSoundscapes</td>\n",
       "      <td>0.000479</td>\n",
       "    </tr>\n",
       "    <tr>\n",
       "      <th>5680</th>\n",
       "      <td>1297.4</td>\n",
       "      <td>-2.723932e-09</td>\n",
       "      <td>0.01</td>\n",
       "      <td>0.017762</td>\n",
       "      <td>3.133450</td>\n",
       "      <td>73.020601</td>\n",
       "      <td>-11.636633</td>\n",
       "      <td>0.474801</td>\n",
       "      <td>0.261920</td>\n",
       "      <td>0.982117</td>\n",
       "      <td>...</td>\n",
       "      <td>11274.696534</td>\n",
       "      <td>0.938413</td>\n",
       "      <td>0.119799</td>\n",
       "      <td>1.400830</td>\n",
       "      <td>3</td>\n",
       "      <td>0.261254</td>\n",
       "      <td>1</td>\n",
       "      <td>8</td>\n",
       "      <td>city_SONYC</td>\n",
       "      <td>0.000433</td>\n",
       "    </tr>\n",
       "    <tr>\n",
       "      <th>5681</th>\n",
       "      <td>5409.3</td>\n",
       "      <td>2.220273e-10</td>\n",
       "      <td>0.01</td>\n",
       "      <td>-0.158195</td>\n",
       "      <td>30.104304</td>\n",
       "      <td>73.020601</td>\n",
       "      <td>-13.065422</td>\n",
       "      <td>3.588058</td>\n",
       "      <td>0.222193</td>\n",
       "      <td>0.856828</td>\n",
       "      <td>...</td>\n",
       "      <td>41134.800048</td>\n",
       "      <td>0.950350</td>\n",
       "      <td>0.694419</td>\n",
       "      <td>1.322629</td>\n",
       "      <td>33</td>\n",
       "      <td>4.655471</td>\n",
       "      <td>0</td>\n",
       "      <td>7</td>\n",
       "      <td>nature_S2L_LULC</td>\n",
       "      <td>0.002083</td>\n",
       "    </tr>\n",
       "  </tbody>\n",
       "</table>\n",
       "<p>5682 rows × 64 columns</p>\n",
       "</div>"
      ],
      "text/plain": [
       "         ZCR         MEANt  VARt     SKEWt      KURTt       LEQt       BGNt  \\\n",
       "0     3168.3 -4.917383e-11  0.01 -0.038741  10.787897  73.020597 -10.896017   \n",
       "1     3783.1  5.465001e-10  0.01  0.324149  33.784624  73.020601 -10.399343   \n",
       "2      530.5  1.907349e-10  0.01 -0.000379   3.175302  73.020601 -13.041456   \n",
       "3      374.6  6.139279e-10  0.01 -0.066683   2.703640  73.020597 -13.815996   \n",
       "4     1087.4 -9.059906e-10  0.01  0.017096   2.939691  73.020597 -12.709298   \n",
       "...      ...           ...   ...       ...        ...        ...        ...   \n",
       "5677  1410.2  1.142919e-09  0.01 -0.012574   2.899899  73.020601 -11.393145   \n",
       "5678   540.6 -2.801418e-10  0.01  0.025844   3.292901  73.020601 -13.260077   \n",
       "5679  5666.8 -7.987022e-10  0.01  0.023222   5.691379  73.020597 -11.640635   \n",
       "5680  1297.4 -2.723932e-09  0.01  0.017762   3.133450  73.020601 -11.636633   \n",
       "5681  5409.3  2.220273e-10  0.01 -0.158195  30.104304  73.020601 -13.065422   \n",
       "\n",
       "          SNRt       MED        Ht  ...       H_gamma  H_GiniSimpson  \\\n",
       "0     3.033336  0.285233  0.889860  ...  37016.834367       0.990615   \n",
       "1     1.977237  0.302018  0.802993  ...  33267.856238       0.993769   \n",
       "2     0.514603  0.222806  0.977961  ...   2439.843419       0.878735   \n",
       "3     0.538294  0.203798  0.978096  ...   1994.414258       0.759264   \n",
       "4     0.335519  0.231492  0.977624  ...   4914.901224       0.833037   \n",
       "...        ...       ...       ...  ...           ...            ...   \n",
       "5677  0.082236  0.269366  0.991767  ...  10055.657141       0.946976   \n",
       "5678  0.605169  0.217268  0.976135  ...   2395.371538       0.875839   \n",
       "5679  1.451397  0.261799  0.945991  ...  44700.692220       0.992981   \n",
       "5680  0.474801  0.261920  0.982117  ...  11274.696534       0.938413   \n",
       "5681  3.588058  0.222193  0.856828  ...  41134.800048       0.950350   \n",
       "\n",
       "          RAOQ       AGI  ROItotal  ROIcover  category  fold  \\\n",
       "0     0.472085  1.495231        11  0.442122         0     6   \n",
       "1     0.461715  1.331546        27  2.633893         0     0   \n",
       "2     0.017234  1.220867        17  0.879848         1     4   \n",
       "3     0.019362  1.406525         8  0.528788         1     8   \n",
       "4     0.119948  1.406073        41  6.454105         1     5   \n",
       "...        ...       ...       ...       ...       ...   ...   \n",
       "5677  0.103472  1.284188         3  0.147583         1     9   \n",
       "5678  0.012907  1.216855         4  1.195112         0     2   \n",
       "5679  0.520530  1.713805        39  6.721639         0     8   \n",
       "5680  0.119799  1.400830         3  0.261254         1     8   \n",
       "5681  0.694419  1.322629        33  4.655471         0     7   \n",
       "\n",
       "                                     source    weight  \n",
       "0          nature_youtube/NatureSoundscapes  0.000479  \n",
       "1     nature_youtube/NomadicAmbience_nature  0.005714  \n",
       "2                                city_SONYC  0.000433  \n",
       "3                                city_SONYC  0.000433  \n",
       "4                                city_SONYC  0.000433  \n",
       "...                                     ...       ...  \n",
       "5677                    city_GoogleAudioSet  0.005882  \n",
       "5678       nature_youtube/NatureSoundscapes  0.000479  \n",
       "5679       nature_youtube/NatureSoundscapes  0.000479  \n",
       "5680                             city_SONYC  0.000433  \n",
       "5681                        nature_S2L_LULC  0.002083  \n",
       "\n",
       "[5682 rows x 64 columns]"
      ]
     },
     "execution_count": 4,
     "metadata": {},
     "output_type": "execute_result"
    }
   ],
   "source": [
    "df_list = []\n",
    "for index, row in meta_df.iterrows():\n",
    "    df_list.append(load_df_pkl(row['file'], indices='df_indices'))\n",
    "    \n",
    "df = pd.concat(df_list, ignore_index=True)\n",
    "df = pd.concat([df, meta_df[['category','fold','source','weight']]], axis=1)\n",
    "\n",
    "df"
   ]
  },
  {
   "cell_type": "code",
   "execution_count": 5,
   "id": "62d830df",
   "metadata": {},
   "outputs": [
    {
     "data": {
      "text/plain": [
       "source\n",
       "city_GoogleAudioSet                      1.0\n",
       "city_SONYC                               1.0\n",
       "city_youtube/NomadicAmbience_city        1.0\n",
       "nature_AmbisonicSoundLibrary             1.0\n",
       "nature_GoogleAudioSet                    1.0\n",
       "nature_S2L_LULC                          1.0\n",
       "nature_youtube/NatureSoundscapes         1.0\n",
       "nature_youtube/NomadicAmbience_nature    1.0\n",
       "Name: weight, dtype: float64"
      ]
     },
     "execution_count": 5,
     "metadata": {},
     "output_type": "execute_result"
    }
   ],
   "source": [
    "# check the weight\n",
    "df.groupby(['source'])['weight'].sum()"
   ]
  },
  {
   "cell_type": "code",
   "execution_count": 6,
   "id": "a7e11baa",
   "metadata": {},
   "outputs": [],
   "source": [
    "## data preprocessing\n",
    "def df_preproc(df):\n",
    "\n",
    "    # replacing the inf values by NaN\n",
    "    df.replace([np.inf, -np.inf], np.nan, inplace=True)\n",
    "\n",
    "    train_category = df[df['fold']<8]['category']\n",
    "    val_category = df[df['fold']==8]['category']\n",
    "    test_category = df[df['fold']==9]['category']\n",
    "\n",
    "    train_source = df[df['fold']<8]['source']\n",
    "    val_source = df[df['fold']==8]['source']\n",
    "    test_source = df[df['fold']==9]['source']\n",
    "    \n",
    "    train_weight = df[df['fold']<8]['weight']\n",
    "    val_weight = df[df['fold']==8]['weight']\n",
    "    test_weight = df[df['fold']==9]['weight']\n",
    "\n",
    "    train_df = df[df['fold']<8].drop(columns=['fold','category','source','weight'])\n",
    "    val_df = df[df['fold']==8].drop(columns=['fold','category','source','weight'])\n",
    "    test_df = df[df['fold']==9].drop(columns=['fold','category','source','weight'])\n",
    "\n",
    "    # replace the nan by mean\n",
    "    from sklearn.impute import SimpleImputer\n",
    "    from sklearn.preprocessing import StandardScaler\n",
    "    from sklearn.pipeline import Pipeline\n",
    "\n",
    "    transformer = Pipeline(steps=[\n",
    "           ('imputer', SimpleImputer(missing_values=np.nan, strategy='mean'))\n",
    "          ,('scaler', StandardScaler())\n",
    "    ])\n",
    "\n",
    "    transformer.fit(train_df)\n",
    "    train_df = pd.DataFrame(transformer.transform(train_df), columns=train_df.columns)\n",
    "    val_df = pd.DataFrame(transformer.transform(val_df), columns=val_df.columns)\n",
    "    test_df = pd.DataFrame(transformer.transform(test_df), columns=test_df.columns)\n",
    "    \n",
    "    return train_df, val_df, test_df, train_category, val_category, test_category, train_source, val_source, test_source, train_weight\n"
   ]
  },
  {
   "cell_type": "code",
   "execution_count": 7,
   "id": "b3b4f7cb",
   "metadata": {},
   "outputs": [],
   "source": [
    "train_df, val_df, test_df, train_category, val_category, test_category, train_source, val_source, test_source, train_weight = df_preproc(df)"
   ]
  },
  {
   "cell_type": "markdown",
   "id": "62a5fac2",
   "metadata": {},
   "source": [
    "# Shared model parameters"
   ]
  },
  {
   "cell_type": "code",
   "execution_count": 34,
   "id": "4457b53f",
   "metadata": {},
   "outputs": [],
   "source": [
    "# https://www.tensorflow.org/api_docs/python/tf/keras/Model#compile\n",
    "loss_func = tf.keras.losses.SparseCategoricalCrossentropy(from_logits=True)\n",
    "my_classes = ['city', 'nature']\n",
    "weighted_metrics=['accuracy'] # or []\n",
    "loss_weights=None # or None\n",
    "learning_rate=0.001\n",
    "\n",
    "Sequential_model = [\n",
    "    tf.keras.layers.Input(shape=(len(train_df.columns)), dtype=tf.float32),\n",
    "    tf.keras.layers.Dropout(.5),\n",
    "    tf.keras.layers.Dense(30, activation='relu'),\n",
    "#     tf.keras.layers.Dropout(.5),\n",
    "#     tf.keras.layers.Dense(30, activation='relu'),\n",
    "    tf.keras.layers.Dense(2)\n",
    "]\n",
    "\n",
    "callback = tf.keras.callbacks.EarlyStopping(monitor='loss',\n",
    "                                            patience=3,\n",
    "                                            restore_best_weights=True)"
   ]
  },
  {
   "cell_type": "markdown",
   "id": "b51c9663",
   "metadata": {},
   "source": [
    "# Raw indices"
   ]
  },
  {
   "cell_type": "code",
   "execution_count": 9,
   "id": "8455c2e8",
   "metadata": {},
   "outputs": [
    {
     "name": "stdout",
     "output_type": "stream",
     "text": [
      "Model: \"model\"\n",
      "_________________________________________________________________\n",
      " Layer (type)                Output Shape              Param #   \n",
      "=================================================================\n",
      " dropout (Dropout)           (None, 60)                0         \n",
      "                                                                 \n",
      " dense (Dense)               (None, 30)                1830      \n",
      "                                                                 \n",
      " dropout_1 (Dropout)         (None, 30)                0         \n",
      "                                                                 \n",
      " dense_1 (Dense)             (None, 2)                 62        \n",
      "                                                                 \n",
      "=================================================================\n",
      "Total params: 1,892\n",
      "Trainable params: 1,892\n",
      "Non-trainable params: 0\n",
      "_________________________________________________________________\n"
     ]
    },
    {
     "name": "stderr",
     "output_type": "stream",
     "text": [
      "2023-02-26 14:38:10.900936: I tensorflow/core/platform/cpu_feature_guard.cc:193] This TensorFlow binary is optimized with oneAPI Deep Neural Network Library (oneDNN) to use the following CPU instructions in performance-critical operations:  SSE4.1 SSE4.2 AVX AVX2 AVX512F AVX512_VNNI FMA\n",
      "To enable them in other operations, rebuild TensorFlow with the appropriate compiler flags.\n"
     ]
    }
   ],
   "source": [
    "# import the necessary packages\n",
    "\n",
    "tf.keras.backend.clear_session()\n",
    "tf.random.set_seed(23)\n",
    "np.random.seed(23)\n",
    "python_random.seed(23)\n",
    "\n",
    "\n",
    "model = tf.keras.Sequential(Sequential_model, name='model')\n",
    "\n",
    "model.summary()\n"
   ]
  },
  {
   "cell_type": "code",
   "execution_count": 10,
   "id": "1025d0e2",
   "metadata": {},
   "outputs": [
    {
     "name": "stdout",
     "output_type": "stream",
     "text": [
      "Epoch 1/20\n",
      "143/143 [==============================] - 1s 3ms/step - loss: 0.0013 - accuracy: 0.6547 - weighted_accuracy: 0.6194 - val_loss: 0.4659 - val_accuracy: 0.8381 - val_weighted_accuracy: 0.8381\n",
      "Epoch 2/20\n",
      "143/143 [==============================] - 0s 1ms/step - loss: 0.0012 - accuracy: 0.6899 - weighted_accuracy: 0.6493 - val_loss: 0.4451 - val_accuracy: 0.8416 - val_weighted_accuracy: 0.8416\n",
      "Epoch 3/20\n",
      "143/143 [==============================] - 0s 1ms/step - loss: 0.0010 - accuracy: 0.7195 - weighted_accuracy: 0.6766 - val_loss: 0.4243 - val_accuracy: 0.8559 - val_weighted_accuracy: 0.8559\n",
      "Epoch 4/20\n",
      "143/143 [==============================] - 0s 1ms/step - loss: 9.7657e-04 - accuracy: 0.7364 - weighted_accuracy: 0.6719 - val_loss: 0.4125 - val_accuracy: 0.8719 - val_weighted_accuracy: 0.8719\n",
      "Epoch 5/20\n",
      "143/143 [==============================] - 0s 1ms/step - loss: 8.8109e-04 - accuracy: 0.7654 - weighted_accuracy: 0.7084 - val_loss: 0.4152 - val_accuracy: 0.8843 - val_weighted_accuracy: 0.8843\n",
      "Epoch 6/20\n",
      "143/143 [==============================] - 0s 1ms/step - loss: 8.3640e-04 - accuracy: 0.7713 - weighted_accuracy: 0.7020 - val_loss: 0.4012 - val_accuracy: 0.8897 - val_weighted_accuracy: 0.8897\n",
      "Epoch 7/20\n",
      "143/143 [==============================] - 0s 1ms/step - loss: 8.3957e-04 - accuracy: 0.7847 - weighted_accuracy: 0.7098 - val_loss: 0.3992 - val_accuracy: 0.8790 - val_weighted_accuracy: 0.8790\n",
      "Epoch 8/20\n",
      "143/143 [==============================] - 0s 2ms/step - loss: 8.2818e-04 - accuracy: 0.7935 - weighted_accuracy: 0.7291 - val_loss: 0.3951 - val_accuracy: 0.8897 - val_weighted_accuracy: 0.8897\n",
      "Epoch 9/20\n",
      "143/143 [==============================] - 0s 1ms/step - loss: 7.8954e-04 - accuracy: 0.7871 - weighted_accuracy: 0.7157 - val_loss: 0.3925 - val_accuracy: 0.8879 - val_weighted_accuracy: 0.8879\n",
      "Epoch 10/20\n",
      "143/143 [==============================] - 0s 1ms/step - loss: 7.8097e-04 - accuracy: 0.8000 - weighted_accuracy: 0.7354 - val_loss: 0.3957 - val_accuracy: 0.8915 - val_weighted_accuracy: 0.8915\n",
      "Epoch 11/20\n",
      "143/143 [==============================] - 0s 2ms/step - loss: 8.1521e-04 - accuracy: 0.8047 - weighted_accuracy: 0.7273 - val_loss: 0.3882 - val_accuracy: 0.8950 - val_weighted_accuracy: 0.8950\n",
      "Epoch 12/20\n",
      "143/143 [==============================] - 0s 1ms/step - loss: 7.6899e-04 - accuracy: 0.8066 - weighted_accuracy: 0.7469 - val_loss: 0.3905 - val_accuracy: 0.8932 - val_weighted_accuracy: 0.8932\n",
      "Epoch 13/20\n",
      "143/143 [==============================] - 0s 1ms/step - loss: 7.6897e-04 - accuracy: 0.7974 - weighted_accuracy: 0.7381 - val_loss: 0.3933 - val_accuracy: 0.8915 - val_weighted_accuracy: 0.8915\n",
      "Epoch 14/20\n",
      "143/143 [==============================] - 0s 1ms/step - loss: 7.3274e-04 - accuracy: 0.8178 - weighted_accuracy: 0.7362 - val_loss: 0.3842 - val_accuracy: 0.8986 - val_weighted_accuracy: 0.8986\n",
      "Epoch 15/20\n",
      "143/143 [==============================] - 0s 1ms/step - loss: 7.2592e-04 - accuracy: 0.8139 - weighted_accuracy: 0.7442 - val_loss: 0.3822 - val_accuracy: 0.8932 - val_weighted_accuracy: 0.8932\n",
      "Epoch 16/20\n",
      "143/143 [==============================] - 0s 1ms/step - loss: 7.4142e-04 - accuracy: 0.8121 - weighted_accuracy: 0.7457 - val_loss: 0.3714 - val_accuracy: 0.8986 - val_weighted_accuracy: 0.8986\n",
      "Epoch 17/20\n",
      "143/143 [==============================] - 0s 1ms/step - loss: 7.6669e-04 - accuracy: 0.8224 - weighted_accuracy: 0.7509 - val_loss: 0.3735 - val_accuracy: 0.8986 - val_weighted_accuracy: 0.8986\n",
      "Epoch 18/20\n",
      "143/143 [==============================] - 0s 1ms/step - loss: 7.5917e-04 - accuracy: 0.8196 - weighted_accuracy: 0.7422 - val_loss: 0.3718 - val_accuracy: 0.8932 - val_weighted_accuracy: 0.8932\n"
     ]
    }
   ],
   "source": [
    "# the optimizer needs to be reset every time\n",
    "optimizer = tf.keras.optimizers.Adam(learning_rate=learning_rate)\n",
    "\n",
    "model.compile(loss=loss_func,\n",
    "              optimizer=optimizer,\n",
    "              weighted_metrics=weighted_metrics,\n",
    "              loss_weights=loss_weights,\n",
    "              metrics=['accuracy'])\n",
    "\n",
    "history = model.fit(x=train_df,\n",
    "                    y=train_category,\n",
    "                    epochs=20,\n",
    "                    validation_data=(val_df, val_category),\n",
    "                    callbacks=callback,\n",
    "                    sample_weight=train_weight)\n"
   ]
  },
  {
   "cell_type": "code",
   "execution_count": 11,
   "id": "3e498672",
   "metadata": {},
   "outputs": [
    {
     "name": "stdout",
     "output_type": "stream",
     "text": [
      "18/18 [==============================] - 0s 1ms/step - loss: 0.3849 - accuracy: 0.8706 - weighted_accuracy: 0.8706\n"
     ]
    }
   ],
   "source": [
    "loss, accuracy, w_acc = model.evaluate(x=test_df, y=test_category)\n"
   ]
  },
  {
   "cell_type": "code",
   "execution_count": 12,
   "id": "3daaa35e",
   "metadata": {},
   "outputs": [
    {
     "name": "stdout",
     "output_type": "stream",
     "text": [
      "18/18 [==============================] - 0s 1ms/step\n"
     ]
    },
    {
     "data": {
      "image/png": "[encoded data removed]",
      "text/plain": [
       "<Figure size 640x480 with 1 Axes>"
      ]
     },
     "metadata": {},
     "output_type": "display_data"
    }
   ],
   "source": [
    "from sklearn.metrics import accuracy_score\n",
    "\n",
    "test_source_df = pd.DataFrame({'source':test_source, 'category':test_category, 'pred':model.predict(test_df).argmax(axis=1)})\n",
    "acc_source = test_source_df.groupby(['source']).apply(lambda x: accuracy_score(x['category'], x['pred']))\n",
    "\n",
    "ax = acc_source.plot.barh()\n",
    "ax.axvline(x=0.5, color='k', linestyle='--')\n",
    "ax.set_xlim(0,1)\n",
    "plt.show()"
   ]
  },
  {
   "cell_type": "markdown",
   "id": "7b5c2cb1",
   "metadata": {},
   "source": [
    "# Background indices"
   ]
  },
  {
   "cell_type": "code",
   "execution_count": 13,
   "id": "65e24520",
   "metadata": {},
   "outputs": [],
   "source": [
    "df_list = []\n",
    "for index, row in meta_df.iterrows():\n",
    "    df_list.append(load_df_pkl(row['file'], indices='df_indices_bg'))\n",
    "\n",
    "df = pd.concat(df_list, ignore_index=True)\n",
    "df = pd.concat([df, meta_df[['category','fold','source','weight']]], axis=1)\n",
    "train_df, val_df, test_df, train_category, val_category, test_category, train_source, val_source, test_source, train_weight = df_preproc(df)"
   ]
  },
  {
   "cell_type": "code",
   "execution_count": 14,
   "id": "c9fbeb9b",
   "metadata": {},
   "outputs": [
    {
     "name": "stdout",
     "output_type": "stream",
     "text": [
      "Model: \"bg_model\"\n",
      "_________________________________________________________________\n",
      " Layer (type)                Output Shape              Param #   \n",
      "=================================================================\n",
      " dropout (Dropout)           (None, 60)                0         \n",
      "                                                                 \n",
      " dense (Dense)               (None, 30)                1830      \n",
      "                                                                 \n",
      " dropout_1 (Dropout)         (None, 30)                0         \n",
      "                                                                 \n",
      " dense_1 (Dense)             (None, 2)                 62        \n",
      "                                                                 \n",
      "=================================================================\n",
      "Total params: 1,892\n",
      "Trainable params: 1,892\n",
      "Non-trainable params: 0\n",
      "_________________________________________________________________\n"
     ]
    }
   ],
   "source": [
    "tf.keras.backend.clear_session()\n",
    "tf.random.set_seed(23)\n",
    "np.random.seed(23)\n",
    "python_random.seed(23)\n",
    "\n",
    "model = tf.keras.Sequential(Sequential_model, name='bg_model')\n",
    "\n",
    "model.summary()\n"
   ]
  },
  {
   "cell_type": "code",
   "execution_count": 15,
   "id": "4179d911",
   "metadata": {},
   "outputs": [
    {
     "name": "stdout",
     "output_type": "stream",
     "text": [
      "Epoch 1/20\n",
      "143/143 [==============================] - 1s 2ms/step - loss: 7.4493e-04 - accuracy: 0.8082 - weighted_accuracy: 0.7538 - val_loss: 0.3533 - val_accuracy: 0.8879 - val_weighted_accuracy: 0.8879\n",
      "Epoch 2/20\n",
      "143/143 [==============================] - 0s 1ms/step - loss: 7.7302e-04 - accuracy: 0.8139 - weighted_accuracy: 0.7567 - val_loss: 0.3507 - val_accuracy: 0.8861 - val_weighted_accuracy: 0.8861\n",
      "Epoch 3/20\n",
      "143/143 [==============================] - 0s 1ms/step - loss: 7.3297e-04 - accuracy: 0.8178 - weighted_accuracy: 0.7433 - val_loss: 0.3563 - val_accuracy: 0.8808 - val_weighted_accuracy: 0.8808\n",
      "Epoch 4/20\n",
      "143/143 [==============================] - 0s 1ms/step - loss: 7.5989e-04 - accuracy: 0.8163 - weighted_accuracy: 0.7351 - val_loss: 0.3589 - val_accuracy: 0.8808 - val_weighted_accuracy: 0.8808\n",
      "Epoch 5/20\n",
      "143/143 [==============================] - 0s 1ms/step - loss: 7.2679e-04 - accuracy: 0.8229 - weighted_accuracy: 0.7458 - val_loss: 0.3604 - val_accuracy: 0.8915 - val_weighted_accuracy: 0.8915\n",
      "Epoch 6/20\n",
      "143/143 [==============================] - 0s 2ms/step - loss: 7.1696e-04 - accuracy: 0.8288 - weighted_accuracy: 0.7515 - val_loss: 0.3423 - val_accuracy: 0.8897 - val_weighted_accuracy: 0.8897\n",
      "Epoch 7/20\n",
      "143/143 [==============================] - 0s 1ms/step - loss: 7.0975e-04 - accuracy: 0.8248 - weighted_accuracy: 0.7476 - val_loss: 0.3411 - val_accuracy: 0.8915 - val_weighted_accuracy: 0.8915\n",
      "Epoch 8/20\n",
      "143/143 [==============================] - 0s 1ms/step - loss: 7.3246e-04 - accuracy: 0.8312 - weighted_accuracy: 0.7484 - val_loss: 0.3359 - val_accuracy: 0.8915 - val_weighted_accuracy: 0.8915\n",
      "Epoch 9/20\n",
      "143/143 [==============================] - 0s 1ms/step - loss: 7.0706e-04 - accuracy: 0.8266 - weighted_accuracy: 0.7463 - val_loss: 0.3425 - val_accuracy: 0.8932 - val_weighted_accuracy: 0.8932\n",
      "Epoch 10/20\n",
      "143/143 [==============================] - 0s 1ms/step - loss: 7.3697e-04 - accuracy: 0.8327 - weighted_accuracy: 0.7678 - val_loss: 0.3375 - val_accuracy: 0.8879 - val_weighted_accuracy: 0.8879\n",
      "Epoch 11/20\n",
      "143/143 [==============================] - 0s 1ms/step - loss: 7.3074e-04 - accuracy: 0.8281 - weighted_accuracy: 0.7433 - val_loss: 0.3360 - val_accuracy: 0.8879 - val_weighted_accuracy: 0.8879\n",
      "Epoch 12/20\n",
      "143/143 [==============================] - 0s 1ms/step - loss: 7.1848e-04 - accuracy: 0.8341 - weighted_accuracy: 0.7659 - val_loss: 0.3339 - val_accuracy: 0.8879 - val_weighted_accuracy: 0.8879\n"
     ]
    }
   ],
   "source": [
    "optimizer = tf.keras.optimizers.Adam(learning_rate=learning_rate)\n",
    "\n",
    "model.compile(loss=loss_func,\n",
    "              optimizer=optimizer,\n",
    "              weighted_metrics=weighted_metrics,\n",
    "              loss_weights=loss_weights,\n",
    "              metrics=['accuracy'])\n",
    "\n",
    "history = model.fit(x=train_df,\n",
    "                    y=train_category,\n",
    "                    epochs=20,\n",
    "                    validation_data=(val_df, val_category),\n",
    "                    callbacks=callback,\n",
    "                    sample_weight=train_weight)\n"
   ]
  },
  {
   "cell_type": "code",
   "execution_count": 16,
   "id": "f44e6188",
   "metadata": {},
   "outputs": [
    {
     "name": "stdout",
     "output_type": "stream",
     "text": [
      "18/18 [==============================] - 0s 1ms/step - loss: 0.3627 - accuracy: 0.8688 - weighted_accuracy: 0.8688\n"
     ]
    }
   ],
   "source": [
    "loss, accuracy, w_acc = model.evaluate(x=test_df, y=test_category)\n"
   ]
  },
  {
   "cell_type": "code",
   "execution_count": 17,
   "id": "826d30a6",
   "metadata": {},
   "outputs": [
    {
     "name": "stdout",
     "output_type": "stream",
     "text": [
      "18/18 [==============================] - 0s 979us/step\n"
     ]
    },
    {
     "data": {
      "image/png": "[encoded data removed]",
      "text/plain": [
       "<Figure size 640x480 with 1 Axes>"
      ]
     },
     "metadata": {},
     "output_type": "display_data"
    }
   ],
   "source": [
    "from sklearn.metrics import accuracy_score\n",
    "\n",
    "test_source_df = pd.DataFrame({'source':test_source, 'category':test_category, 'pred':model.predict(test_df).argmax(axis=1)})\n",
    "acc_source = test_source_df.groupby(['source']).apply(lambda x: accuracy_score(x['category'], x['pred']))\n",
    "\n",
    "ax = acc_source.plot.barh()\n",
    "ax.axvline(x=0.5, color='k', linestyle='--')\n",
    "ax.set_xlim(0,1)\n",
    "plt.show()"
   ]
  },
  {
   "cell_type": "markdown",
   "id": "00182cc0",
   "metadata": {},
   "source": [
    "# Foreground indices"
   ]
  },
  {
   "cell_type": "code",
   "execution_count": 18,
   "id": "aaae76df",
   "metadata": {},
   "outputs": [],
   "source": [
    "df_list = []\n",
    "for index, row in meta_df.iterrows():\n",
    "    df_list.append(load_df_pkl(row['file'], indices='df_indices_fg'))\n",
    "\n",
    "df = pd.concat(df_list, ignore_index=True)\n",
    "df = pd.concat([df, meta_df[['category','fold','source','weight']]], axis=1)\n",
    "train_df, val_df, test_df, train_category, val_category, test_category, train_source, val_source, test_source, train_weight = df_preproc(df)"
   ]
  },
  {
   "cell_type": "code",
   "execution_count": 19,
   "id": "2236de08",
   "metadata": {},
   "outputs": [
    {
     "name": "stdout",
     "output_type": "stream",
     "text": [
      "Model: \"fg_model\"\n",
      "_________________________________________________________________\n",
      " Layer (type)                Output Shape              Param #   \n",
      "=================================================================\n",
      " dropout (Dropout)           (None, 60)                0         \n",
      "                                                                 \n",
      " dense (Dense)               (None, 30)                1830      \n",
      "                                                                 \n",
      " dropout_1 (Dropout)         (None, 30)                0         \n",
      "                                                                 \n",
      " dense_1 (Dense)             (None, 2)                 62        \n",
      "                                                                 \n",
      "=================================================================\n",
      "Total params: 1,892\n",
      "Trainable params: 1,892\n",
      "Non-trainable params: 0\n",
      "_________________________________________________________________\n"
     ]
    }
   ],
   "source": [
    "tf.keras.backend.clear_session()\n",
    "tf.random.set_seed(23)\n",
    "np.random.seed(23)\n",
    "python_random.seed(23)\n",
    "\n",
    "model = tf.keras.Sequential(Sequential_model, name='fg_model')\n",
    "\n",
    "model.summary()\n"
   ]
  },
  {
   "cell_type": "code",
   "execution_count": 20,
   "id": "98163e62",
   "metadata": {},
   "outputs": [
    {
     "name": "stdout",
     "output_type": "stream",
     "text": [
      "Epoch 1/20\n",
      "143/143 [==============================] - 1s 2ms/step - loss: 8.1854e-04 - accuracy: 0.7366 - weighted_accuracy: 0.7154 - val_loss: 0.4641 - val_accuracy: 0.7989 - val_weighted_accuracy: 0.7989\n",
      "Epoch 2/20\n",
      "143/143 [==============================] - 0s 1ms/step - loss: 8.3831e-04 - accuracy: 0.7289 - weighted_accuracy: 0.7038 - val_loss: 0.4674 - val_accuracy: 0.8238 - val_weighted_accuracy: 0.8238\n",
      "Epoch 3/20\n",
      "143/143 [==============================] - 0s 1ms/step - loss: 8.0417e-04 - accuracy: 0.7436 - weighted_accuracy: 0.7045 - val_loss: 0.4663 - val_accuracy: 0.8060 - val_weighted_accuracy: 0.8060\n",
      "Epoch 4/20\n",
      "143/143 [==============================] - 0s 1ms/step - loss: 8.2929e-04 - accuracy: 0.7522 - weighted_accuracy: 0.7088 - val_loss: 0.4704 - val_accuracy: 0.8167 - val_weighted_accuracy: 0.8167\n",
      "Epoch 5/20\n",
      "143/143 [==============================] - 0s 2ms/step - loss: 7.8047e-04 - accuracy: 0.7575 - weighted_accuracy: 0.7298 - val_loss: 0.4507 - val_accuracy: 0.8381 - val_weighted_accuracy: 0.8381\n",
      "Epoch 6/20\n",
      "143/143 [==============================] - 0s 1ms/step - loss: 8.0349e-04 - accuracy: 0.7518 - weighted_accuracy: 0.7099 - val_loss: 0.4586 - val_accuracy: 0.8149 - val_weighted_accuracy: 0.8149\n",
      "Epoch 7/20\n",
      "143/143 [==============================] - 0s 1ms/step - loss: 7.8853e-04 - accuracy: 0.7590 - weighted_accuracy: 0.7078 - val_loss: 0.4519 - val_accuracy: 0.8043 - val_weighted_accuracy: 0.8043\n",
      "Epoch 8/20\n",
      "143/143 [==============================] - 0s 1ms/step - loss: 7.6803e-04 - accuracy: 0.7570 - weighted_accuracy: 0.7163 - val_loss: 0.4405 - val_accuracy: 0.8238 - val_weighted_accuracy: 0.8238\n",
      "Epoch 9/20\n",
      "143/143 [==============================] - 0s 1ms/step - loss: 7.8723e-04 - accuracy: 0.7687 - weighted_accuracy: 0.7144 - val_loss: 0.4383 - val_accuracy: 0.8238 - val_weighted_accuracy: 0.8238\n",
      "Epoch 10/20\n",
      "143/143 [==============================] - 0s 1ms/step - loss: 7.7341e-04 - accuracy: 0.7698 - weighted_accuracy: 0.7232 - val_loss: 0.4287 - val_accuracy: 0.8363 - val_weighted_accuracy: 0.8363\n",
      "Epoch 11/20\n",
      "143/143 [==============================] - 0s 1ms/step - loss: 7.9278e-04 - accuracy: 0.7660 - weighted_accuracy: 0.7202 - val_loss: 0.4260 - val_accuracy: 0.8310 - val_weighted_accuracy: 0.8310\n"
     ]
    }
   ],
   "source": [
    "optimizer = tf.keras.optimizers.Adam(learning_rate=learning_rate)\n",
    "\n",
    "model.compile(loss=loss_func,\n",
    "              optimizer=optimizer,\n",
    "              weighted_metrics=weighted_metrics,\n",
    "              loss_weights=loss_weights,\n",
    "              metrics=['accuracy'])\n",
    "\n",
    "history = model.fit(x=train_df,\n",
    "                    y=train_category,\n",
    "                    epochs=20,\n",
    "                    validation_data=(val_df, val_category),\n",
    "                    callbacks=callback,\n",
    "                    sample_weight=train_weight)"
   ]
  },
  {
   "cell_type": "code",
   "execution_count": 21,
   "id": "986504da",
   "metadata": {},
   "outputs": [
    {
     "name": "stdout",
     "output_type": "stream",
     "text": [
      "18/18 [==============================] - 0s 1ms/step - loss: 0.4613 - accuracy: 0.8191 - weighted_accuracy: 0.8191\n"
     ]
    }
   ],
   "source": [
    "loss, accuracy, w_acc = model.evaluate(x=test_df, y=test_category)\n"
   ]
  },
  {
   "cell_type": "code",
   "execution_count": 22,
   "id": "0b7a5aeb",
   "metadata": {},
   "outputs": [
    {
     "name": "stdout",
     "output_type": "stream",
     "text": [
      "18/18 [==============================] - 0s 939us/step\n"
     ]
    },
    {
     "data": {
      "image/png": "[encoded data removed]",
      "text/plain": [
       "<Figure size 640x480 with 1 Axes>"
      ]
     },
     "metadata": {},
     "output_type": "display_data"
    }
   ],
   "source": [
    "from sklearn.metrics import accuracy_score\n",
    "\n",
    "test_source_df = pd.DataFrame({'source':test_source, 'category':test_category, 'pred':model.predict(test_df).argmax(axis=1)})\n",
    "acc_source = test_source_df.groupby(['source']).apply(lambda x: accuracy_score(x['category'], x['pred']))\n",
    "\n",
    "ax = acc_source.plot.barh()\n",
    "ax.axvline(x=0.5, color='k', linestyle='--')\n",
    "ax.set_xlim(0,1)\n",
    "plt.show()"
   ]
  },
  {
   "cell_type": "markdown",
   "id": "3c7238a3",
   "metadata": {},
   "source": [
    "# all 3 indices"
   ]
  },
  {
   "cell_type": "code",
   "execution_count": 30,
   "id": "f8d28e1c",
   "metadata": {},
   "outputs": [],
   "source": [
    "df_raw_list = []\n",
    "df_bg_list = []\n",
    "df_fg_list = []\n",
    "for index, row in meta_df.iterrows():\n",
    "    df_raw_list.append(load_df_pkl(row['file'], indices='df_indices'))\n",
    "    df_bg_list.append(load_df_pkl(row['file'], indices='df_indices_bg'))\n",
    "    df_fg_list.append(load_df_pkl(row['file'], indices='df_indices_fg'))\n",
    "\n",
    "df_raw = pd.concat(df_raw_list, ignore_index=True)\n",
    "df_raw.columns = list('raw_'+df_raw.columns)    \n",
    "\n",
    "df_bg = pd.concat(df_bg_list, ignore_index=True)\n",
    "df_bg.columns = list('bg_'+df_bg.columns)\n",
    "\n",
    "df_fg = pd.concat(df_fg_list, ignore_index=True)\n",
    "df_fg.columns = list('fg_'+df_fg.columns)"
   ]
  },
  {
   "cell_type": "code",
   "execution_count": 35,
   "id": "d23f008d",
   "metadata": {},
   "outputs": [],
   "source": [
    "df = pd.concat([df_raw, df_bg, df_fg, meta_df[['category','fold','source','weight']]], axis=1)\n",
    "train_df, val_df, test_df, train_category, val_category, test_category, train_source, val_source, test_source, train_weight = df_preproc(df)"
   ]
  },
  {
   "cell_type": "code",
   "execution_count": 36,
   "id": "0b19b0a6",
   "metadata": {},
   "outputs": [
    {
     "name": "stdout",
     "output_type": "stream",
     "text": [
      "Model: \"all_model\"\n",
      "_________________________________________________________________\n",
      " Layer (type)                Output Shape              Param #   \n",
      "=================================================================\n",
      " dropout (Dropout)           (None, 180)               0         \n",
      "                                                                 \n",
      " dense (Dense)               (None, 60)                10860     \n",
      "                                                                 \n",
      " dropout_1 (Dropout)         (None, 60)                0         \n",
      "                                                                 \n",
      " dense_1 (Dense)             (None, 2)                 122       \n",
      "                                                                 \n",
      "=================================================================\n",
      "Total params: 10,982\n",
      "Trainable params: 10,982\n",
      "Non-trainable params: 0\n",
      "_________________________________________________________________\n"
     ]
    }
   ],
   "source": [
    "tf.keras.backend.clear_session()\n",
    "tf.random.set_seed(23)\n",
    "np.random.seed(23)\n",
    "python_random.seed(23)\n",
    "\n",
    "model = tf.keras.Sequential([\n",
    "    tf.keras.layers.Input(shape=(len(train_df.columns)), dtype=tf.float32),\n",
    "    tf.keras.layers.Dropout(.5),\n",
    "    tf.keras.layers.Dense(60, activation='relu'),\n",
    "    tf.keras.layers.Dropout(.5),\n",
    "#     tf.keras.layers.Dense(30, activation='relu'),\n",
    "    tf.keras.layers.Dense(2)\n",
    "], name='all_model')\n",
    "\n",
    "model.summary()"
   ]
  },
  {
   "cell_type": "code",
   "execution_count": 37,
   "id": "3ba5b496",
   "metadata": {},
   "outputs": [
    {
     "name": "stdout",
     "output_type": "stream",
     "text": [
      "Epoch 1/20\n",
      "143/143 [==============================] - 1s 2ms/step - loss: 0.0014 - accuracy: 0.6725 - weighted_accuracy: 0.6340 - val_loss: 0.4264 - val_accuracy: 0.8345 - val_weighted_accuracy: 0.8345\n",
      "Epoch 2/20\n",
      "143/143 [==============================] - 0s 1ms/step - loss: 9.7444e-04 - accuracy: 0.7603 - weighted_accuracy: 0.7355 - val_loss: 0.3203 - val_accuracy: 0.8808 - val_weighted_accuracy: 0.8808\n",
      "Epoch 3/20\n",
      "143/143 [==============================] - 0s 2ms/step - loss: 9.4033e-04 - accuracy: 0.8005 - weighted_accuracy: 0.7393 - val_loss: 0.2784 - val_accuracy: 0.9004 - val_weighted_accuracy: 0.9004\n",
      "Epoch 4/20\n",
      "143/143 [==============================] - 0s 2ms/step - loss: 8.5001e-04 - accuracy: 0.8200 - weighted_accuracy: 0.7404 - val_loss: 0.2840 - val_accuracy: 0.9004 - val_weighted_accuracy: 0.9004\n",
      "Epoch 5/20\n",
      "143/143 [==============================] - 0s 2ms/step - loss: 7.5701e-04 - accuracy: 0.8235 - weighted_accuracy: 0.7497 - val_loss: 0.2912 - val_accuracy: 0.9021 - val_weighted_accuracy: 0.9021\n",
      "Epoch 6/20\n",
      "143/143 [==============================] - 0s 2ms/step - loss: 7.5104e-04 - accuracy: 0.8325 - weighted_accuracy: 0.7646 - val_loss: 0.2811 - val_accuracy: 0.9057 - val_weighted_accuracy: 0.9057\n",
      "Epoch 7/20\n",
      "143/143 [==============================] - 0s 2ms/step - loss: 7.3075e-04 - accuracy: 0.8457 - weighted_accuracy: 0.7575 - val_loss: 0.2883 - val_accuracy: 0.8968 - val_weighted_accuracy: 0.8968\n",
      "Epoch 8/20\n",
      "143/143 [==============================] - 0s 2ms/step - loss: 6.9763e-04 - accuracy: 0.8516 - weighted_accuracy: 0.7680 - val_loss: 0.2967 - val_accuracy: 0.8986 - val_weighted_accuracy: 0.8986\n",
      "Epoch 9/20\n",
      "143/143 [==============================] - 0s 2ms/step - loss: 7.0411e-04 - accuracy: 0.8420 - weighted_accuracy: 0.7631 - val_loss: 0.2942 - val_accuracy: 0.9093 - val_weighted_accuracy: 0.9093\n",
      "Epoch 10/20\n",
      "143/143 [==============================] - 0s 2ms/step - loss: 6.7971e-04 - accuracy: 0.8481 - weighted_accuracy: 0.7722 - val_loss: 0.2835 - val_accuracy: 0.9128 - val_weighted_accuracy: 0.9128\n",
      "Epoch 11/20\n",
      "143/143 [==============================] - 0s 2ms/step - loss: 6.6623e-04 - accuracy: 0.8501 - weighted_accuracy: 0.7681 - val_loss: 0.2769 - val_accuracy: 0.9110 - val_weighted_accuracy: 0.9110\n",
      "Epoch 12/20\n",
      "143/143 [==============================] - 0s 2ms/step - loss: 6.2443e-04 - accuracy: 0.8679 - weighted_accuracy: 0.7969 - val_loss: 0.2757 - val_accuracy: 0.9093 - val_weighted_accuracy: 0.9093\n",
      "Epoch 13/20\n",
      "143/143 [==============================] - 0s 2ms/step - loss: 6.3145e-04 - accuracy: 0.8611 - weighted_accuracy: 0.7985 - val_loss: 0.2677 - val_accuracy: 0.9110 - val_weighted_accuracy: 0.9110\n",
      "Epoch 14/20\n",
      "143/143 [==============================] - 0s 2ms/step - loss: 6.0749e-04 - accuracy: 0.8641 - weighted_accuracy: 0.7961 - val_loss: 0.2741 - val_accuracy: 0.8968 - val_weighted_accuracy: 0.8968\n",
      "Epoch 15/20\n",
      "143/143 [==============================] - 0s 1ms/step - loss: 6.2721e-04 - accuracy: 0.8624 - weighted_accuracy: 0.7914 - val_loss: 0.2723 - val_accuracy: 0.9093 - val_weighted_accuracy: 0.9093\n",
      "Epoch 16/20\n",
      "143/143 [==============================] - 0s 1ms/step - loss: 6.3107e-04 - accuracy: 0.8652 - weighted_accuracy: 0.8018 - val_loss: 0.2644 - val_accuracy: 0.9110 - val_weighted_accuracy: 0.9110\n",
      "Epoch 17/20\n",
      "143/143 [==============================] - 0s 1ms/step - loss: 6.1580e-04 - accuracy: 0.8648 - weighted_accuracy: 0.7973 - val_loss: 0.2655 - val_accuracy: 0.9164 - val_weighted_accuracy: 0.9164\n"
     ]
    }
   ],
   "source": [
    "optimizer = tf.keras.optimizers.Adam(learning_rate=learning_rate)\n",
    "\n",
    "model.compile(loss=loss_func,\n",
    "              optimizer=optimizer,\n",
    "              weighted_metrics=weighted_metrics,\n",
    "              loss_weights=loss_weights,\n",
    "              metrics=['accuracy'])\n",
    "\n",
    "history = model.fit(x=train_df,\n",
    "                    y=train_category,\n",
    "                    epochs=20,\n",
    "                    validation_data=(val_df, val_category),\n",
    "                    callbacks=callback,\n",
    "                    sample_weight=train_weight)"
   ]
  },
  {
   "cell_type": "code",
   "execution_count": 38,
   "id": "1ed8f101",
   "metadata": {},
   "outputs": [
    {
     "name": "stdout",
     "output_type": "stream",
     "text": [
      "18/18 [==============================] - 0s 1ms/step - loss: 0.2915 - accuracy: 0.8848 - weighted_accuracy: 0.8848\n"
     ]
    }
   ],
   "source": [
    "loss, accuracy, w_acc = model.evaluate(x=test_df, y=test_category)\n"
   ]
  },
  {
   "cell_type": "code",
   "execution_count": 39,
   "id": "5d77e888",
   "metadata": {},
   "outputs": [
    {
     "name": "stdout",
     "output_type": "stream",
     "text": [
      "18/18 [==============================] - 0s 980us/step\n"
     ]
    },
    {
     "data": {
      "image/png": "[encoded data removed]",
      "text/plain": [
       "<Figure size 640x480 with 1 Axes>"
      ]
     },
     "metadata": {},
     "output_type": "display_data"
    }
   ],
   "source": [
    "from sklearn.metrics import accuracy_score\n",
    "\n",
    "test_source_df = pd.DataFrame({'source':test_source, 'category':test_category, 'pred':model.predict(test_df).argmax(axis=1)})\n",
    "acc_source = test_source_df.groupby(['source']).apply(lambda x: accuracy_score(x['category'], x['pred']))\n",
    "\n",
    "ax = acc_source.plot.barh()\n",
    "ax.axvline(x=0.5, color='k', linestyle='--')\n",
    "ax.set_xlim(0,1)\n",
    "plt.show()"
   ]
  },
  {
   "cell_type": "code",
   "execution_count": null,
   "id": "d70411b3",
   "metadata": {},
   "outputs": [],
   "source": []
  }
 ],
 "metadata": {
  "kernelspec": {
   "display_name": "Python 3 (ipykernel)",
   "language": "python",
   "name": "python3"
  },
  "language_info": {
   "codemirror_mode": {
    "name": "ipython",
    "version": 3
   },
   "file_extension": ".py",
   "mimetype": "text/x-python",
   "name": "python",
   "nbconvert_exporter": "python",
   "pygments_lexer": "ipython3",
   "version": "3.8.16"
  }
 },
 "nbformat": 4,
 "nbformat_minor": 5
}
