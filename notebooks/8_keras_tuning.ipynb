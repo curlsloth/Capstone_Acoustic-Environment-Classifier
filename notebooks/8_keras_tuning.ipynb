{
 "cells": [
  {
   "cell_type": "code",
   "execution_count": null,
   "metadata": {
    "id": "Lf9wooRbilYQ"
   },
   "outputs": [],
   "source": [
    "import os\n",
    "\n",
    "from IPython import display\n",
    "import matplotlib.pyplot as plt\n",
    "import numpy as np\n",
    "import pandas as pd\n",
    "import random as python_random\n",
    "\n",
    "import tensorflow as tf\n",
    "import tensorflow_hub as hub\n",
    "from tensorflow.keras import regularizers\n",
    "import pickle"
   ]
  },
  {
   "cell_type": "code",
   "execution_count": null,
   "metadata": {
    "id": "2Fne5qV1iR5v"
   },
   "outputs": [],
   "source": [
    "aggregated_data = pickle.load( open( '../data/processed/20230304/aggregated_data', 'rb' ) )"
   ]
  },
  {
   "cell_type": "code",
   "execution_count": null,
   "metadata": {
    "id": "9qxWU2mniVHz"
   },
   "outputs": [],
   "source": [
    "[train_mps_raw_pca, valid_mps_raw_pca, test_mps_raw_pca,\n",
    "    train_mps_bg_pca, valid_mps_bg_pca, test_mps_bg_pca,\n",
    "    train_mps_fg_pca, valid_mps_fg_pca, test_mps_fg_pca,\n",
    "    train_indices_raw_pca, valid_indices_raw_pca, test_indices_raw_pca,\n",
    "    train_indices_bg_pca, valid_indices_bg_pca, test_indices_bg_pca,\n",
    "    train_indices_fg_pca, valid_indices_fg_pca, test_indices_fg_pca,\n",
    "    train_embedding_raw_pca, valid_embedding_raw_pca, test_embedding_raw_pca,\n",
    "    train_embedding_bg_pca, valid_embedding_bg_pca, test_embedding_bg_pca,\n",
    "    train_embedding_fg_pca, valid_embedding_fg_pca, test_embedding_fg_pca,\n",
    "    train_vgg_raw_pca, valid_vgg_raw_pca, test_vgg_raw_pca,\n",
    "    train_vgg_bg_pca, valid_vgg_bg_pca, test_vgg_bg_pca,\n",
    "    train_vgg_fg_pca, valid_vgg_fg_pca, test_vgg_fg_pca,\n",
    "    y_train, y_valid, y_test] = aggregated_data"
   ]
  },
  {
   "cell_type": "code",
   "execution_count": null,
   "metadata": {
    "id": "hYt1UQ3kiyYQ"
   },
   "outputs": [],
   "source": [
    "# # including YAMNet\n",
    "# train_data_raw = np.concatenate((train_mps_raw_pca, train_indices_raw_pca, train_embedding_raw_pca, train_vgg_raw_pca), axis = 1)\n",
    "# valid_data_raw = np.concatenate((valid_mps_raw_pca, valid_indices_raw_pca, valid_embedding_raw_pca, valid_vgg_raw_pca), axis = 1)\n",
    "# test_data_raw = np.concatenate((test_mps_raw_pca, test_indices_raw_pca, test_embedding_raw_pca, test_vgg_raw_pca), axis = 1)\n",
    "\n",
    "# train_data_bg = np.concatenate((train_mps_bg_pca, train_indices_bg_pca, train_embedding_bg_pca, train_vgg_bg_pca), axis = 1)\n",
    "# valid_data_bg = np.concatenate((valid_mps_bg_pca, valid_indices_bg_pca, valid_embedding_bg_pca, valid_vgg_bg_pca), axis = 1)\n",
    "# test_data_bg = np.concatenate((test_mps_bg_pca, test_indices_bg_pca, test_embedding_bg_pca, test_vgg_bg_pca), axis = 1)\n",
    "\n",
    "# train_data_fg = np.concatenate((train_mps_fg_pca, train_indices_fg_pca, train_embedding_fg_pca, train_vgg_fg_pca), axis = 1)\n",
    "# valid_data_fg = np.concatenate((valid_mps_fg_pca, valid_indices_fg_pca, valid_embedding_fg_pca, valid_vgg_fg_pca), axis = 1)\n",
    "# test_data_fg = np.concatenate((test_mps_fg_pca, test_indices_fg_pca, test_embedding_fg_pca, test_vgg_fg_pca), axis = 1)\n",
    "\n",
    "# train_data_all = np.concatenate((train_data_raw, train_data_bg, train_data_fg), axis = 1)\n",
    "# valid_data_all = np.concatenate((valid_data_raw, valid_data_bg, valid_data_fg), axis = 1)\n",
    "# test_data_all = np.concatenate((test_data_raw, test_data_bg, test_data_fg), axis = 1)"
   ]
  },
  {
   "cell_type": "code",
   "execution_count": null,
   "metadata": {},
   "outputs": [],
   "source": [
    "# excluding YAMNet\n",
    "train_data_raw = np.concatenate((train_mps_raw_pca, train_indices_raw_pca, train_vgg_raw_pca), axis = 1)\n",
    "valid_data_raw = np.concatenate((valid_mps_raw_pca, valid_indices_raw_pca, valid_vgg_raw_pca), axis = 1)\n",
    "test_data_raw = np.concatenate((test_mps_raw_pca, test_indices_raw_pca, test_vgg_raw_pca), axis = 1)\n",
    "\n",
    "train_data_bg = np.concatenate((train_mps_bg_pca, train_indices_bg_pca, train_vgg_bg_pca), axis = 1)\n",
    "valid_data_bg = np.concatenate((valid_mps_bg_pca, valid_indices_bg_pca, valid_vgg_bg_pca), axis = 1)\n",
    "test_data_bg = np.concatenate((test_mps_bg_pca, test_indices_bg_pca, test_vgg_bg_pca), axis = 1)\n",
    "\n",
    "train_data_fg = np.concatenate((train_mps_fg_pca, train_indices_fg_pca, train_vgg_fg_pca), axis = 1)\n",
    "valid_data_fg = np.concatenate((valid_mps_fg_pca, valid_indices_fg_pca, valid_vgg_fg_pca), axis = 1)\n",
    "test_data_fg = np.concatenate((test_mps_fg_pca, test_indices_fg_pca, test_vgg_fg_pca), axis = 1)\n",
    "\n",
    "train_data_all = np.concatenate((train_data_raw, train_data_bg, train_data_fg), axis = 1)\n",
    "valid_data_all = np.concatenate((valid_data_raw, valid_data_bg, valid_data_fg), axis = 1)\n",
    "test_data_all = np.concatenate((test_data_raw, test_data_bg, test_data_fg), axis = 1)"
   ]
  },
  {
   "cell_type": "code",
   "execution_count": 14,
   "metadata": {},
   "outputs": [
    {
     "data": {
      "text/plain": [
       "(11933, 158)"
      ]
     },
     "execution_count": 14,
     "metadata": {},
     "output_type": "execute_result"
    }
   ],
   "source": [
    "train_data_fg.shape"
   ]
  },
  {
   "cell_type": "code",
   "execution_count": 15,
   "metadata": {},
   "outputs": [
    {
     "data": {
      "text/plain": [
       "(11933, 474)"
      ]
     },
     "execution_count": 15,
     "metadata": {},
     "output_type": "execute_result"
    }
   ],
   "source": [
    "train_data_all.shape"
   ]
  },
  {
   "cell_type": "markdown",
   "metadata": {},
   "source": [
    "# Lazy predict"
   ]
  },
  {
   "cell_type": "code",
   "execution_count": null,
   "metadata": {},
   "outputs": [],
   "source": [
    "# from lazypredict.Supervised import LazyClassifier\n",
    "# clf = LazyClassifier(verbose=0, ignore_warnings=True, custom_metric=None)\n",
    "# models,predictions = clf.fit(train_vgg_bg_pca, valid_vgg_bg_pca, y_train, y_valid)\n",
    "# models"
   ]
  },
  {
   "cell_type": "markdown",
   "metadata": {
    "id": "XdHjNS8fnvej"
   },
   "source": [
    "# Tensorflow parameter tuning"
   ]
  },
  {
   "cell_type": "code",
   "execution_count": null,
   "metadata": {
    "id": "NAbJ5gLwnutk"
   },
   "outputs": [],
   "source": [
    "import tensorflow as tf\n",
    "from tensorflow import keras\n",
    "from tensorflow.keras import layers\n",
    "import keras_tuner as kt\n"
   ]
  },
  {
   "cell_type": "code",
   "execution_count": 16,
   "metadata": {
    "id": "TNtZTp_wn6Zc"
   },
   "outputs": [],
   "source": [
    "def build_model_narrow(hp):\n",
    "\n",
    "    model = keras.Sequential()\n",
    "    model.add(layers.Input(shape=(train_data_raw.shape[1]), dtype=tf.float32))\n",
    "    drop_rate = hp.Float(\"dr\", min_value=0.2, max_value=0.5, sampling=\"linear\")\n",
    "#         if hp.Boolean(\"dropout\"):\n",
    "    model.add(layers.Dropout(rate=drop_rate))\n",
    "    # Tune the number of layers.\n",
    "    for i in range(hp.Int(\"num_layers\", 1, 10)):\n",
    "        model.add(\n",
    "            layers.Dense(\n",
    "                # Tune number of units separately.\n",
    "                units=hp.Int(f\"units_{i}\", min_value=10, max_value=150, step=10),\n",
    "                activation=hp.Choice(\"activation\", [\"relu\", \"tanh\"]),\n",
    "            )\n",
    "        )\n",
    "        model.add(layers.Dropout(rate=drop_rate))\n",
    "    model.add(layers.Dense(2))\n",
    "    learning_rate = hp.Float(\"lr\", min_value=1e-4, max_value=1e-2, sampling=\"log\")\n",
    "    model.compile(\n",
    "        optimizer=keras.optimizers.Adam(learning_rate=learning_rate),\n",
    "        loss=keras.losses.SparseCategoricalCrossentropy(from_logits=True),\n",
    "        metrics=[\"accuracy\"],\n",
    "    )\n",
    "\n",
    "    return model\n",
    "\n"
   ]
  },
  {
   "cell_type": "code",
   "execution_count": 17,
   "metadata": {},
   "outputs": [],
   "source": [
    "def build_model_wide(hp):\n",
    "\n",
    "    model = keras.Sequential()\n",
    "    model.add(layers.Input(shape=(train_data_all.shape[1]), dtype=tf.float32))\n",
    "    drop_rate = hp.Float(\"dr\", min_value=0.2, max_value=0.5, sampling=\"linear\")\n",
    "#         if hp.Boolean(\"dropout\"):\n",
    "    model.add(layers.Dropout(rate=drop_rate))\n",
    "    # Tune the number of layers.\n",
    "    for i in range(hp.Int(\"num_layers\", 1, 10)):\n",
    "        model.add(\n",
    "            layers.Dense(\n",
    "                # Tune number of units separately.\n",
    "                units=hp.Int(f\"units_{i}\", min_value=10, max_value=500, step=50),\n",
    "                activation=hp.Choice(\"activation\", [\"relu\", \"tanh\"]),\n",
    "            )\n",
    "        )\n",
    "        model.add(layers.Dropout(rate=drop_rate))\n",
    "    model.add(layers.Dense(2))\n",
    "    learning_rate = hp.Float(\"lr\", min_value=1e-4, max_value=1e-2, sampling=\"log\")\n",
    "    model.compile(\n",
    "        optimizer=keras.optimizers.Adam(learning_rate=learning_rate),\n",
    "        loss=keras.losses.SparseCategoricalCrossentropy(from_logits=True),\n",
    "        metrics=[\"accuracy\"],\n",
    "    )\n",
    "\n",
    "    return model"
   ]
  },
  {
   "cell_type": "code",
   "execution_count": 20,
   "metadata": {
    "id": "x_Gu5t5w5BkJ"
   },
   "outputs": [],
   "source": [
    "tuner_raw = kt.BayesianOptimization(build_model_narrow,\n",
    "                     objective='val_accuracy',\n",
    "                     max_trials=100,\n",
    "                     num_initial_points=25,\n",
    "                     seed=23,\n",
    "#                      overwrite=True,\n",
    "                     directory='../model',\n",
    "#                      distribution_strategy=tf.distribute.MirroredStrategy(),\n",
    "                     project_name='kt_Bayesian_raw_0306_noYAMNet')\n",
    "\n",
    "tuner_bg = kt.BayesianOptimization(build_model_narrow,\n",
    "                     objective='val_accuracy',\n",
    "                     max_trials=100,\n",
    "                     num_initial_points=25,\n",
    "                     seed=23,\n",
    "#                      overwrite=True,\n",
    "                     directory='../model',\n",
    "#                      distribution_strategy=tf.distribute.MirroredStrategy(),\n",
    "                     project_name='kt_Bayesian_bg_0306_noYAMNet')\n",
    "\n",
    "tuner_fg = kt.BayesianOptimization(build_model_narrow,\n",
    "                     objective='val_accuracy',\n",
    "                     max_trials=100,\n",
    "                     num_initial_points=25,\n",
    "                     seed=23,\n",
    "#                      overwrite=True,\n",
    "                     directory='../model',\n",
    "#                      distribution_strategy=tf.distribute.MirroredStrategy(),\n",
    "                     project_name='kt_Bayesian_fg_0306_noYAMNet')\n",
    "\n",
    "tuner_all = kt.BayesianOptimization(build_model_wide,\n",
    "                     objective='val_accuracy',\n",
    "                     max_trials=100,\n",
    "                     num_initial_points=25,\n",
    "                     seed=23,\n",
    "#                      overwrite=True,\n",
    "                     directory='../model',\n",
    "#                      distribution_strategy=tf.distribute.MirroredStrategy(),\n",
    "                     project_name='kt_Bayesian_all_0306_noYAMNet')"
   ]
  },
  {
   "cell_type": "code",
   "execution_count": 21,
   "metadata": {
    "id": "1mjOQ8bdqpZp"
   },
   "outputs": [],
   "source": [
    "stop_early = tf.keras.callbacks.EarlyStopping(monitor='val_loss', patience=5)"
   ]
  },
  {
   "cell_type": "code",
   "execution_count": null,
   "metadata": {},
   "outputs": [
    {
     "name": "stdout",
     "output_type": "stream",
     "text": [
      "Trial 89 Complete [00h 00m 14s]\n",
      "val_accuracy: 0.7028839588165283\n",
      "\n",
      "Best val_accuracy So Far: 0.7216632962226868\n",
      "Total elapsed time: 00h 42m 25s\n",
      "\n",
      "Search: Running Trial #90\n",
      "\n",
      "Value             |Best Value So Far |Hyperparameter\n",
      "0.47199           |0.2               |dr\n",
      "1                 |1                 |num_layers\n",
      "10                |10                |units_0\n",
      "relu              |relu              |activation\n",
      "0.0001            |0.0001            |lr\n",
      "10                |460               |units_1\n",
      "10                |460               |units_2\n",
      "10                |10                |units_3\n",
      "10                |460               |units_4\n",
      "460               |10                |units_5\n",
      "10                |10                |units_6\n",
      "10                |460               |units_7\n",
      "460               |460               |units_8\n",
      "460               |460               |units_9\n",
      "\n",
      "Epoch 1/50\n",
      "373/373 [==============================] - 1s 2ms/step - loss: 1.6545 - accuracy: 0.5191 - val_loss: 0.9684 - val_accuracy: 0.5466\n",
      "Epoch 2/50\n",
      "373/373 [==============================] - 1s 1ms/step - loss: 1.4488 - accuracy: 0.5392 - val_loss: 0.8315 - val_accuracy: 0.5848\n",
      "Epoch 3/50\n",
      "373/373 [==============================] - 1s 1ms/step - loss: 1.2937 - accuracy: 0.5456 - val_loss: 0.7496 - val_accuracy: 0.6184\n",
      "Epoch 4/50\n",
      "373/373 [==============================] - 1s 2ms/step - loss: 1.1450 - accuracy: 0.5729 - val_loss: 0.6971 - val_accuracy: 0.6412\n",
      "Epoch 5/50\n",
      "373/373 [==============================] - 1s 2ms/step - loss: 1.0627 - accuracy: 0.5774 - val_loss: 0.6640 - val_accuracy: 0.6452\n",
      "Epoch 6/50\n",
      "373/373 [==============================] - 1s 2ms/step - loss: 1.0056 - accuracy: 0.5823 - val_loss: 0.6425 - val_accuracy: 0.6492\n",
      "Epoch 7/50\n",
      "373/373 [==============================] - 1s 2ms/step - loss: 0.9516 - accuracy: 0.5906 - val_loss: 0.6275 - val_accuracy: 0.6553\n",
      "Epoch 8/50\n",
      "373/373 [==============================] - 1s 1ms/step - loss: 0.8942 - accuracy: 0.5893 - val_loss: 0.6158 - val_accuracy: 0.6606\n",
      "Epoch 9/50\n",
      "373/373 [==============================] - 1s 2ms/step - loss: 0.8423 - accuracy: 0.5989 - val_loss: 0.6075 - val_accuracy: 0.6647\n",
      "Epoch 10/50\n",
      "373/373 [==============================] - 1s 1ms/step - loss: 0.8219 - accuracy: 0.6054 - val_loss: 0.6003 - val_accuracy: 0.6667\n",
      "Epoch 11/50\n",
      "373/373 [==============================] - 1s 1ms/step - loss: 0.7824 - accuracy: 0.6083 - val_loss: 0.5957 - val_accuracy: 0.6693\n",
      "Epoch 12/50\n",
      "373/373 [==============================] - 1s 1ms/step - loss: 0.7595 - accuracy: 0.6146 - val_loss: 0.5917 - val_accuracy: 0.6714\n",
      "Epoch 13/50\n",
      "373/373 [==============================] - 1s 1ms/step - loss: 0.7370 - accuracy: 0.6172 - val_loss: 0.5889 - val_accuracy: 0.6727\n",
      "Epoch 14/50\n",
      "373/373 [==============================] - 1s 1ms/step - loss: 0.7160 - accuracy: 0.6125 - val_loss: 0.5869 - val_accuracy: 0.6747\n",
      "Epoch 15/50\n",
      "373/373 [==============================] - 1s 1ms/step - loss: 0.6960 - accuracy: 0.6233 - val_loss: 0.5862 - val_accuracy: 0.6707\n",
      "Epoch 16/50\n",
      "373/373 [==============================] - 1s 1ms/step - loss: 0.6878 - accuracy: 0.6174 - val_loss: 0.5864 - val_accuracy: 0.6734\n",
      "Epoch 17/50\n",
      "373/373 [==============================] - 1s 1ms/step - loss: 0.6712 - accuracy: 0.6332 - val_loss: 0.5861 - val_accuracy: 0.6747\n",
      "Epoch 18/50\n",
      "373/373 [==============================] - 1s 1ms/step - loss: 0.6577 - accuracy: 0.6292 - val_loss: 0.5862 - val_accuracy: 0.6767\n",
      "Epoch 19/50\n",
      "373/373 [==============================] - 1s 1ms/step - loss: 0.6542 - accuracy: 0.6353 - val_loss: 0.5853 - val_accuracy: 0.6787\n",
      "Epoch 20/50\n",
      "373/373 [==============================] - 1s 1ms/step - loss: 0.6515 - accuracy: 0.6300 - val_loss: 0.5858 - val_accuracy: 0.6821\n",
      "Epoch 21/50\n",
      "373/373 [==============================] - 1s 1ms/step - loss: 0.6383 - accuracy: 0.6345 - val_loss: 0.5855 - val_accuracy: 0.6814\n",
      "Epoch 22/50\n",
      "373/373 [==============================] - 1s 1ms/step - loss: 0.6366 - accuracy: 0.6387 - val_loss: 0.5846 - val_accuracy: 0.6854\n",
      "Epoch 23/50\n",
      "373/373 [==============================] - 1s 2ms/step - loss: 0.6307 - accuracy: 0.6439 - val_loss: 0.5850 - val_accuracy: 0.6828\n",
      "Epoch 24/50\n",
      "373/373 [==============================] - 1s 1ms/step - loss: 0.6312 - accuracy: 0.6412 - val_loss: 0.5847 - val_accuracy: 0.6821\n",
      "Epoch 25/50\n",
      "373/373 [==============================] - 1s 1ms/step - loss: 0.6211 - accuracy: 0.6552 - val_loss: 0.5833 - val_accuracy: 0.6841\n",
      "Epoch 26/50\n",
      "373/373 [==============================] - 1s 1ms/step - loss: 0.6173 - accuracy: 0.6533 - val_loss: 0.5823 - val_accuracy: 0.6888\n",
      "Epoch 27/50\n",
      "373/373 [==============================] - 1s 2ms/step - loss: 0.6196 - accuracy: 0.6569 - val_loss: 0.5813 - val_accuracy: 0.6935\n",
      "Epoch 28/50\n",
      "373/373 [==============================] - 0s 1ms/step - loss: 0.6207 - accuracy: 0.6454 - val_loss: 0.5807 - val_accuracy: 0.6908\n",
      "Epoch 29/50\n",
      "373/373 [==============================] - 1s 1ms/step - loss: 0.6118 - accuracy: 0.6544 - val_loss: 0.5796 - val_accuracy: 0.6888\n",
      "Epoch 30/50\n",
      "373/373 [==============================] - 1s 2ms/step - loss: 0.6101 - accuracy: 0.6604 - val_loss: 0.5789 - val_accuracy: 0.6888\n",
      "Epoch 31/50\n",
      "373/373 [==============================] - 1s 1ms/step - loss: 0.6079 - accuracy: 0.6566 - val_loss: 0.5783 - val_accuracy: 0.6895\n",
      "Epoch 32/50\n",
      "373/373 [==============================] - 1s 1ms/step - loss: 0.6114 - accuracy: 0.6540 - val_loss: 0.5785 - val_accuracy: 0.6881\n",
      "Epoch 33/50\n",
      "373/373 [==============================] - 1s 2ms/step - loss: 0.6046 - accuracy: 0.6593 - val_loss: 0.5772 - val_accuracy: 0.6881\n",
      "Epoch 34/50\n",
      "373/373 [==============================] - 1s 2ms/step - loss: 0.6003 - accuracy: 0.6647 - val_loss: 0.5754 - val_accuracy: 0.6922\n",
      "Epoch 35/50\n",
      "373/373 [==============================] - 1s 2ms/step - loss: 0.6054 - accuracy: 0.6612 - val_loss: 0.5759 - val_accuracy: 0.6901\n",
      "Epoch 36/50\n",
      "373/373 [==============================] - 1s 1ms/step - loss: 0.6027 - accuracy: 0.6645 - val_loss: 0.5751 - val_accuracy: 0.6901\n",
      "Epoch 37/50\n",
      "373/373 [==============================] - 1s 2ms/step - loss: 0.6008 - accuracy: 0.6694 - val_loss: 0.5745 - val_accuracy: 0.6908\n",
      "Epoch 38/50\n",
      "373/373 [==============================] - 1s 2ms/step - loss: 0.5982 - accuracy: 0.6692 - val_loss: 0.5740 - val_accuracy: 0.6908\n",
      "Epoch 39/50\n",
      "373/373 [==============================] - 1s 2ms/step - loss: 0.6028 - accuracy: 0.6666 - val_loss: 0.5738 - val_accuracy: 0.6901\n",
      "Epoch 40/50\n",
      "373/373 [==============================] - 1s 2ms/step - loss: 0.5956 - accuracy: 0.6682 - val_loss: 0.5729 - val_accuracy: 0.6895\n",
      "Epoch 41/50\n",
      "373/373 [==============================] - 1s 2ms/step - loss: 0.5958 - accuracy: 0.6700 - val_loss: 0.5725 - val_accuracy: 0.6908\n",
      "Epoch 42/50\n",
      "373/373 [==============================] - 1s 1ms/step - loss: 0.5972 - accuracy: 0.6696 - val_loss: 0.5722 - val_accuracy: 0.6908\n",
      "Epoch 43/50\n",
      "373/373 [==============================] - 1s 1ms/step - loss: 0.5941 - accuracy: 0.6707 - val_loss: 0.5712 - val_accuracy: 0.6962\n",
      "Epoch 44/50\n",
      "373/373 [==============================] - 1s 1ms/step - loss: 0.5944 - accuracy: 0.6733 - val_loss: 0.5708 - val_accuracy: 0.6962\n",
      "Epoch 45/50\n",
      "373/373 [==============================] - 1s 1ms/step - loss: 0.5926 - accuracy: 0.6686 - val_loss: 0.5700 - val_accuracy: 0.6942\n",
      "Epoch 46/50\n",
      "373/373 [==============================] - 1s 2ms/step - loss: 0.5964 - accuracy: 0.6662 - val_loss: 0.5701 - val_accuracy: 0.6942\n",
      "Epoch 47/50\n",
      "373/373 [==============================] - 1s 2ms/step - loss: 0.5945 - accuracy: 0.6694 - val_loss: 0.5699 - val_accuracy: 0.6948\n",
      "Epoch 48/50\n",
      "373/373 [==============================] - 1s 2ms/step - loss: 0.5915 - accuracy: 0.6759 - val_loss: 0.5696 - val_accuracy: 0.6935\n",
      "Epoch 49/50\n",
      "361/373 [============================>.] - ETA: 0s - loss: 0.5954 - accuracy: 0.6753"
     ]
    }
   ],
   "source": [
    "tuner_all.search(train_data_all, y_train, epochs=50, validation_data=(valid_data_all, y_valid), callbacks=[stop_early], use_multiprocessing=True)"
   ]
  },
  {
   "cell_type": "code",
   "execution_count": null,
   "metadata": {
    "colab": {
     "base_uri": "https://localhost:8080/"
    },
    "id": "7JMqwp6fqvUi",
    "outputId": "3c1079c0-1f3f-4917-8363-cb1b269c26ec"
   },
   "outputs": [],
   "source": [
    "tuner_raw.search(train_data_raw, y_train, epochs=50, validation_data=(valid_data_raw, y_valid), callbacks=[stop_early], use_multiprocessing=True)"
   ]
  },
  {
   "cell_type": "code",
   "execution_count": null,
   "metadata": {
    "colab": {
     "base_uri": "https://localhost:8080/",
     "height": 1000
    },
    "id": "WB0ar_NJNvTo",
    "outputId": "8031003a-9996-4735-e672-507666562056"
   },
   "outputs": [],
   "source": [
    "tuner_bg.search(train_data_bg, y_train, epochs=50, validation_data=(valid_data_bg, y_valid), callbacks=[stop_early], use_multiprocessing=True)"
   ]
  },
  {
   "cell_type": "code",
   "execution_count": null,
   "metadata": {
    "id": "hY6yptDENxeQ"
   },
   "outputs": [],
   "source": [
    "tuner_fg.search(train_data_fg, y_train, epochs=50, validation_data=(valid_data_fg, y_valid), callbacks=[stop_early], use_multiprocessing=True)"
   ]
  },
  {
   "cell_type": "code",
   "execution_count": null,
   "metadata": {},
   "outputs": [],
   "source": [
    "tuner_raw.results_summary(1)"
   ]
  },
  {
   "cell_type": "code",
   "execution_count": null,
   "metadata": {},
   "outputs": [],
   "source": [
    "tuner_bg.results_summary(1)"
   ]
  },
  {
   "cell_type": "code",
   "execution_count": null,
   "metadata": {},
   "outputs": [],
   "source": []
  }
 ],
 "metadata": {
  "accelerator": "GPU",
  "colab": {
   "machine_shape": "hm",
   "provenance": []
  },
  "gpuClass": "standard",
  "kernelspec": {
   "display_name": "Python 3 (ipykernel)",
   "language": "python",
   "name": "python3"
  },
  "language_info": {
   "codemirror_mode": {
    "name": "ipython",
    "version": 3
   },
   "file_extension": ".py",
   "mimetype": "text/x-python",
   "name": "python",
   "nbconvert_exporter": "python",
   "pygments_lexer": "ipython3",
   "version": "3.8.16"
  }
 },
 "nbformat": 4,
 "nbformat_minor": 1
}
