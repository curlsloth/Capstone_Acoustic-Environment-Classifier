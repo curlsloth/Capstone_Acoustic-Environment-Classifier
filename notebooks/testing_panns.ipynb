{
 "cells": [
  {
   "cell_type": "code",
   "execution_count": 2,
   "id": "f071189c",
   "metadata": {},
   "outputs": [
    {
     "name": "stderr",
     "output_type": "stream",
     "text": [
      "/Users/andrewchang/opt/anaconda3/envs/AcousticEnv/lib/python3.8/site-packages/tqdm/auto.py:22: TqdmWarning: IProgress not found. Please update jupyter and ipywidgets. See https://ipywidgets.readthedocs.io/en/stable/user_install.html\n",
      "  from .autonotebook import tqdm as notebook_tqdm\n",
      "--2023-03-06 15:34:16--  http://storage.googleapis.com/us_audioset/youtube_corpus/v1/csv/class_labels_indices.csv\n",
      "Resolving storage.googleapis.com (storage.googleapis.com)... 2607:f8b0:4004:c06::80, 2607:f8b0:4004:c09::80, 2607:f8b0:4004:c1b::80, ...\n",
      "Connecting to storage.googleapis.com (storage.googleapis.com)|2607:f8b0:4004:c06::80|:80... connected.\n",
      "HTTP request sent, awaiting response... 200 OK\n",
      "Length: 14675 (14K) [application/octet-stream]\n",
      "Saving to: ‘/Users/andrewchang/panns_data/class_labels_indices.csv’\n",
      "\n",
      "     0K .......... ....                                       100%  878K=0.02s\n",
      "\n",
      "2023-03-06 15:34:16 (878 KB/s) - ‘/Users/andrewchang/panns_data/class_labels_indices.csv’ saved [14675/14675]\n",
      "\n"
     ]
    }
   ],
   "source": [
    "import librosa\n",
    "import panns_inference\n",
    "from panns_inference import AudioTagging, SoundEventDetection, labels"
   ]
  },
  {
   "cell_type": "code",
   "execution_count": 4,
   "id": "5b08a151",
   "metadata": {},
   "outputs": [
    {
     "data": {
      "text/html": [
       "<div>\n",
       "<style scoped>\n",
       "    .dataframe tbody tr th:only-of-type {\n",
       "        vertical-align: middle;\n",
       "    }\n",
       "\n",
       "    .dataframe tbody tr th {\n",
       "        vertical-align: top;\n",
       "    }\n",
       "\n",
       "    .dataframe thead th {\n",
       "        text-align: right;\n",
       "    }\n",
       "</style>\n",
       "<table border=\"1\" class=\"dataframe\">\n",
       "  <thead>\n",
       "    <tr style=\"text-align: right;\">\n",
       "      <th></th>\n",
       "      <th>file</th>\n",
       "      <th>source</th>\n",
       "      <th>category</th>\n",
       "      <th>weight</th>\n",
       "      <th>fold</th>\n",
       "    </tr>\n",
       "  </thead>\n",
       "  <tbody>\n",
       "    <tr>\n",
       "      <th>0</th>\n",
       "      <td>../data/interim/GoogleAudioSet_unbalanced_list...</td>\n",
       "      <td>Google_city</td>\n",
       "      <td>1</td>\n",
       "      <td>1</td>\n",
       "      <td>0</td>\n",
       "    </tr>\n",
       "    <tr>\n",
       "      <th>1</th>\n",
       "      <td>../data/interim/GoogleAudioSet_unbalanced_list...</td>\n",
       "      <td>Google_city</td>\n",
       "      <td>1</td>\n",
       "      <td>1</td>\n",
       "      <td>8</td>\n",
       "    </tr>\n",
       "    <tr>\n",
       "      <th>2</th>\n",
       "      <td>../data/interim/GoogleAudioSet_unbalanced_list...</td>\n",
       "      <td>Google_nature</td>\n",
       "      <td>0</td>\n",
       "      <td>1</td>\n",
       "      <td>5</td>\n",
       "    </tr>\n",
       "    <tr>\n",
       "      <th>3</th>\n",
       "      <td>../data/interim/GoogleAudioSet_unbalanced_list...</td>\n",
       "      <td>Google_city</td>\n",
       "      <td>1</td>\n",
       "      <td>1</td>\n",
       "      <td>1</td>\n",
       "    </tr>\n",
       "    <tr>\n",
       "      <th>4</th>\n",
       "      <td>../data/interim/GoogleAudioSet_unbalanced_list...</td>\n",
       "      <td>Google_city</td>\n",
       "      <td>1</td>\n",
       "      <td>1</td>\n",
       "      <td>1</td>\n",
       "    </tr>\n",
       "    <tr>\n",
       "      <th>...</th>\n",
       "      <td>...</td>\n",
       "      <td>...</td>\n",
       "      <td>...</td>\n",
       "      <td>...</td>\n",
       "      <td>...</td>\n",
       "    </tr>\n",
       "    <tr>\n",
       "      <th>13662</th>\n",
       "      <td>../data/interim/GoogleAudioSet_unbalanced_list...</td>\n",
       "      <td>Google_city</td>\n",
       "      <td>1</td>\n",
       "      <td>1</td>\n",
       "      <td>5</td>\n",
       "    </tr>\n",
       "    <tr>\n",
       "      <th>13663</th>\n",
       "      <td>../data/interim/GoogleAudioSet_unbalanced_list...</td>\n",
       "      <td>Google_city</td>\n",
       "      <td>1</td>\n",
       "      <td>1</td>\n",
       "      <td>3</td>\n",
       "    </tr>\n",
       "    <tr>\n",
       "      <th>13664</th>\n",
       "      <td>../data/interim/GoogleAudioSet_unbalanced_list...</td>\n",
       "      <td>Google_city</td>\n",
       "      <td>1</td>\n",
       "      <td>1</td>\n",
       "      <td>8</td>\n",
       "    </tr>\n",
       "    <tr>\n",
       "      <th>13665</th>\n",
       "      <td>../data/interim/GoogleAudioSet_unbalanced_list...</td>\n",
       "      <td>Google_city</td>\n",
       "      <td>1</td>\n",
       "      <td>1</td>\n",
       "      <td>8</td>\n",
       "    </tr>\n",
       "    <tr>\n",
       "      <th>13666</th>\n",
       "      <td>../data/interim/GoogleAudioSet_unbalanced_list...</td>\n",
       "      <td>Google_city</td>\n",
       "      <td>1</td>\n",
       "      <td>1</td>\n",
       "      <td>0</td>\n",
       "    </tr>\n",
       "  </tbody>\n",
       "</table>\n",
       "<p>13667 rows × 5 columns</p>\n",
       "</div>"
      ],
      "text/plain": [
       "                                                    file         source  \\\n",
       "0      ../data/interim/GoogleAudioSet_unbalanced_list...    Google_city   \n",
       "1      ../data/interim/GoogleAudioSet_unbalanced_list...    Google_city   \n",
       "2      ../data/interim/GoogleAudioSet_unbalanced_list...  Google_nature   \n",
       "3      ../data/interim/GoogleAudioSet_unbalanced_list...    Google_city   \n",
       "4      ../data/interim/GoogleAudioSet_unbalanced_list...    Google_city   \n",
       "...                                                  ...            ...   \n",
       "13662  ../data/interim/GoogleAudioSet_unbalanced_list...    Google_city   \n",
       "13663  ../data/interim/GoogleAudioSet_unbalanced_list...    Google_city   \n",
       "13664  ../data/interim/GoogleAudioSet_unbalanced_list...    Google_city   \n",
       "13665  ../data/interim/GoogleAudioSet_unbalanced_list...    Google_city   \n",
       "13666  ../data/interim/GoogleAudioSet_unbalanced_list...    Google_city   \n",
       "\n",
       "       category  weight  fold  \n",
       "0             1       1     0  \n",
       "1             1       1     8  \n",
       "2             0       1     5  \n",
       "3             1       1     1  \n",
       "4             1       1     1  \n",
       "...         ...     ...   ...  \n",
       "13662         1       1     5  \n",
       "13663         1       1     3  \n",
       "13664         1       1     8  \n",
       "13665         1       1     8  \n",
       "13666         1       1     0  \n",
       "\n",
       "[13667 rows x 5 columns]"
      ]
     },
     "execution_count": 4,
     "metadata": {},
     "output_type": "execute_result"
    }
   ],
   "source": [
    "import numpy as np\n",
    "import pandas as pd\n",
    "import random as python_random\n",
    "df_all = pd.read_csv('../train_val_test_split/train_val_test_GoogleAudioSet.csv', index_col=0)\n",
    "df_all"
   ]
  },
  {
   "cell_type": "code",
   "execution_count": 23,
   "id": "dac35f2d",
   "metadata": {},
   "outputs": [],
   "source": [
    "import pickle\n",
    "    \n",
    "file = open(df_all.loc[0,'file'], 'rb')\n",
    "output = pickle.load(file)\n",
    "wav_raw = output['y']\n",
    "wav_bg = output['bg_y']\n",
    "wav_fg = output['fg_y']"
   ]
  },
  {
   "cell_type": "code",
   "execution_count": 28,
   "id": "bfc5d938",
   "metadata": {},
   "outputs": [
    {
     "data": {
      "text/plain": [
       "(149778,)"
      ]
     },
     "execution_count": 28,
     "metadata": {},
     "output_type": "execute_result"
    }
   ],
   "source": [
    "wav_raw.shape"
   ]
  },
  {
   "cell_type": "code",
   "execution_count": 27,
   "id": "95b570a6",
   "metadata": {},
   "outputs": [
    {
     "data": {
      "text/plain": [
       "(3, 149778)"
      ]
     },
     "execution_count": 27,
     "metadata": {},
     "output_type": "execute_result"
    }
   ],
   "source": [
    "wav_all = np.stack([wav_raw, wav_bg, wav_fg], axis=0)\n",
    "wav_all.shape"
   ]
  },
  {
   "cell_type": "code",
   "execution_count": 25,
   "id": "e0529d80",
   "metadata": {},
   "outputs": [
    {
     "name": "stdout",
     "output_type": "stream",
     "text": [
      "Checkpoint path: /Users/andrewchang/panns_data/Cnn14_mAP=0.431.pth\n",
      "Using CPU.\n"
     ]
    }
   ],
   "source": [
    "at = AudioTagging(checkpoint_path=None, device='cuda')"
   ]
  },
  {
   "cell_type": "code",
   "execution_count": 10,
   "id": "b89693f2",
   "metadata": {},
   "outputs": [
    {
     "data": {
      "text/plain": [
       "(1, 149778)"
      ]
     },
     "execution_count": 10,
     "metadata": {},
     "output_type": "execute_result"
    }
   ],
   "source": [
    "# wav_raw = wav_raw[None, :]\n",
    "# wav_raw.shape"
   ]
  },
  {
   "cell_type": "code",
   "execution_count": 30,
   "id": "d223f014",
   "metadata": {},
   "outputs": [],
   "source": [
    "import time"
   ]
  },
  {
   "cell_type": "code",
   "execution_count": 35,
   "id": "de1939ec",
   "metadata": {},
   "outputs": [
    {
     "name": "stdout",
     "output_type": "stream",
     "text": [
      "0.17624807357788086\n"
     ]
    }
   ],
   "source": [
    "start_time = time.time()\n",
    "(clipwise_output, embedding) = at.inference(wav_raw[None, :])\n",
    "print(time.time()-start_time)"
   ]
  },
  {
   "cell_type": "code",
   "execution_count": 36,
   "id": "720e7ae2",
   "metadata": {},
   "outputs": [
    {
     "name": "stdout",
     "output_type": "stream",
     "text": [
      "0.2648899555206299\n"
     ]
    }
   ],
   "source": [
    "start_time = time.time()\n",
    "(clipwise_output, embedding) = at.inference(wav_all)\n",
    "print(time.time()-start_time)"
   ]
  },
  {
   "cell_type": "code",
   "execution_count": 38,
   "id": "e8d7ede5",
   "metadata": {},
   "outputs": [
    {
     "data": {
      "text/plain": [
       "(3, 527)"
      ]
     },
     "execution_count": 38,
     "metadata": {},
     "output_type": "execute_result"
    }
   ],
   "source": [
    "clipwise_output.shape"
   ]
  },
  {
   "cell_type": "code",
   "execution_count": 13,
   "id": "e619add4",
   "metadata": {},
   "outputs": [
    {
     "data": {
      "text/plain": [
       "(1, 2048)"
      ]
     },
     "execution_count": 13,
     "metadata": {},
     "output_type": "execute_result"
    }
   ],
   "source": [
    "embedding.shape"
   ]
  },
  {
   "cell_type": "code",
   "execution_count": 21,
   "id": "69c4ae4a",
   "metadata": {},
   "outputs": [
    {
     "data": {
      "text/plain": [
       "527"
      ]
     },
     "execution_count": 21,
     "metadata": {},
     "output_type": "execute_result"
    }
   ],
   "source": [
    "len(at.labels)"
   ]
  },
  {
   "cell_type": "code",
   "execution_count": null,
   "id": "33502c9a",
   "metadata": {},
   "outputs": [],
   "source": []
  }
 ],
 "metadata": {
  "kernelspec": {
   "display_name": "Python 3 (ipykernel)",
   "language": "python",
   "name": "python3"
  },
  "language_info": {
   "codemirror_mode": {
    "name": "ipython",
    "version": 3
   },
   "file_extension": ".py",
   "mimetype": "text/x-python",
   "name": "python",
   "nbconvert_exporter": "python",
   "pygments_lexer": "ipython3",
   "version": "3.8.16"
  }
 },
 "nbformat": 4,
 "nbformat_minor": 5
}
